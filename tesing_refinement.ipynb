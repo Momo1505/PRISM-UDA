{
 "cells": [
  {
   "cell_type": "code",
   "execution_count": 1,
   "id": "248e2916",
   "metadata": {
    "ExecuteTime": {
     "end_time": "2025-05-08T14:20:46.577299Z",
     "start_time": "2025-05-08T14:20:41.757459Z"
    }
   },
   "outputs": [
    {
     "name": "stderr",
     "output_type": "stream",
     "text": [
      "/home/sow/venv/prism-uda/lib/python3.8/site-packages/tqdm/auto.py:21: TqdmWarning: IProgress not found. Please update jupyter and ipywidgets. See https://ipywidgets.readthedocs.io/en/stable/user_install.html\n",
      "  from .autonotebook import tqdm as notebook_tqdm\n"
     ]
    }
   ],
   "source": [
    "from torch.utils.data import Dataset,DataLoader\n",
    "import torch\n",
    "from torch import tensor\n",
    "import torch.nn as nn\n",
    "import torch.nn.functional as F\n",
    "import glob\n",
    "import os\n",
    "from functools import partial\n",
    "from PIL import Image\n",
    "import matplotlib.pyplot as plt\n",
    "from torchvision import transforms\n",
    "from torch import optim\n",
    "from mmseg.models.uda.swinir_backbone import MGDNRefinement\n",
    "from mmseg.models.uda.refinement import EncodeDecode\n",
    "from tqdm import tqdm\n",
    "import numpy as np\n",
    "from refinement_module import UNet\n",
    "from torch.optim.lr_scheduler import OneCycleLR\n",
    "import random\n",
    "from models import Refine\n",
    "from Datasets import RefinementDataset"
   ]
  },
  {
   "cell_type": "code",
   "execution_count": 2,
   "id": "2d8bf93e",
   "metadata": {},
   "outputs": [],
   "source": [
    "class WeiHDataset(Dataset):\n",
    "    def __init__(self,train_data_root=\"data/WeiH/\",val_train_root=\"data/I3/\",mode=\"train\"):\n",
    "        super().__init__()\n",
    "        if mode == \"train\":\n",
    "            sam_mode = \"sam\"\n",
    "            self.sam_paths = glob.glob(os.path.join(train_data_root,sam_mode,\"*_pseudoTrainIds.png\"),recursive=True)\n",
    "            self.labels = list(map(partial(self.transform_to_label),self.sam_paths))\n",
    "\n",
    "        elif mode == \"val\":\n",
    "            sam_mode = \"sam\"\n",
    "            self.sam_paths = glob.glob(os.path.join(val_train_root,sam_mode,\"*_pseudoTrainIds.png\"),recursive=True)\n",
    "            self.labels = list(map(partial(self.transform_to_label),self.sam_paths))[:5000]\n",
    "\n",
    "    def transform_to_label(self,path:str):\n",
    "        path = path.replace(\"sam\",\"labels\")\n",
    "        label_path = path.replace(\"_pseudoTrainIds.png\",\"_labelTrainIds.png\")\n",
    "        return label_path\n",
    "\n",
    "    def __len__(self):\n",
    "        return len(self.labels)\n",
    "\n",
    "    def open_image(self, path):\n",
    "        img = Image.open(path).convert(\"P\")\n",
    "\n",
    "        img = np.array(img)\n",
    "        img.setflags(write=True)\n",
    "\n",
    "        return tensor(img).unsqueeze(0)\n",
    "\n",
    "    def __getitem__(self, index):\n",
    "        sam_image = self.open_image(self.sam_paths[index])\n",
    "        gt_image  = self.open_image(self.labels[index])\n",
    "        return sam_image*255, gt_image"
   ]
  },
  {
   "cell_type": "code",
   "execution_count": 3,
   "id": "be248554",
   "metadata": {},
   "outputs": [],
   "source": [
    "ds = WeiHDataset(mode=\"val\")"
   ]
  },
  {
   "cell_type": "code",
   "execution_count": 4,
   "id": "688a80a4",
   "metadata": {},
   "outputs": [],
   "source": [
    "a = ds[1][0].float().unsqueeze(0)"
   ]
  },
  {
   "cell_type": "code",
   "execution_count": 5,
   "id": "73086dca",
   "metadata": {},
   "outputs": [
    {
     "data": {
      "text/plain": [
       "torch.Size([1, 1, 256, 256])"
      ]
     },
     "execution_count": 5,
     "metadata": {},
     "output_type": "execute_result"
    }
   ],
   "source": [
    "a.shape"
   ]
  },
  {
   "cell_type": "code",
   "execution_count": 6,
   "id": "7dc3515b",
   "metadata": {},
   "outputs": [
    {
     "data": {
      "text/plain": [
       "torch.Size([1, 256, 256])"
      ]
     },
     "execution_count": 6,
     "metadata": {},
     "output_type": "execute_result"
    }
   ],
   "source": [
    "ds[1][1].shape"
   ]
  },
  {
   "cell_type": "code",
   "execution_count": 7,
   "id": "b8a611e3",
   "metadata": {},
   "outputs": [],
   "source": [
    "model = MGDNRefinement()"
   ]
  },
  {
   "cell_type": "code",
   "execution_count": 8,
   "id": "4878e7e3",
   "metadata": {},
   "outputs": [
    {
     "data": {
      "text/plain": [
       "torch.Size([1, 19, 256, 256])"
      ]
     },
     "execution_count": 8,
     "metadata": {},
     "output_type": "execute_result"
    }
   ],
   "source": [
    "model(a,a).shape"
   ]
  },
  {
   "cell_type": "code",
   "execution_count": 9,
   "id": "a461f5ce",
   "metadata": {},
   "outputs": [
    {
     "data": {
      "text/plain": [
       "<matplotlib.image.AxesImage at 0x7f4acceb00a0>"
      ]
     },
     "execution_count": 9,
     "metadata": {},
     "output_type": "execute_result"
    },
    {
     "data": {
      "image/png": "[encoded data removed]",
      "text/plain": [
       "<Figure size 640x480 with 1 Axes>"
      ]
     },
     "metadata": {},
     "output_type": "display_data"
    }
   ],
   "source": [
    "plt.imshow(a.squeeze())"
   ]
  },
  {
   "cell_type": "code",
   "execution_count": 10,
   "id": "db7166d8",
   "metadata": {
    "ExecuteTime": {
     "end_time": "2025-05-08T14:20:46.955637Z",
     "start_time": "2025-05-08T14:20:46.827477Z"
    }
   },
   "outputs": [],
   "source": [
    "def compute_iou(preds:torch.Tensor,gt:torch.Tensor,num_classes=2,ignore_index=255):\n",
    "    mask = gt != ignore_index\n",
    "    preds = preds[mask]\n",
    "    gt = gt[mask]\n",
    "\n",
    "    iou_list = []\n",
    "\n",
    "    for cls in range(num_classes):\n",
    "        cls_in_preds = preds == cls\n",
    "        cls_in_gt = gt == cls\n",
    "\n",
    "        intersection = (cls_in_preds & cls_in_gt).sum().item()\n",
    "        union = (cls_in_preds | cls_in_gt).sum().item()\n",
    "\n",
    "        if union == 0:\n",
    "            iou_list.append(0)\n",
    "            continue  # this class is not present in gt\n",
    "\n",
    "        iou = intersection / union\n",
    "        iou_list.append(iou)\n",
    "\n",
    "    if not iou_list:\n",
    "        raise ValueError(\"No class found in this predictions\")\n",
    "    return sum(iou_list) / len(iou_list)\n",
    "\n",
    "def plot(pl:torch.Tensor,\n",
    "         sam:torch.Tensor,\n",
    "         preds:torch.Tensor,\n",
    "         gt:torch.Tensor,\n",
    "         epoch,\n",
    "         batch_id,\n",
    "         model_name,\n",
    "         dataset_type,mask_type\n",
    "         ):\n",
    "    if batch_id % 200==0:\n",
    "        pl = pl.squeeze().detach().cpu().numpy()\n",
    "        sam = sam.squeeze().detach().cpu().numpy()\n",
    "        preds = preds.squeeze().detach().cpu().numpy()\n",
    "        gt = gt.squeeze().detach().cpu().numpy()\n",
    "\n",
    "        fig, axes = plt.subplots(nrows=1, ncols=4, figsize=(16, 4))\n",
    "\n",
    "        axes[0].imshow(pl)\n",
    "        axes[0].set_title(\"Pseudo label de l'EMA\")\n",
    "\n",
    "        axes[1].imshow(sam)\n",
    "        axes[1].set_title(\"SAM\")\n",
    "\n",
    "        axes[2].imshow(preds)\n",
    "        axes[2].set_title(\"Prédictions du raffineur\")\n",
    "\n",
    "        axes[3].imshow(gt)\n",
    "        axes[3].set_title(\"Ground truth\")\n",
    "\n",
    "        plt.tight_layout()\n",
    "\n",
    "        os.makedirs(f\"refinement_results/{model_name}_train_on_{dataset_type}_mask_type_{mask_type}/debug\", exist_ok=True)\n",
    "        plt.savefig(f\"refinement_results/{model_name}_train_on_{dataset_type}_mask_type_{mask_type}/debug/{epoch}_{batch_id}.png\")\n",
    "        plt.close(fig)\n",
    "\n",
    "def save_metrics(train_losses,val_losses,train_m_iou,val_m_iou,model_name,dataset_type,mask_type):\n",
    "    plt.figure(figsize=(12, 5))\n",
    "    plt.subplot(1, 2, 1)\n",
    "    plt.plot(train_losses, label=\"Train Loss\")\n",
    "    plt.plot(val_losses, label=\"Val Loss\")\n",
    "    plt.legend()\n",
    "    plt.title(\"Loss\")\n",
    "\n",
    "    plt.subplot(1, 2, 2)\n",
    "    plt.plot(train_m_iou, label=\"Train mIoU\")\n",
    "    plt.plot(val_m_iou, label=\"Val mIoU\")\n",
    "    plt.legend()\n",
    "    plt.title(\"Mean IoU\")\n",
    "    plt.savefig(f\"refinement_results/{model_name}_train_on_{dataset_type}_mask_type_{mask_type}/metrics.png\")\n",
    "    plt.close()\n",
    "\n",
    "\n",
    "def one_batch(model,model_name,epoch,device,\n",
    "              batch,batch_id,\n",
    "              optimizer:optim.Optimizer,\n",
    "              loss_function:nn.CrossEntropyLoss,\n",
    "              dataset_type:str,mask_type,\n",
    "              on_training=True):\n",
    "    model.train() if on_training else model.eval()\n",
    "    if dataset_type == \"i3\":\n",
    "        pl,sam,gt = batch\n",
    "        pl,sam,gt = pl.float(),sam.float(),gt.long()\n",
    "        pl,sam,gt = pl.to(device),sam.to(device),gt.to(device)\n",
    "        preds = model(pl,sam)\n",
    "    else :\n",
    "        sam,gt = batch\n",
    "        sam,gt = sam.float(),gt.long()\n",
    "        sam,gt = sam.to(device),gt.to(device)\n",
    "        preds = model(sam,sam) \n",
    "    loss = loss_function(preds,gt.squeeze(1))\n",
    "    if on_training:\n",
    "        optimizer.zero_grad()\n",
    "        loss.backward()\n",
    "        optimizer.step()\n",
    "\n",
    "    preds = preds.argmax(dim=1)\n",
    "\n",
    "    iou = compute_iou(preds,gt.squeeze(1))\n",
    "\n",
    "    if not on_training :\n",
    "        if dataset_type == \"i3\":\n",
    "            plot(pl,sam,preds,gt,epoch,batch_id,model_name,dataset_type,mask_type)\n",
    "        else :\n",
    "            plot(sam,sam,preds,gt,epoch,batch_id,model_name,dataset_type,mask_type)\n",
    "\n",
    "    return loss.item(), iou\n",
    "\n",
    "\n",
    "def one_epoch(model,model_name,epoch,device,\n",
    "              dataloader: DataLoader,\n",
    "              optimizer:optim.Optimizer,\n",
    "              loss_function:nn.CrossEntropyLoss,\n",
    "              dataset_type:str,mask_type,\n",
    "              on_training=True):\n",
    "    train_loss = 0\n",
    "    m_iou = 0\n",
    "    N = 0\n",
    "    for batch_id,batch in enumerate(dataloader):\n",
    "        loss,iou = one_batch(model=model,model_name=model_name,mask_type=mask_type,epoch=epoch,device=device,batch=batch,batch_id=batch_id,optimizer=optimizer,dataset_type=dataset_type, loss_function=loss_function,on_training=on_training)\n",
    "        if batch_id % 100 == 0: \n",
    "            print(\"train_loss = \",loss,\" epoch = \",epoch,\" batch_id = \",batch_id)\n",
    "        train_loss = train_loss + loss\n",
    "        m_iou = m_iou + iou\n",
    "        N += 1\n",
    "    return train_loss / N, m_iou / N\n",
    "\n",
    "def train(model,max_epochs,lr,train_dl,val_dl,model_name,dataset_type,mask_type):\n",
    "    train_losses = []\n",
    "    val_losses = []\n",
    "    train_m_iou = []\n",
    "    val_m_iou = []\n",
    "    device = \"cuda\" #if torch.cuda.is_available() else \"cpu\"\n",
    "    best_val_iou = 1000\n",
    "\n",
    "    model = model.to(device)\n",
    "    optimizer = optim.AdamW(model.parameters(),lr=lr)\n",
    "    weight = torch.tensor([1.,5.],device=device)  \n",
    "    loss_function = nn.CrossEntropyLoss(ignore_index=255)\n",
    "    progress_bar = tqdm(range(max_epochs))\n",
    "\n",
    "    if dataset_type == \"i3\":\n",
    "        train_dataset = \"i3\"\n",
    "        val_dataset = \"i3\"\n",
    "    else:\n",
    "        train_dataset = \"weih\"\n",
    "        val_dataset = \"weih\"\n",
    "    for epoch in progress_bar:\n",
    "        train_loss, train_iou = one_epoch(model=model,model_name=model_name,mask_type=mask_type,epoch=epoch,device=device,dataloader=train_dl,optimizer=optimizer,dataset_type=train_dataset,loss_function=loss_function,on_training=True)\n",
    "        train_losses.append(train_loss)\n",
    "        train_m_iou.append(train_iou)\n",
    "        with torch.no_grad():\n",
    "            val_loss, val_iou = one_epoch(model=model,model_name=model_name,mask_type=mask_type,epoch=epoch,device=device,dataloader=val_dl,optimizer=optimizer,dataset_type=val_dataset,loss_function=loss_function,on_training=False)\n",
    "            val_losses.append(val_loss)\n",
    "            val_m_iou.append(val_iou)\n",
    "        progress_bar.set_postfix(dict(train_loss=train_loss,train_iou=train_iou,val_loss=val_loss,val_iou=val_iou))\n",
    "        # save losses and IoU\n",
    "        save_metrics(train_losses,val_losses,train_m_iou,val_m_iou,model_name,dataset_type,mask_type=mask_type)\n",
    "        if val_iou < best_val_iou:\n",
    "            best_val_iou = val_iou\n",
    "            torch.save({\n",
    "                'epoch': epoch,\n",
    "                'model_state_dict': model.state_dict(),\n",
    "                'optimizer_state_dict': optimizer.state_dict(),\n",
    "                'val_iou': val_iou\n",
    "            }, f\"refinement_results/{model_name}_train_on_{dataset_type}_mask_type_{mask_type}/best_checkpoint.pth\")"
   ]
  },
  {
   "cell_type": "code",
   "execution_count": 11,
   "id": "e0bc46ea9a659314",
   "metadata": {
    "ExecuteTime": {
     "end_time": "2025-05-08T14:20:47.068240Z",
     "start_time": "2025-05-08T14:20:46.970106Z"
    }
   },
   "outputs": [],
   "source": [
    "train_ds = RefinementDataset(mode=\"train\",)\n",
    "val_ds = RefinementDataset(mode=\"val\",)\n",
    "train_dl = DataLoader(train_ds,2,True,num_workers=8)\n",
    "val_dl = DataLoader(val_ds,1,False,num_workers=8)"
   ]
  },
  {
   "cell_type": "code",
   "execution_count": 12,
   "id": "0dec965b",
   "metadata": {},
   "outputs": [
    {
     "data": {
      "text/plain": [
       "<matplotlib.image.AxesImage at 0x7f4acc5c1700>"
      ]
     },
     "execution_count": 12,
     "metadata": {},
     "output_type": "execute_result"
    },
    {
     "data": {
      "image/png": "[encoded data removed]",
      "text/plain": [
       "<Figure size 640x480 with 1 Axes>"
      ]
     },
     "metadata": {},
     "output_type": "display_data"
    }
   ],
   "source": [
    "plt.imshow(train_ds[0][0].squeeze())"
   ]
  },
  {
   "cell_type": "code",
   "execution_count": 13,
   "id": "f4c1e52015d068c7",
   "metadata": {
    "ExecuteTime": {
     "end_time": "2025-05-08T14:20:47.089077Z",
     "start_time": "2025-05-08T14:20:47.081528Z"
    }
   },
   "outputs": [
    {
     "data": {
      "text/plain": [
       "(1488, 500)"
      ]
     },
     "execution_count": 13,
     "metadata": {},
     "output_type": "execute_result"
    }
   ],
   "source": [
    "len(train_dl),len(val_dl)"
   ]
  },
  {
   "cell_type": "code",
   "execution_count": 14,
   "id": "f840c58d",
   "metadata": {
    "ExecuteTime": {
     "end_time": "2025-05-08T14:21:18.830924Z",
     "start_time": "2025-05-08T14:21:18.824453Z"
    }
   },
   "outputs": [],
   "source": [
    "torch.cuda.empty_cache()"
   ]
  },
  {
   "cell_type": "code",
   "execution_count": 15,
   "id": "8f0ec64c",
   "metadata": {},
   "outputs": [],
   "source": [
    "model = EncodeDecode(\"cpu\")"
   ]
  },
  {
   "cell_type": "code",
   "execution_count": 16,
   "id": "9aba76c8",
   "metadata": {
    "ExecuteTime": {
     "start_time": "2025-05-08T14:21:19.919403Z"
    },
    "jupyter": {
     "is_executing": true
    }
   },
   "outputs": [
    {
     "name": "stderr",
     "output_type": "stream",
     "text": [
      "  0%|          | 0/50 [00:00<?, ?it/s]"
     ]
    },
    {
     "name": "stdout",
     "output_type": "stream",
     "text": [
      "train_loss =  163.22752380371094  epoch =  0  batch_id =  0\n",
      "train_loss =  1.950554370880127  epoch =  0  batch_id =  100\n",
      "train_loss =  1.454578161239624  epoch =  0  batch_id =  200\n",
      "train_loss =  1.4466480016708374  epoch =  0  batch_id =  300\n",
      "train_loss =  1.265320062637329  epoch =  0  batch_id =  400\n",
      "train_loss =  1.035609245300293  epoch =  0  batch_id =  500\n",
      "train_loss =  1.6839661598205566  epoch =  0  batch_id =  600\n",
      "train_loss =  1.1643705368041992  epoch =  0  batch_id =  700\n",
      "train_loss =  0.998058557510376  epoch =  0  batch_id =  800\n",
      "train_loss =  1.160865306854248  epoch =  0  batch_id =  900\n",
      "train_loss =  1.0867865085601807  epoch =  0  batch_id =  1000\n",
      "train_loss =  0.9434676766395569  epoch =  0  batch_id =  1100\n",
      "train_loss =  0.9460723400115967  epoch =  0  batch_id =  1200\n",
      "train_loss =  0.7339674830436707  epoch =  0  batch_id =  1300\n",
      "train_loss =  1.1718156337738037  epoch =  0  batch_id =  1400\n",
      "train_loss =  0.8722418546676636  epoch =  0  batch_id =  0\n",
      "train_loss =  0.7373591065406799  epoch =  0  batch_id =  100\n",
      "train_loss =  0.5719326138496399  epoch =  0  batch_id =  200\n",
      "train_loss =  1.187637209892273  epoch =  0  batch_id =  300\n",
      "train_loss =  0.7015491724014282  epoch =  0  batch_id =  400\n"
     ]
    },
    {
     "name": "stderr",
     "output_type": "stream",
     "text": [
      "  2%|▏         | 1/50 [08:01<6:33:30, 481.86s/it, train_loss=1.92, train_iou=0.568, val_loss=1.04, val_iou=0.614]"
     ]
    },
    {
     "name": "stdout",
     "output_type": "stream",
     "text": [
      "train_loss =  0.8394328951835632  epoch =  1  batch_id =  0\n",
      "train_loss =  1.1763420104980469  epoch =  1  batch_id =  100\n",
      "train_loss =  0.8716718554496765  epoch =  1  batch_id =  200\n",
      "train_loss =  0.9453372955322266  epoch =  1  batch_id =  300\n",
      "train_loss =  0.7582679986953735  epoch =  1  batch_id =  400\n",
      "train_loss =  0.6410066485404968  epoch =  1  batch_id =  500\n",
      "train_loss =  0.7931637167930603  epoch =  1  batch_id =  600\n",
      "train_loss =  1.3399193286895752  epoch =  1  batch_id =  700\n",
      "train_loss =  0.5241895914077759  epoch =  1  batch_id =  800\n",
      "train_loss =  0.8482921123504639  epoch =  1  batch_id =  900\n",
      "train_loss =  0.5611534118652344  epoch =  1  batch_id =  1000\n",
      "train_loss =  0.9518915414810181  epoch =  1  batch_id =  1100\n",
      "train_loss =  0.8664105534553528  epoch =  1  batch_id =  1200\n",
      "train_loss =  0.8548576235771179  epoch =  1  batch_id =  1300\n",
      "train_loss =  0.579932689666748  epoch =  1  batch_id =  1400\n",
      "train_loss =  0.8321936130523682  epoch =  1  batch_id =  0\n",
      "train_loss =  0.5845959782600403  epoch =  1  batch_id =  100\n",
      "train_loss =  0.4317447245121002  epoch =  1  batch_id =  200\n",
      "train_loss =  1.1386507749557495  epoch =  1  batch_id =  300\n",
      "train_loss =  0.6480865478515625  epoch =  1  batch_id =  400\n"
     ]
    },
    {
     "name": "stderr",
     "output_type": "stream",
     "text": [
      "  4%|▍         | 2/50 [15:55<6:21:37, 477.03s/it, train_loss=0.984, train_iou=0.665, val_loss=0.958, val_iou=0.62]"
     ]
    },
    {
     "name": "stdout",
     "output_type": "stream",
     "text": [
      "train_loss =  0.8469467759132385  epoch =  2  batch_id =  0\n",
      "train_loss =  0.7539601922035217  epoch =  2  batch_id =  100\n",
      "train_loss =  0.8400292992591858  epoch =  2  batch_id =  200\n",
      "train_loss =  0.8443741202354431  epoch =  2  batch_id =  300\n",
      "train_loss =  0.9728145003318787  epoch =  2  batch_id =  400\n",
      "train_loss =  0.7867620587348938  epoch =  2  batch_id =  500\n",
      "train_loss =  1.1843852996826172  epoch =  2  batch_id =  600\n",
      "train_loss =  1.0785130262374878  epoch =  2  batch_id =  700\n",
      "train_loss =  0.74388587474823  epoch =  2  batch_id =  800\n",
      "train_loss =  0.5540657639503479  epoch =  2  batch_id =  900\n",
      "train_loss =  1.155744194984436  epoch =  2  batch_id =  1000\n",
      "train_loss =  1.1594665050506592  epoch =  2  batch_id =  1100\n",
      "train_loss =  0.7978715300559998  epoch =  2  batch_id =  1200\n",
      "train_loss =  1.2868590354919434  epoch =  2  batch_id =  1300\n",
      "train_loss =  0.7150086760520935  epoch =  2  batch_id =  1400\n",
      "train_loss =  0.7096422910690308  epoch =  2  batch_id =  0\n",
      "train_loss =  0.5664616227149963  epoch =  2  batch_id =  100\n",
      "train_loss =  0.4477664828300476  epoch =  2  batch_id =  200\n",
      "train_loss =  1.0994917154312134  epoch =  2  batch_id =  300\n",
      "train_loss =  0.64876788854599  epoch =  2  batch_id =  400\n"
     ]
    },
    {
     "name": "stderr",
     "output_type": "stream",
     "text": [
      "  6%|▌         | 3/50 [23:06<5:57:10, 455.97s/it, train_loss=0.877, train_iou=0.684, val_loss=0.87, val_iou=0.63] "
     ]
    },
    {
     "name": "stdout",
     "output_type": "stream",
     "text": [
      "train_loss =  0.5662892460823059  epoch =  3  batch_id =  0\n",
      "train_loss =  0.9560039639472961  epoch =  3  batch_id =  100\n",
      "train_loss =  0.5727326273918152  epoch =  3  batch_id =  200\n",
      "train_loss =  0.8038567900657654  epoch =  3  batch_id =  300\n",
      "train_loss =  0.6449675559997559  epoch =  3  batch_id =  400\n",
      "train_loss =  0.7302333116531372  epoch =  3  batch_id =  500\n",
      "train_loss =  0.5940413475036621  epoch =  3  batch_id =  600\n",
      "train_loss =  0.8988754153251648  epoch =  3  batch_id =  700\n",
      "train_loss =  0.5782241821289062  epoch =  3  batch_id =  800\n",
      "train_loss =  2.6508092880249023  epoch =  3  batch_id =  900\n",
      "train_loss =  0.7966744303703308  epoch =  3  batch_id =  1000\n",
      "train_loss =  0.8895062804222107  epoch =  3  batch_id =  1100\n",
      "train_loss =  0.8306117653846741  epoch =  3  batch_id =  1200\n",
      "train_loss =  1.0248842239379883  epoch =  3  batch_id =  1300\n",
      "train_loss =  0.7244364023208618  epoch =  3  batch_id =  1400\n",
      "train_loss =  0.7760453224182129  epoch =  3  batch_id =  0\n",
      "train_loss =  0.47673624753952026  epoch =  3  batch_id =  100\n",
      "train_loss =  0.3775750398635864  epoch =  3  batch_id =  200\n",
      "train_loss =  1.0329837799072266  epoch =  3  batch_id =  300\n",
      "train_loss =  0.5579668283462524  epoch =  3  batch_id =  400\n"
     ]
    },
    {
     "name": "stderr",
     "output_type": "stream",
     "text": [
      "  8%|▊         | 4/50 [30:03<5:37:51, 440.69s/it, train_loss=0.804, train_iou=0.7, val_loss=0.838, val_iou=0.656]"
     ]
    },
    {
     "name": "stdout",
     "output_type": "stream",
     "text": [
      "train_loss =  0.6252089738845825  epoch =  4  batch_id =  0\n",
      "train_loss =  0.8840009570121765  epoch =  4  batch_id =  100\n",
      "train_loss =  0.6759307980537415  epoch =  4  batch_id =  200\n",
      "train_loss =  0.6874193549156189  epoch =  4  batch_id =  300\n",
      "train_loss =  0.7389295697212219  epoch =  4  batch_id =  400\n",
      "train_loss =  0.8192235827445984  epoch =  4  batch_id =  500\n",
      "train_loss =  1.066176176071167  epoch =  4  batch_id =  600\n",
      "train_loss =  0.5557950139045715  epoch =  4  batch_id =  700\n",
      "train_loss =  0.6774330139160156  epoch =  4  batch_id =  800\n",
      "train_loss =  0.6606075763702393  epoch =  4  batch_id =  900\n",
      "train_loss =  0.566323459148407  epoch =  4  batch_id =  1000\n",
      "train_loss =  0.5612308979034424  epoch =  4  batch_id =  1100\n",
      "train_loss =  0.41883385181427  epoch =  4  batch_id =  1200\n",
      "train_loss =  0.8483902812004089  epoch =  4  batch_id =  1300\n",
      "train_loss =  0.8008885383605957  epoch =  4  batch_id =  1400\n",
      "train_loss =  0.6530258059501648  epoch =  4  batch_id =  0\n",
      "train_loss =  0.39424270391464233  epoch =  4  batch_id =  100\n",
      "train_loss =  0.3578520715236664  epoch =  4  batch_id =  200\n",
      "train_loss =  0.8724318146705627  epoch =  4  batch_id =  300\n",
      "train_loss =  0.5099026560783386  epoch =  4  batch_id =  400\n"
     ]
    },
    {
     "name": "stderr",
     "output_type": "stream",
     "text": [
      " 10%|█         | 5/50 [36:58<5:23:34, 431.44s/it, train_loss=0.756, train_iou=0.716, val_loss=0.756, val_iou=0.67]"
     ]
    },
    {
     "name": "stdout",
     "output_type": "stream",
     "text": [
      "train_loss =  0.44057267904281616  epoch =  5  batch_id =  0\n",
      "train_loss =  0.8317835927009583  epoch =  5  batch_id =  100\n",
      "train_loss =  0.7997598648071289  epoch =  5  batch_id =  200\n",
      "train_loss =  0.7612901329994202  epoch =  5  batch_id =  300\n",
      "train_loss =  0.47205477952957153  epoch =  5  batch_id =  400\n",
      "train_loss =  0.37948620319366455  epoch =  5  batch_id =  500\n",
      "train_loss =  1.0780065059661865  epoch =  5  batch_id =  600\n",
      "train_loss =  0.6407963037490845  epoch =  5  batch_id =  700\n",
      "train_loss =  0.6404402256011963  epoch =  5  batch_id =  800\n",
      "train_loss =  0.9956384897232056  epoch =  5  batch_id =  900\n",
      "train_loss =  0.7063046097755432  epoch =  5  batch_id =  1000\n",
      "train_loss =  0.8004052639007568  epoch =  5  batch_id =  1100\n",
      "train_loss =  0.9043745994567871  epoch =  5  batch_id =  1200\n",
      "train_loss =  0.6821627020835876  epoch =  5  batch_id =  1300\n",
      "train_loss =  0.4639146327972412  epoch =  5  batch_id =  1400\n",
      "train_loss =  0.6464097499847412  epoch =  5  batch_id =  0\n",
      "train_loss =  0.40640202164649963  epoch =  5  batch_id =  100\n",
      "train_loss =  0.33090338110923767  epoch =  5  batch_id =  200\n",
      "train_loss =  0.8740569353103638  epoch =  5  batch_id =  300\n",
      "train_loss =  0.5062111616134644  epoch =  5  batch_id =  400\n"
     ]
    },
    {
     "name": "stderr",
     "output_type": "stream",
     "text": [
      " 12%|█▏        | 6/50 [44:00<5:13:53, 428.04s/it, train_loss=0.716, train_iou=0.726, val_loss=0.737, val_iou=0.673]"
     ]
    },
    {
     "name": "stdout",
     "output_type": "stream",
     "text": [
      "train_loss =  0.803333580493927  epoch =  6  batch_id =  0\n",
      "train_loss =  0.6242981553077698  epoch =  6  batch_id =  100\n",
      "train_loss =  0.6317616105079651  epoch =  6  batch_id =  200\n",
      "train_loss =  0.5821080207824707  epoch =  6  batch_id =  300\n",
      "train_loss =  0.7924829125404358  epoch =  6  batch_id =  400\n",
      "train_loss =  0.826269805431366  epoch =  6  batch_id =  500\n",
      "train_loss =  0.7766634821891785  epoch =  6  batch_id =  600\n",
      "train_loss =  0.78789883852005  epoch =  6  batch_id =  700\n",
      "train_loss =  0.7145736813545227  epoch =  6  batch_id =  800\n",
      "train_loss =  0.5841326117515564  epoch =  6  batch_id =  900\n",
      "train_loss =  1.1183688640594482  epoch =  6  batch_id =  1000\n",
      "train_loss =  0.9729381203651428  epoch =  6  batch_id =  1100\n",
      "train_loss =  0.6792686581611633  epoch =  6  batch_id =  1200\n",
      "train_loss =  0.5860278606414795  epoch =  6  batch_id =  1300\n",
      "train_loss =  0.6526668071746826  epoch =  6  batch_id =  1400\n",
      "train_loss =  0.5706719160079956  epoch =  6  batch_id =  0\n",
      "train_loss =  0.4427991807460785  epoch =  6  batch_id =  100\n",
      "train_loss =  0.3523980975151062  epoch =  6  batch_id =  200\n",
      "train_loss =  0.8228035569190979  epoch =  6  batch_id =  300\n",
      "train_loss =  0.5699373483657837  epoch =  6  batch_id =  400\n"
     ]
    },
    {
     "name": "stderr",
     "output_type": "stream",
     "text": [
      " 14%|█▍        | 7/50 [51:01<5:05:07, 425.75s/it, train_loss=0.679, train_iou=0.736, val_loss=0.701, val_iou=0.689]"
     ]
    },
    {
     "name": "stdout",
     "output_type": "stream",
     "text": [
      "train_loss =  0.6642965078353882  epoch =  7  batch_id =  0\n",
      "train_loss =  0.6567984819412231  epoch =  7  batch_id =  100\n",
      "train_loss =  0.6336283087730408  epoch =  7  batch_id =  200\n",
      "train_loss =  0.6011661887168884  epoch =  7  batch_id =  300\n",
      "train_loss =  0.6709774136543274  epoch =  7  batch_id =  400\n",
      "train_loss =  0.6712067127227783  epoch =  7  batch_id =  500\n",
      "train_loss =  0.41000792384147644  epoch =  7  batch_id =  600\n",
      "train_loss =  0.9769728183746338  epoch =  7  batch_id =  700\n",
      "train_loss =  0.5623889565467834  epoch =  7  batch_id =  800\n",
      "train_loss =  0.8272955417633057  epoch =  7  batch_id =  900\n",
      "train_loss =  0.6964358687400818  epoch =  7  batch_id =  1000\n",
      "train_loss =  0.8199337720870972  epoch =  7  batch_id =  1100\n",
      "train_loss =  0.9440566301345825  epoch =  7  batch_id =  1200\n",
      "train_loss =  1.2685385942459106  epoch =  7  batch_id =  1300\n",
      "train_loss =  0.7718424201011658  epoch =  7  batch_id =  1400\n",
      "train_loss =  0.7318434715270996  epoch =  7  batch_id =  0\n",
      "train_loss =  0.4480423927307129  epoch =  7  batch_id =  100\n",
      "train_loss =  0.2880581021308899  epoch =  7  batch_id =  200\n",
      "train_loss =  0.7887886166572571  epoch =  7  batch_id =  300\n",
      "train_loss =  0.569261372089386  epoch =  7  batch_id =  400\n"
     ]
    },
    {
     "name": "stderr",
     "output_type": "stream",
     "text": [
      " 16%|█▌        | 8/50 [58:16<5:00:08, 428.76s/it, train_loss=0.648, train_iou=0.743, val_loss=0.675, val_iou=0.688]"
     ]
    },
    {
     "name": "stdout",
     "output_type": "stream",
     "text": [
      "train_loss =  0.3295029401779175  epoch =  8  batch_id =  0\n",
      "train_loss =  0.8585016131401062  epoch =  8  batch_id =  100\n",
      "train_loss =  0.5552302598953247  epoch =  8  batch_id =  200\n",
      "train_loss =  0.5161847472190857  epoch =  8  batch_id =  300\n",
      "train_loss =  0.6370680332183838  epoch =  8  batch_id =  400\n",
      "train_loss =  0.7620913982391357  epoch =  8  batch_id =  500\n",
      "train_loss =  0.39770621061325073  epoch =  8  batch_id =  600\n",
      "train_loss =  0.5820420980453491  epoch =  8  batch_id =  700\n",
      "train_loss =  0.6723600625991821  epoch =  8  batch_id =  800\n",
      "train_loss =  0.48520198464393616  epoch =  8  batch_id =  900\n",
      "train_loss =  0.45053452253341675  epoch =  8  batch_id =  1000\n",
      "train_loss =  0.8142353892326355  epoch =  8  batch_id =  1100\n",
      "train_loss =  0.5919280052185059  epoch =  8  batch_id =  1200\n",
      "train_loss =  0.536149799823761  epoch =  8  batch_id =  1300\n",
      "train_loss =  0.5690487623214722  epoch =  8  batch_id =  1400\n",
      "train_loss =  0.5381394624710083  epoch =  8  batch_id =  0\n",
      "train_loss =  0.3950856328010559  epoch =  8  batch_id =  100\n",
      "train_loss =  0.3327780067920685  epoch =  8  batch_id =  200\n",
      "train_loss =  0.7766286730766296  epoch =  8  batch_id =  300\n",
      "train_loss =  0.49299106001853943  epoch =  8  batch_id =  400\n"
     ]
    },
    {
     "name": "stderr",
     "output_type": "stream",
     "text": [
      " 18%|█▊        | 9/50 [1:05:11<4:50:07, 424.58s/it, train_loss=0.623, train_iou=0.75, val_loss=0.687, val_iou=0.684]"
     ]
    },
    {
     "name": "stdout",
     "output_type": "stream",
     "text": [
      "train_loss =  0.4364297091960907  epoch =  9  batch_id =  0\n",
      "train_loss =  0.38426676392555237  epoch =  9  batch_id =  100\n",
      "train_loss =  0.7010094523429871  epoch =  9  batch_id =  200\n",
      "train_loss =  1.7533349990844727  epoch =  9  batch_id =  300\n",
      "train_loss =  0.8076331615447998  epoch =  9  batch_id =  400\n",
      "train_loss =  0.45403286814689636  epoch =  9  batch_id =  500\n",
      "train_loss =  0.4639259874820709  epoch =  9  batch_id =  600\n",
      "train_loss =  0.5409897565841675  epoch =  9  batch_id =  700\n",
      "train_loss =  0.7169188857078552  epoch =  9  batch_id =  800\n",
      "train_loss =  1.054772138595581  epoch =  9  batch_id =  900\n",
      "train_loss =  0.5286421775817871  epoch =  9  batch_id =  1000\n",
      "train_loss =  0.4878949820995331  epoch =  9  batch_id =  1100\n",
      "train_loss =  0.3749016225337982  epoch =  9  batch_id =  1200\n",
      "train_loss =  0.6591128706932068  epoch =  9  batch_id =  1300\n",
      "train_loss =  0.6848571300506592  epoch =  9  batch_id =  1400\n",
      "train_loss =  0.6521516442298889  epoch =  9  batch_id =  0\n",
      "train_loss =  0.4428171217441559  epoch =  9  batch_id =  100\n",
      "train_loss =  0.2973676919937134  epoch =  9  batch_id =  200\n",
      "train_loss =  0.841271698474884  epoch =  9  batch_id =  300\n",
      "train_loss =  0.5742907524108887  epoch =  9  batch_id =  400\n"
     ]
    },
    {
     "name": "stderr",
     "output_type": "stream",
     "text": [
      " 20%|██        | 10/50 [1:12:11<4:41:58, 422.96s/it, train_loss=0.602, train_iou=0.756, val_loss=0.679, val_iou=0.693]"
     ]
    },
    {
     "name": "stdout",
     "output_type": "stream",
     "text": [
      "train_loss =  0.6308446526527405  epoch =  10  batch_id =  0\n",
      "train_loss =  0.6913802623748779  epoch =  10  batch_id =  100\n",
      "train_loss =  0.5015910863876343  epoch =  10  batch_id =  200\n",
      "train_loss =  0.6165603995323181  epoch =  10  batch_id =  300\n",
      "train_loss =  0.5354235768318176  epoch =  10  batch_id =  400\n",
      "train_loss =  0.5156835913658142  epoch =  10  batch_id =  500\n",
      "train_loss =  0.533420205116272  epoch =  10  batch_id =  600\n",
      "train_loss =  0.5794740915298462  epoch =  10  batch_id =  700\n",
      "train_loss =  0.6751874685287476  epoch =  10  batch_id =  800\n",
      "train_loss =  0.183481827378273  epoch =  10  batch_id =  900\n",
      "train_loss =  0.5868054628372192  epoch =  10  batch_id =  1000\n",
      "train_loss =  0.5023965835571289  epoch =  10  batch_id =  1100\n",
      "train_loss =  0.9015896916389465  epoch =  10  batch_id =  1200\n",
      "train_loss =  0.6642726063728333  epoch =  10  batch_id =  1300\n",
      "train_loss =  0.4985129237174988  epoch =  10  batch_id =  1400\n",
      "train_loss =  0.6114687919616699  epoch =  10  batch_id =  0\n",
      "train_loss =  0.4550228714942932  epoch =  10  batch_id =  100\n",
      "train_loss =  0.27892306447029114  epoch =  10  batch_id =  200\n",
      "train_loss =  0.636382520198822  epoch =  10  batch_id =  300\n",
      "train_loss =  0.516388475894928  epoch =  10  batch_id =  400\n"
     ]
    },
    {
     "name": "stderr",
     "output_type": "stream",
     "text": [
      " 22%|██▏       | 11/50 [1:19:27<4:37:32, 426.98s/it, train_loss=0.573, train_iou=0.76, val_loss=0.633, val_iou=0.708] "
     ]
    },
    {
     "name": "stdout",
     "output_type": "stream",
     "text": [
      "train_loss =  0.4979993402957916  epoch =  11  batch_id =  0\n",
      "train_loss =  0.3378792107105255  epoch =  11  batch_id =  100\n",
      "train_loss =  0.3897768557071686  epoch =  11  batch_id =  200\n",
      "train_loss =  0.4141056537628174  epoch =  11  batch_id =  300\n",
      "train_loss =  0.42867472767829895  epoch =  11  batch_id =  400\n",
      "train_loss =  0.4693763554096222  epoch =  11  batch_id =  500\n",
      "train_loss =  0.6499413847923279  epoch =  11  batch_id =  600\n",
      "train_loss =  0.5896896719932556  epoch =  11  batch_id =  700\n",
      "train_loss =  0.8341608047485352  epoch =  11  batch_id =  800\n",
      "train_loss =  0.5900788307189941  epoch =  11  batch_id =  900\n",
      "train_loss =  0.43959400057792664  epoch =  11  batch_id =  1000\n",
      "train_loss =  0.7616890668869019  epoch =  11  batch_id =  1100\n",
      "train_loss =  0.563238263130188  epoch =  11  batch_id =  1200\n",
      "train_loss =  1.054853916168213  epoch =  11  batch_id =  1300\n",
      "train_loss =  0.485880047082901  epoch =  11  batch_id =  1400\n",
      "train_loss =  0.5653570890426636  epoch =  11  batch_id =  0\n",
      "train_loss =  0.36317068338394165  epoch =  11  batch_id =  100\n",
      "train_loss =  0.27653682231903076  epoch =  11  batch_id =  200\n",
      "train_loss =  0.5928331613540649  epoch =  11  batch_id =  300\n",
      "train_loss =  0.4648182988166809  epoch =  11  batch_id =  400\n"
     ]
    },
    {
     "name": "stderr",
     "output_type": "stream",
     "text": [
      " 24%|██▍       | 12/50 [1:26:38<4:31:13, 428.26s/it, train_loss=0.542, train_iou=0.765, val_loss=0.626, val_iou=0.705]"
     ]
    },
    {
     "name": "stdout",
     "output_type": "stream",
     "text": [
      "train_loss =  0.4990338385105133  epoch =  12  batch_id =  0\n",
      "train_loss =  0.2717975974082947  epoch =  12  batch_id =  100\n",
      "train_loss =  0.23248223960399628  epoch =  12  batch_id =  200\n",
      "train_loss =  0.40526026487350464  epoch =  12  batch_id =  300\n",
      "train_loss =  0.5405747890472412  epoch =  12  batch_id =  400\n",
      "train_loss =  0.5503506660461426  epoch =  12  batch_id =  500\n",
      "train_loss =  0.555419385433197  epoch =  12  batch_id =  600\n",
      "train_loss =  0.4725055694580078  epoch =  12  batch_id =  700\n",
      "train_loss =  0.4615793228149414  epoch =  12  batch_id =  800\n",
      "train_loss =  0.5445775389671326  epoch =  12  batch_id =  900\n",
      "train_loss =  0.5857532024383545  epoch =  12  batch_id =  1000\n",
      "train_loss =  0.43562954664230347  epoch =  12  batch_id =  1100\n",
      "train_loss =  0.5740578770637512  epoch =  12  batch_id =  1200\n",
      "train_loss =  1.1302975416183472  epoch =  12  batch_id =  1300\n",
      "train_loss =  0.82525634765625  epoch =  12  batch_id =  1400\n",
      "train_loss =  0.5888292789459229  epoch =  12  batch_id =  0\n",
      "train_loss =  0.3445117771625519  epoch =  12  batch_id =  100\n",
      "train_loss =  0.30515390634536743  epoch =  12  batch_id =  200\n",
      "train_loss =  0.6039003133773804  epoch =  12  batch_id =  300\n",
      "train_loss =  0.44024860858917236  epoch =  12  batch_id =  400\n"
     ]
    },
    {
     "name": "stderr",
     "output_type": "stream",
     "text": [
      " 26%|██▌       | 13/50 [1:33:59<4:26:33, 432.25s/it, train_loss=0.517, train_iou=0.776, val_loss=0.625, val_iou=0.696]"
     ]
    },
    {
     "name": "stdout",
     "output_type": "stream",
     "text": [
      "train_loss =  0.33333003520965576  epoch =  13  batch_id =  0\n"
     ]
    },
    {
     "name": "stderr",
     "output_type": "stream",
     "text": [
      " 26%|██▌       | 13/50 [1:34:24<4:28:42, 435.74s/it, train_loss=0.517, train_iou=0.776, val_loss=0.625, val_iou=0.696]\n"
     ]
    },
    {
     "ename": "KeyboardInterrupt",
     "evalue": "",
     "output_type": "error",
     "traceback": [
      "\u001b[0;31m---------------------------------------------------------------------------\u001b[0m",
      "\u001b[0;31mKeyboardInterrupt\u001b[0m                         Traceback (most recent call last)",
      "Cell \u001b[0;32mIn[16], line 1\u001b[0m\n\u001b[0;32m----> 1\u001b[0m \u001b[43mtrain\u001b[49m\u001b[43m(\u001b[49m\u001b[43mmodel\u001b[49m\u001b[43m,\u001b[49m\u001b[38;5;241;43m50\u001b[39;49m\u001b[43m,\u001b[49m\u001b[38;5;241;43m1e-4\u001b[39;49m\u001b[43m,\u001b[49m\u001b[43mtrain_dl\u001b[49m\u001b[43m,\u001b[49m\u001b[43mval_dl\u001b[49m\u001b[43m,\u001b[49m\u001b[38;5;124;43m\"\u001b[39;49m\u001b[38;5;124;43mRefine\u001b[39;49m\u001b[38;5;124;43m\"\u001b[39;49m\u001b[43m,\u001b[49m\u001b[38;5;124;43m\"\u001b[39;49m\u001b[38;5;124;43mi3\u001b[39;49m\u001b[38;5;124;43m\"\u001b[39;49m\u001b[43m,\u001b[49m\u001b[38;5;124;43m\"\u001b[39;49m\u001b[38;5;124;43mcolour\u001b[39;49m\u001b[38;5;124;43m\"\u001b[39;49m\u001b[43m)\u001b[49m\n",
      "Cell \u001b[0;32mIn[10], line 153\u001b[0m, in \u001b[0;36mtrain\u001b[0;34m(model, max_epochs, lr, train_dl, val_dl, model_name, dataset_type, mask_type)\u001b[0m\n\u001b[1;32m    151\u001b[0m     val_dataset \u001b[38;5;241m=\u001b[39m \u001b[38;5;124m\"\u001b[39m\u001b[38;5;124mweih\u001b[39m\u001b[38;5;124m\"\u001b[39m\n\u001b[1;32m    152\u001b[0m \u001b[38;5;28;01mfor\u001b[39;00m epoch \u001b[38;5;129;01min\u001b[39;00m progress_bar:\n\u001b[0;32m--> 153\u001b[0m     train_loss, train_iou \u001b[38;5;241m=\u001b[39m \u001b[43mone_epoch\u001b[49m\u001b[43m(\u001b[49m\u001b[43mmodel\u001b[49m\u001b[38;5;241;43m=\u001b[39;49m\u001b[43mmodel\u001b[49m\u001b[43m,\u001b[49m\u001b[43mmodel_name\u001b[49m\u001b[38;5;241;43m=\u001b[39;49m\u001b[43mmodel_name\u001b[49m\u001b[43m,\u001b[49m\u001b[43mmask_type\u001b[49m\u001b[38;5;241;43m=\u001b[39;49m\u001b[43mmask_type\u001b[49m\u001b[43m,\u001b[49m\u001b[43mepoch\u001b[49m\u001b[38;5;241;43m=\u001b[39;49m\u001b[43mepoch\u001b[49m\u001b[43m,\u001b[49m\u001b[43mdevice\u001b[49m\u001b[38;5;241;43m=\u001b[39;49m\u001b[43mdevice\u001b[49m\u001b[43m,\u001b[49m\u001b[43mdataloader\u001b[49m\u001b[38;5;241;43m=\u001b[39;49m\u001b[43mtrain_dl\u001b[49m\u001b[43m,\u001b[49m\u001b[43moptimizer\u001b[49m\u001b[38;5;241;43m=\u001b[39;49m\u001b[43moptimizer\u001b[49m\u001b[43m,\u001b[49m\u001b[43mdataset_type\u001b[49m\u001b[38;5;241;43m=\u001b[39;49m\u001b[43mtrain_dataset\u001b[49m\u001b[43m,\u001b[49m\u001b[43mloss_function\u001b[49m\u001b[38;5;241;43m=\u001b[39;49m\u001b[43mloss_function\u001b[49m\u001b[43m,\u001b[49m\u001b[43mon_training\u001b[49m\u001b[38;5;241;43m=\u001b[39;49m\u001b[38;5;28;43;01mTrue\u001b[39;49;00m\u001b[43m)\u001b[49m\n\u001b[1;32m    154\u001b[0m     train_losses\u001b[38;5;241m.\u001b[39mappend(train_loss)\n\u001b[1;32m    155\u001b[0m     train_m_iou\u001b[38;5;241m.\u001b[39mappend(train_iou)\n",
      "Cell \u001b[0;32mIn[10], line 124\u001b[0m, in \u001b[0;36mone_epoch\u001b[0;34m(model, model_name, epoch, device, dataloader, optimizer, loss_function, dataset_type, mask_type, on_training)\u001b[0m\n\u001b[1;32m    122\u001b[0m N \u001b[38;5;241m=\u001b[39m \u001b[38;5;241m0\u001b[39m\n\u001b[1;32m    123\u001b[0m \u001b[38;5;28;01mfor\u001b[39;00m batch_id,batch \u001b[38;5;129;01min\u001b[39;00m \u001b[38;5;28menumerate\u001b[39m(dataloader):\n\u001b[0;32m--> 124\u001b[0m     loss,iou \u001b[38;5;241m=\u001b[39m \u001b[43mone_batch\u001b[49m\u001b[43m(\u001b[49m\u001b[43mmodel\u001b[49m\u001b[38;5;241;43m=\u001b[39;49m\u001b[43mmodel\u001b[49m\u001b[43m,\u001b[49m\u001b[43mmodel_name\u001b[49m\u001b[38;5;241;43m=\u001b[39;49m\u001b[43mmodel_name\u001b[49m\u001b[43m,\u001b[49m\u001b[43mmask_type\u001b[49m\u001b[38;5;241;43m=\u001b[39;49m\u001b[43mmask_type\u001b[49m\u001b[43m,\u001b[49m\u001b[43mepoch\u001b[49m\u001b[38;5;241;43m=\u001b[39;49m\u001b[43mepoch\u001b[49m\u001b[43m,\u001b[49m\u001b[43mdevice\u001b[49m\u001b[38;5;241;43m=\u001b[39;49m\u001b[43mdevice\u001b[49m\u001b[43m,\u001b[49m\u001b[43mbatch\u001b[49m\u001b[38;5;241;43m=\u001b[39;49m\u001b[43mbatch\u001b[49m\u001b[43m,\u001b[49m\u001b[43mbatch_id\u001b[49m\u001b[38;5;241;43m=\u001b[39;49m\u001b[43mbatch_id\u001b[49m\u001b[43m,\u001b[49m\u001b[43moptimizer\u001b[49m\u001b[38;5;241;43m=\u001b[39;49m\u001b[43moptimizer\u001b[49m\u001b[43m,\u001b[49m\u001b[43mdataset_type\u001b[49m\u001b[38;5;241;43m=\u001b[39;49m\u001b[43mdataset_type\u001b[49m\u001b[43m,\u001b[49m\u001b[43m \u001b[49m\u001b[43mloss_function\u001b[49m\u001b[38;5;241;43m=\u001b[39;49m\u001b[43mloss_function\u001b[49m\u001b[43m,\u001b[49m\u001b[43mon_training\u001b[49m\u001b[38;5;241;43m=\u001b[39;49m\u001b[43mon_training\u001b[49m\u001b[43m)\u001b[49m\n\u001b[1;32m    125\u001b[0m     \u001b[38;5;28;01mif\u001b[39;00m batch_id \u001b[38;5;241m%\u001b[39m \u001b[38;5;241m100\u001b[39m \u001b[38;5;241m==\u001b[39m \u001b[38;5;241m0\u001b[39m: \n\u001b[1;32m    126\u001b[0m         \u001b[38;5;28mprint\u001b[39m(\u001b[38;5;124m\"\u001b[39m\u001b[38;5;124mtrain_loss = \u001b[39m\u001b[38;5;124m\"\u001b[39m,loss,\u001b[38;5;124m\"\u001b[39m\u001b[38;5;124m epoch = \u001b[39m\u001b[38;5;124m\"\u001b[39m,epoch,\u001b[38;5;124m\"\u001b[39m\u001b[38;5;124m batch_id = \u001b[39m\u001b[38;5;124m\"\u001b[39m,batch_id)\n",
      "Cell \u001b[0;32mIn[10], line 98\u001b[0m, in \u001b[0;36mone_batch\u001b[0;34m(model, model_name, epoch, device, batch, batch_id, optimizer, loss_function, dataset_type, mask_type, on_training)\u001b[0m\n\u001b[1;32m     96\u001b[0m \u001b[38;5;28;01mif\u001b[39;00m on_training:\n\u001b[1;32m     97\u001b[0m     optimizer\u001b[38;5;241m.\u001b[39mzero_grad()\n\u001b[0;32m---> 98\u001b[0m     \u001b[43mloss\u001b[49m\u001b[38;5;241;43m.\u001b[39;49m\u001b[43mbackward\u001b[49m\u001b[43m(\u001b[49m\u001b[43m)\u001b[49m\n\u001b[1;32m     99\u001b[0m     optimizer\u001b[38;5;241m.\u001b[39mstep()\n\u001b[1;32m    101\u001b[0m preds \u001b[38;5;241m=\u001b[39m preds\u001b[38;5;241m.\u001b[39margmax(dim\u001b[38;5;241m=\u001b[39m\u001b[38;5;241m1\u001b[39m)\n",
      "File \u001b[0;32m~/venv/prism-uda/lib/python3.8/site-packages/torch/tensor.py:221\u001b[0m, in \u001b[0;36mTensor.backward\u001b[0;34m(self, gradient, retain_graph, create_graph)\u001b[0m\n\u001b[1;32m    213\u001b[0m \u001b[38;5;28;01mif\u001b[39;00m \u001b[38;5;28mtype\u001b[39m(\u001b[38;5;28mself\u001b[39m) \u001b[38;5;129;01mis\u001b[39;00m \u001b[38;5;129;01mnot\u001b[39;00m Tensor \u001b[38;5;129;01mand\u001b[39;00m has_torch_function(relevant_args):\n\u001b[1;32m    214\u001b[0m     \u001b[38;5;28;01mreturn\u001b[39;00m handle_torch_function(\n\u001b[1;32m    215\u001b[0m         Tensor\u001b[38;5;241m.\u001b[39mbackward,\n\u001b[1;32m    216\u001b[0m         relevant_args,\n\u001b[0;32m   (...)\u001b[0m\n\u001b[1;32m    219\u001b[0m         retain_graph\u001b[38;5;241m=\u001b[39mretain_graph,\n\u001b[1;32m    220\u001b[0m         create_graph\u001b[38;5;241m=\u001b[39mcreate_graph)\n\u001b[0;32m--> 221\u001b[0m \u001b[43mtorch\u001b[49m\u001b[38;5;241;43m.\u001b[39;49m\u001b[43mautograd\u001b[49m\u001b[38;5;241;43m.\u001b[39;49m\u001b[43mbackward\u001b[49m\u001b[43m(\u001b[49m\u001b[38;5;28;43mself\u001b[39;49m\u001b[43m,\u001b[49m\u001b[43m \u001b[49m\u001b[43mgradient\u001b[49m\u001b[43m,\u001b[49m\u001b[43m \u001b[49m\u001b[43mretain_graph\u001b[49m\u001b[43m,\u001b[49m\u001b[43m \u001b[49m\u001b[43mcreate_graph\u001b[49m\u001b[43m)\u001b[49m\n",
      "File \u001b[0;32m~/venv/prism-uda/lib/python3.8/site-packages/torch/autograd/__init__.py:130\u001b[0m, in \u001b[0;36mbackward\u001b[0;34m(tensors, grad_tensors, retain_graph, create_graph, grad_variables)\u001b[0m\n\u001b[1;32m    127\u001b[0m \u001b[38;5;28;01mif\u001b[39;00m retain_graph \u001b[38;5;129;01mis\u001b[39;00m \u001b[38;5;28;01mNone\u001b[39;00m:\n\u001b[1;32m    128\u001b[0m     retain_graph \u001b[38;5;241m=\u001b[39m create_graph\n\u001b[0;32m--> 130\u001b[0m \u001b[43mVariable\u001b[49m\u001b[38;5;241;43m.\u001b[39;49m\u001b[43m_execution_engine\u001b[49m\u001b[38;5;241;43m.\u001b[39;49m\u001b[43mrun_backward\u001b[49m\u001b[43m(\u001b[49m\n\u001b[1;32m    131\u001b[0m \u001b[43m    \u001b[49m\u001b[43mtensors\u001b[49m\u001b[43m,\u001b[49m\u001b[43m \u001b[49m\u001b[43mgrad_tensors_\u001b[49m\u001b[43m,\u001b[49m\u001b[43m \u001b[49m\u001b[43mretain_graph\u001b[49m\u001b[43m,\u001b[49m\u001b[43m \u001b[49m\u001b[43mcreate_graph\u001b[49m\u001b[43m,\u001b[49m\n\u001b[1;32m    132\u001b[0m \u001b[43m    \u001b[49m\u001b[43mallow_unreachable\u001b[49m\u001b[38;5;241;43m=\u001b[39;49m\u001b[38;5;28;43;01mTrue\u001b[39;49;00m\u001b[43m)\u001b[49m\n",
      "\u001b[0;31mKeyboardInterrupt\u001b[0m: "
     ]
    }
   ],
   "source": [
    "train(model,50,1e-4,train_dl,val_dl,\"Refine\",\"i3\",\"colour\")"
   ]
  },
  {
   "cell_type": "code",
   "execution_count": null,
   "id": "c08dda92",
   "metadata": {},
   "outputs": [],
   "source": []
  }
 ],
 "metadata": {
  "kernelspec": {
   "display_name": "prism-uda",
   "language": "python",
   "name": "python3"
  },
  "language_info": {
   "codemirror_mode": {
    "name": "ipython",
    "version": 3
   },
   "file_extension": ".py",
   "mimetype": "text/x-python",
   "name": "python",
   "nbconvert_exporter": "python",
   "pygments_lexer": "ipython3",
   "version": "3.8.20"
  }
 },
 "nbformat": 4,
 "nbformat_minor": 5
}
