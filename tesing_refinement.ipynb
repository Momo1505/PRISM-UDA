{
 "cells": [
  {
   "cell_type": "code",
   "execution_count": 1,
   "id": "248e2916",
   "metadata": {
    "ExecuteTime": {
     "end_time": "2025-05-08T14:20:46.577299Z",
     "start_time": "2025-05-08T14:20:41.757459Z"
    }
   },
   "outputs": [
    {
     "name": "stderr",
     "output_type": "stream",
     "text": [
      "/home/sow/venv/prism-uda/lib/python3.8/site-packages/tqdm/auto.py:21: TqdmWarning: IProgress not found. Please update jupyter and ipywidgets. See https://ipywidgets.readthedocs.io/en/stable/user_install.html\n",
      "  from .autonotebook import tqdm as notebook_tqdm\n"
     ]
    }
   ],
   "source": [
    "from torch.utils.data import Dataset,DataLoader\n",
    "import torch\n",
    "from torch import tensor\n",
    "import torch.nn as nn\n",
    "import torch.nn.functional as F\n",
    "import glob\n",
    "import os\n",
    "from functools import partial\n",
    "from PIL import Image\n",
    "import matplotlib.pyplot as plt\n",
    "from torchvision import transforms\n",
    "from torch import optim\n",
    "from tqdm import tqdm\n",
    "import numpy as np\n",
    "from refinement_module import UNet\n",
    "from torch.optim.lr_scheduler import OneCycleLR\n",
    "import random\n",
    "from Datasets import WeihToI3\n",
    "from model import UNet"
   ]
  },
  {
   "cell_type": "code",
   "execution_count": 2,
   "id": "be248554",
   "metadata": {},
   "outputs": [],
   "source": [
    "ds = WeihToI3(mode=\"val\")"
   ]
  },
  {
   "cell_type": "code",
   "execution_count": 3,
   "id": "688a80a4",
   "metadata": {},
   "outputs": [],
   "source": [
    "a = ds[1][0].float().unsqueeze(0)"
   ]
  },
  {
   "cell_type": "code",
   "execution_count": 4,
   "id": "73086dca",
   "metadata": {},
   "outputs": [
    {
     "data": {
      "text/plain": [
       "torch.Size([1, 1, 1024, 1024])"
      ]
     },
     "execution_count": 4,
     "metadata": {},
     "output_type": "execute_result"
    }
   ],
   "source": [
    "a.shape"
   ]
  },
  {
   "cell_type": "code",
   "execution_count": 5,
   "id": "7dc3515b",
   "metadata": {},
   "outputs": [
    {
     "data": {
      "text/plain": [
       "torch.Size([1, 1024, 1024])"
      ]
     },
     "execution_count": 5,
     "metadata": {},
     "output_type": "execute_result"
    }
   ],
   "source": [
    "ds[1][1].shape"
   ]
  },
  {
   "cell_type": "code",
   "execution_count": 6,
   "id": "b8a611e3",
   "metadata": {},
   "outputs": [],
   "source": [
    "model = UNet(2,2)"
   ]
  },
  {
   "cell_type": "code",
   "execution_count": 7,
   "id": "4878e7e3",
   "metadata": {},
   "outputs": [
    {
     "name": "stdout",
     "output_type": "stream",
     "text": [
      "> \u001b[0;32m/home/sow/Documents/domain_adaptation/PRISM-UDA/model.py\u001b[0m(439)\u001b[0;36mforward\u001b[0;34m()\u001b[0m\n",
      "\u001b[0;32m    437 \u001b[0;31m        \u001b[0mu0\u001b[0m \u001b[0;34m=\u001b[0m \u001b[0mself\u001b[0m\u001b[0;34m.\u001b[0m\u001b[0mup0\u001b[0m\u001b[0;34m(\u001b[0m\u001b[0md5\u001b[0m\u001b[0;34m,\u001b[0m\u001b[0md4\u001b[0m\u001b[0;34m)\u001b[0m\u001b[0;34m\u001b[0m\u001b[0;34m\u001b[0m\u001b[0m\n",
      "\u001b[0m\u001b[0;32m    438 \u001b[0;31m        \u001b[0mpdb\u001b[0m\u001b[0;34m.\u001b[0m\u001b[0mset_trace\u001b[0m\u001b[0;34m(\u001b[0m\u001b[0;34m)\u001b[0m\u001b[0;34m\u001b[0m\u001b[0;34m\u001b[0m\u001b[0m\n",
      "\u001b[0m\u001b[0;32m--> 439 \u001b[0;31m        \u001b[0mu1\u001b[0m \u001b[0;34m=\u001b[0m \u001b[0mself\u001b[0m\u001b[0;34m.\u001b[0m\u001b[0mup1\u001b[0m\u001b[0;34m(\u001b[0m\u001b[0mu0\u001b[0m\u001b[0;34m,\u001b[0m \u001b[0md3\u001b[0m\u001b[0;34m)\u001b[0m\u001b[0;34m\u001b[0m\u001b[0;34m\u001b[0m\u001b[0m\n",
      "\u001b[0m\u001b[0;32m    440 \u001b[0;31m        \u001b[0mu2\u001b[0m \u001b[0;34m=\u001b[0m \u001b[0mself\u001b[0m\u001b[0;34m.\u001b[0m\u001b[0mup2\u001b[0m\u001b[0;34m(\u001b[0m\u001b[0mu1\u001b[0m\u001b[0;34m,\u001b[0m \u001b[0md2\u001b[0m\u001b[0;34m)\u001b[0m\u001b[0;34m\u001b[0m\u001b[0;34m\u001b[0m\u001b[0m\n",
      "\u001b[0m\u001b[0;32m    441 \u001b[0;31m        \u001b[0mu3\u001b[0m \u001b[0;34m=\u001b[0m \u001b[0mself\u001b[0m\u001b[0;34m.\u001b[0m\u001b[0mup3\u001b[0m\u001b[0;34m(\u001b[0m\u001b[0mu2\u001b[0m\u001b[0;34m,\u001b[0m \u001b[0md1\u001b[0m\u001b[0;34m)\u001b[0m\u001b[0;34m\u001b[0m\u001b[0;34m\u001b[0m\u001b[0m\n",
      "\u001b[0m\n",
      "torch.Size([1, 128, 64, 64])\n"
     ]
    }
   ],
   "source": [
    "model(a,a).shape"
   ]
  },
  {
   "cell_type": "code",
   "execution_count": null,
   "id": "a461f5ce",
   "metadata": {},
   "outputs": [
    {
     "data": {
      "text/plain": [
       "<matplotlib.image.AxesImage at 0x7f77d8811ee0>"
      ]
     },
     "execution_count": 8,
     "metadata": {},
     "output_type": "execute_result"
    },
    {
     "data": {
      "image/png": "[encoded data removed]",
      "text/plain": [
       "<Figure size 640x480 with 1 Axes>"
      ]
     },
     "metadata": {},
     "output_type": "display_data"
    }
   ],
   "source": [
    "plt.imshow(a.squeeze())"
   ]
  },
  {
   "cell_type": "code",
   "execution_count": null,
   "id": "db7166d8",
   "metadata": {
    "ExecuteTime": {
     "end_time": "2025-05-08T14:20:46.955637Z",
     "start_time": "2025-05-08T14:20:46.827477Z"
    }
   },
   "outputs": [],
   "source": [
    "def compute_iou(preds:torch.Tensor,gt:torch.Tensor,num_classes=2,ignore_index=255):\n",
    "    mask = gt != ignore_index\n",
    "    preds = preds[mask]\n",
    "    gt = gt[mask]\n",
    "\n",
    "    iou_list = []\n",
    "\n",
    "    for cls in range(num_classes):\n",
    "        cls_in_preds = preds == cls\n",
    "        cls_in_gt = gt == cls\n",
    "\n",
    "        intersection = (cls_in_preds & cls_in_gt).sum().item()\n",
    "        union = (cls_in_preds | cls_in_gt).sum().item()\n",
    "\n",
    "        if union == 0:\n",
    "            iou_list.append(0)\n",
    "            continue  # this class is not present in gt\n",
    "\n",
    "        iou = intersection / union\n",
    "        iou_list.append(iou)\n",
    "\n",
    "    if not iou_list:\n",
    "        raise ValueError(\"No class found in this predictions\")\n",
    "    return sum(iou_list) / len(iou_list)\n",
    "\n",
    "def plot(pl:torch.Tensor,\n",
    "         sam:torch.Tensor,\n",
    "         preds:torch.Tensor,\n",
    "         gt:torch.Tensor,\n",
    "         epoch,\n",
    "         batch_id,\n",
    "         model_name,\n",
    "         dataset_type,mask_type\n",
    "         ):\n",
    "    if batch_id % 200==0:\n",
    "        pl = pl.squeeze().detach().cpu().numpy()\n",
    "        sam = sam.squeeze().detach().cpu().numpy()\n",
    "        preds = preds.squeeze().detach().cpu().numpy()\n",
    "        gt = gt.squeeze().detach().cpu().numpy()\n",
    "\n",
    "        fig, axes = plt.subplots(nrows=1, ncols=4, figsize=(16, 4))\n",
    "\n",
    "        axes[0].imshow(pl)\n",
    "        axes[0].set_title(\"Pseudo label de l'EMA\")\n",
    "\n",
    "        axes[1].imshow(sam)\n",
    "        axes[1].set_title(\"SAM\")\n",
    "\n",
    "        axes[2].imshow(preds)\n",
    "        axes[2].set_title(\"Prédictions du raffineur\")\n",
    "\n",
    "        axes[3].imshow(gt)\n",
    "        axes[3].set_title(\"Ground truth\")\n",
    "\n",
    "        plt.tight_layout()\n",
    "\n",
    "        os.makedirs(f\"refinement_results/{model_name}_train_on_{dataset_type}_mask_type_{mask_type}/debug\", exist_ok=True)\n",
    "        plt.savefig(f\"refinement_results/{model_name}_train_on_{dataset_type}_mask_type_{mask_type}/debug/{epoch}_{batch_id}.png\")\n",
    "        plt.close(fig)\n",
    "\n",
    "def save_metrics(train_losses,val_losses,train_m_iou,val_m_iou,model_name,dataset_type,mask_type):\n",
    "    plt.figure(figsize=(12, 5))\n",
    "    plt.subplot(1, 2, 1)\n",
    "    plt.plot(train_losses, label=\"Train Loss\")\n",
    "    plt.plot(val_losses, label=\"Val Loss\")\n",
    "    plt.legend()\n",
    "    plt.title(\"Loss\")\n",
    "\n",
    "    plt.subplot(1, 2, 2)\n",
    "    plt.plot(train_m_iou, label=\"Train mIoU\")\n",
    "    plt.plot(val_m_iou, label=\"Val mIoU\")\n",
    "    plt.legend()\n",
    "    plt.title(\"Mean IoU\")\n",
    "    plt.savefig(f\"refinement_results/{model_name}_train_on_{dataset_type}_mask_type_{mask_type}/metrics.png\")\n",
    "    plt.close()\n",
    "\n",
    "\n",
    "def one_batch(model,model_name,epoch,device,\n",
    "              batch,batch_id,\n",
    "              optimizer:optim.Optimizer,\n",
    "              loss_function:nn.CrossEntropyLoss,\n",
    "              dataset_type:str,mask_type,\n",
    "              on_training=True):\n",
    "    model.train() if on_training else model.eval()\n",
    "    if dataset_type == \"i3\":\n",
    "        pl,sam,gt = batch\n",
    "        pl,sam,gt = pl.float(),sam.float(),gt.long()\n",
    "        pl,sam,gt = pl.to(device),sam.to(device),gt.to(device)\n",
    "        preds = model(pl,sam)\n",
    "    else :\n",
    "        sam,gt = batch\n",
    "        sam,gt = sam.float(),gt.long()\n",
    "        sam,gt = sam.to(device),gt.to(device)\n",
    "        preds = model(sam,sam) \n",
    "    loss = loss_function(preds,gt.squeeze(1))\n",
    "    if on_training:\n",
    "        optimizer.zero_grad()\n",
    "        loss.backward()\n",
    "        optimizer.step()\n",
    "\n",
    "    preds = preds.argmax(dim=1)\n",
    "\n",
    "    iou = compute_iou(preds,gt.squeeze(1))\n",
    "\n",
    "    if not on_training :\n",
    "        if dataset_type == \"i3\":\n",
    "            plot(pl,sam,preds,gt,epoch,batch_id,model_name,dataset_type,mask_type)\n",
    "        else :\n",
    "            plot(sam,sam,preds,gt,epoch,batch_id,model_name,dataset_type,mask_type)\n",
    "\n",
    "    return loss.item(), iou\n",
    "\n",
    "\n",
    "def one_epoch(model,model_name,epoch,device,\n",
    "              dataloader: DataLoader,\n",
    "              optimizer:optim.Optimizer,\n",
    "              loss_function:nn.CrossEntropyLoss,\n",
    "              dataset_type:str,mask_type,\n",
    "              on_training=True):\n",
    "    train_loss = 0\n",
    "    m_iou = 0\n",
    "    N = 0\n",
    "    for batch_id,batch in enumerate(dataloader):\n",
    "        loss,iou = one_batch(model=model,model_name=model_name,mask_type=mask_type,epoch=epoch,device=device,batch=batch,batch_id=batch_id,optimizer=optimizer,dataset_type=dataset_type, loss_function=loss_function,on_training=on_training)\n",
    "        if batch_id % 100 == 0: \n",
    "            print(\"train_loss = \",loss,\" epoch = \",epoch,\" batch_id = \",batch_id)\n",
    "        train_loss = train_loss + loss\n",
    "        m_iou = m_iou + iou\n",
    "        N += 1\n",
    "    return train_loss / N, m_iou / N\n",
    "\n",
    "def train(model,max_epochs,lr,train_dl,val_dl,model_name,dataset_type,mask_type):\n",
    "    train_losses = []\n",
    "    val_losses = []\n",
    "    train_m_iou = []\n",
    "    val_m_iou = []\n",
    "    device = \"cuda\" #if torch.cuda.is_available() else \"cpu\"\n",
    "    best_val_iou = 1000\n",
    "\n",
    "    model = model.to(device)\n",
    "    optimizer = optim.AdamW(model.parameters(),lr=lr)\n",
    "    weight = torch.tensor([1.,5.],device=device)  \n",
    "    loss_function = nn.CrossEntropyLoss(ignore_index=255)\n",
    "    progress_bar = tqdm(range(max_epochs))\n",
    "\n",
    "    if dataset_type == \"i3\":\n",
    "        train_dataset = \"i3\"\n",
    "        val_dataset = \"i3\"\n",
    "    else:\n",
    "        train_dataset = \"weih\"\n",
    "        val_dataset = \"weih\"\n",
    "    for epoch in progress_bar:\n",
    "        train_loss, train_iou = one_epoch(model=model,model_name=model_name,mask_type=mask_type,epoch=epoch,device=device,dataloader=train_dl,optimizer=optimizer,dataset_type=train_dataset,loss_function=loss_function,on_training=True)\n",
    "        train_losses.append(train_loss)\n",
    "        train_m_iou.append(train_iou)\n",
    "        with torch.no_grad():\n",
    "            val_loss, val_iou = one_epoch(model=model,model_name=model_name,mask_type=mask_type,epoch=epoch,device=device,dataloader=val_dl,optimizer=optimizer,dataset_type=val_dataset,loss_function=loss_function,on_training=False)\n",
    "            val_losses.append(val_loss)\n",
    "            val_m_iou.append(val_iou)\n",
    "        progress_bar.set_postfix(dict(train_loss=train_loss,train_iou=train_iou,val_loss=val_loss,val_iou=val_iou))\n",
    "        # save losses and IoU\n",
    "        save_metrics(train_losses,val_losses,train_m_iou,val_m_iou,model_name,dataset_type,mask_type=mask_type)\n",
    "        if val_iou < best_val_iou:\n",
    "            best_val_iou = val_iou\n",
    "            torch.save({\n",
    "                'epoch': epoch,\n",
    "                'model_state_dict': model.state_dict(),\n",
    "                'optimizer_state_dict': optimizer.state_dict(),\n",
    "                'val_iou': val_iou\n",
    "            }, f\"refinement_results/{model_name}_train_on_{dataset_type}_mask_type_{mask_type}/best_checkpoint.pth\")"
   ]
  },
  {
   "cell_type": "code",
   "execution_count": null,
   "id": "e0bc46ea9a659314",
   "metadata": {
    "ExecuteTime": {
     "end_time": "2025-05-08T14:20:47.068240Z",
     "start_time": "2025-05-08T14:20:46.970106Z"
    }
   },
   "outputs": [],
   "source": [
    "train_ds = WeihToI3(mode=\"train\",)\n",
    "val_ds = WeihToI3(mode=\"val\",)\n",
    "train_dl = DataLoader(train_ds,2,True,num_workers=8)\n",
    "val_dl = DataLoader(val_ds,1,False,num_workers=8)"
   ]
  },
  {
   "cell_type": "code",
   "execution_count": null,
   "id": "54f651a4",
   "metadata": {},
   "outputs": [
    {
     "data": {
      "text/plain": [
       "tensor([0, 1], dtype=torch.uint8)"
      ]
     },
     "execution_count": 11,
     "metadata": {},
     "output_type": "execute_result"
    }
   ],
   "source": [
    "train_ds[1][0].unique()"
   ]
  },
  {
   "cell_type": "code",
   "execution_count": null,
   "id": "0dec965b",
   "metadata": {},
   "outputs": [
    {
     "data": {
      "text/plain": [
       "<matplotlib.image.AxesImage at 0x7f7735f6b4c0>"
      ]
     },
     "execution_count": 12,
     "metadata": {},
     "output_type": "execute_result"
    },
    {
     "data": {
      "image/png": "[encoded data removed]",
      "text/plain": [
       "<Figure size 640x480 with 1 Axes>"
      ]
     },
     "metadata": {},
     "output_type": "display_data"
    }
   ],
   "source": [
    "plt.imshow(train_ds[0][2].squeeze())"
   ]
  },
  {
   "cell_type": "code",
   "execution_count": null,
   "id": "f4c1e52015d068c7",
   "metadata": {
    "ExecuteTime": {
     "end_time": "2025-05-08T14:20:47.089077Z",
     "start_time": "2025-05-08T14:20:47.081528Z"
    }
   },
   "outputs": [
    {
     "data": {
      "text/plain": [
       "(4182, 3585)"
      ]
     },
     "execution_count": 13,
     "metadata": {},
     "output_type": "execute_result"
    }
   ],
   "source": [
    "len(train_dl),len(val_dl)"
   ]
  },
  {
   "cell_type": "code",
   "execution_count": null,
   "id": "f840c58d",
   "metadata": {
    "ExecuteTime": {
     "end_time": "2025-05-08T14:21:18.830924Z",
     "start_time": "2025-05-08T14:21:18.824453Z"
    }
   },
   "outputs": [],
   "source": [
    "torch.cuda.empty_cache()"
   ]
  },
  {
   "cell_type": "code",
   "execution_count": null,
   "id": "8f0ec64c",
   "metadata": {},
   "outputs": [],
   "source": [
    "model = UNet(2,2)"
   ]
  },
  {
   "cell_type": "code",
   "execution_count": null,
   "id": "9aba76c8",
   "metadata": {
    "ExecuteTime": {
     "start_time": "2025-05-08T14:21:19.919403Z"
    },
    "jupyter": {
     "is_executing": true
    }
   },
   "outputs": [
    {
     "name": "stderr",
     "output_type": "stream",
     "text": [
      "  0%|          | 0/50 [00:00<?, ?it/s]"
     ]
    },
    {
     "name": "stdout",
     "output_type": "stream",
     "text": [
      "train_loss =  0.6240667104721069  epoch =  0  batch_id =  0\n",
      "train_loss =  0.4345565438270569  epoch =  0  batch_id =  100\n",
      "train_loss =  0.22791819274425507  epoch =  0  batch_id =  200\n",
      "train_loss =  0.4464794993400574  epoch =  0  batch_id =  300\n",
      "train_loss =  0.2009187787771225  epoch =  0  batch_id =  400\n",
      "train_loss =  0.25275811553001404  epoch =  0  batch_id =  500\n",
      "train_loss =  0.827468752861023  epoch =  0  batch_id =  600\n",
      "train_loss =  0.1712782084941864  epoch =  0  batch_id =  700\n",
      "train_loss =  0.5238303542137146  epoch =  0  batch_id =  800\n",
      "train_loss =  0.18170686066150665  epoch =  0  batch_id =  900\n",
      "train_loss =  0.33149075508117676  epoch =  0  batch_id =  1000\n",
      "train_loss =  0.27036720514297485  epoch =  0  batch_id =  1100\n",
      "train_loss =  0.2485574632883072  epoch =  0  batch_id =  1200\n",
      "train_loss =  0.28076639771461487  epoch =  0  batch_id =  1300\n",
      "train_loss =  0.23736083507537842  epoch =  0  batch_id =  1400\n",
      "train_loss =  0.27954888343811035  epoch =  0  batch_id =  1500\n",
      "train_loss =  0.22268617153167725  epoch =  0  batch_id =  1600\n",
      "train_loss =  0.7262064218521118  epoch =  0  batch_id =  1700\n",
      "train_loss =  0.21119144558906555  epoch =  0  batch_id =  1800\n",
      "train_loss =  0.35932981967926025  epoch =  0  batch_id =  1900\n",
      "train_loss =  0.4888743758201599  epoch =  0  batch_id =  2000\n",
      "train_loss =  0.5663995742797852  epoch =  0  batch_id =  2100\n",
      "train_loss =  0.36255380511283875  epoch =  0  batch_id =  2200\n",
      "train_loss =  0.10512097179889679  epoch =  0  batch_id =  2300\n",
      "train_loss =  0.337750643491745  epoch =  0  batch_id =  2400\n",
      "train_loss =  0.2833263874053955  epoch =  0  batch_id =  2500\n",
      "train_loss =  0.6284773349761963  epoch =  0  batch_id =  2600\n",
      "train_loss =  0.8136681914329529  epoch =  0  batch_id =  2700\n",
      "train_loss =  0.3635987937450409  epoch =  0  batch_id =  2800\n",
      "train_loss =  0.11999673396348953  epoch =  0  batch_id =  2900\n",
      "train_loss =  0.1291116178035736  epoch =  0  batch_id =  3000\n",
      "train_loss =  0.23075437545776367  epoch =  0  batch_id =  3100\n",
      "train_loss =  0.17202074825763702  epoch =  0  batch_id =  3200\n",
      "train_loss =  0.3025429844856262  epoch =  0  batch_id =  3300\n",
      "train_loss =  0.2481061816215515  epoch =  0  batch_id =  3400\n",
      "train_loss =  0.4209737777709961  epoch =  0  batch_id =  3500\n",
      "train_loss =  0.3027738630771637  epoch =  0  batch_id =  3600\n",
      "train_loss =  0.20256169140338898  epoch =  0  batch_id =  3700\n",
      "train_loss =  0.33180058002471924  epoch =  0  batch_id =  3800\n",
      "train_loss =  0.19367174804210663  epoch =  0  batch_id =  3900\n",
      "train_loss =  0.10653621703386307  epoch =  0  batch_id =  4000\n",
      "train_loss =  0.12160314619541168  epoch =  0  batch_id =  4100\n",
      "train_loss =  270.7138671875  epoch =  0  batch_id =  0\n",
      "train_loss =  391.2627868652344  epoch =  0  batch_id =  100\n",
      "train_loss =  441.27911376953125  epoch =  0  batch_id =  200\n",
      "train_loss =  8.656007412355393e-05  epoch =  0  batch_id =  300\n",
      "train_loss =  142.0293426513672  epoch =  0  batch_id =  400\n",
      "train_loss =  260.5482177734375  epoch =  0  batch_id =  500\n",
      "train_loss =  0.6148521900177002  epoch =  0  batch_id =  600\n",
      "train_loss =  7.029830157989636e-05  epoch =  0  batch_id =  700\n",
      "train_loss =  0.0  epoch =  0  batch_id =  800\n",
      "train_loss =  0.0  epoch =  0  batch_id =  900\n",
      "train_loss =  1198.8983154296875  epoch =  0  batch_id =  1000\n",
      "train_loss =  197.72447204589844  epoch =  0  batch_id =  1100\n",
      "train_loss =  0.0  epoch =  0  batch_id =  1200\n",
      "train_loss =  0.0  epoch =  0  batch_id =  1300\n",
      "train_loss =  160.428955078125  epoch =  0  batch_id =  1400\n",
      "train_loss =  0.0  epoch =  0  batch_id =  1500\n",
      "train_loss =  0.0  epoch =  0  batch_id =  1600\n",
      "train_loss =  1.3642948943015654e-05  epoch =  0  batch_id =  1700\n",
      "train_loss =  0.0  epoch =  0  batch_id =  1800\n",
      "train_loss =  1767.868408203125  epoch =  0  batch_id =  1900\n",
      "train_loss =  1354.765380859375  epoch =  0  batch_id =  2000\n",
      "train_loss =  4.710275650024414  epoch =  0  batch_id =  2100\n",
      "train_loss =  83.97464752197266  epoch =  0  batch_id =  2200\n",
      "train_loss =  30.100021362304688  epoch =  0  batch_id =  2300\n",
      "train_loss =  7.384897138251745e-09  epoch =  0  batch_id =  2400\n",
      "train_loss =  0.0  epoch =  0  batch_id =  2500\n",
      "train_loss =  116.01841735839844  epoch =  0  batch_id =  2600\n",
      "train_loss =  0.0  epoch =  0  batch_id =  2700\n",
      "train_loss =  937.7369995117188  epoch =  0  batch_id =  2800\n",
      "train_loss =  0.019834410399198532  epoch =  0  batch_id =  2900\n",
      "train_loss =  0.07629257440567017  epoch =  0  batch_id =  3000\n",
      "train_loss =  0.0  epoch =  0  batch_id =  3100\n",
      "train_loss =  0.23845653235912323  epoch =  0  batch_id =  3200\n",
      "train_loss =  0.0  epoch =  0  batch_id =  3300\n",
      "train_loss =  0.0  epoch =  0  batch_id =  3400\n",
      "train_loss =  662.7683715820312  epoch =  0  batch_id =  3500\n"
     ]
    },
    {
     "name": "stderr",
     "output_type": "stream",
     "text": [
      "  2%|▏         | 1/50 [15:03<12:18:06, 903.80s/it, train_loss=0.331, train_iou=0.447, val_loss=186, val_iou=0.448]"
     ]
    },
    {
     "name": "stdout",
     "output_type": "stream",
     "text": [
      "train_loss =  1.033709168434143  epoch =  1  batch_id =  0\n"
     ]
    }
   ],
   "source": [
    "train(model,50,1e-4,train_dl,val_dl,\"Refine\",\"i3\",\"colour\")"
   ]
  },
  {
   "cell_type": "code",
   "execution_count": null,
   "id": "c08dda92",
   "metadata": {},
   "outputs": [],
   "source": []
  }
 ],
 "metadata": {
  "kernelspec": {
   "display_name": "prism-uda",
   "language": "python",
   "name": "python3"
  },
  "language_info": {
   "codemirror_mode": {
    "name": "ipython",
    "version": 3
   },
   "file_extension": ".py",
   "mimetype": "text/x-python",
   "name": "python",
   "nbconvert_exporter": "python",
   "pygments_lexer": "ipython3",
   "version": "3.8.20"
  }
 },
 "nbformat": 4,
 "nbformat_minor": 5
}
