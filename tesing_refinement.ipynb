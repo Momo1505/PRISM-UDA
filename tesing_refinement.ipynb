{
 "cells": [
  {
   "cell_type": "code",
   "execution_count": 1,
   "id": "248e2916",
   "metadata": {
    "ExecuteTime": {
     "end_time": "2025-05-08T14:20:46.577299Z",
     "start_time": "2025-05-08T14:20:41.757459Z"
    }
   },
   "outputs": [
    {
     "name": "stderr",
     "output_type": "stream",
     "text": [
      "/home/sow/venv/prism-uda/lib/python3.8/site-packages/tqdm/auto.py:21: TqdmWarning: IProgress not found. Please update jupyter and ipywidgets. See https://ipywidgets.readthedocs.io/en/stable/user_install.html\n",
      "  from .autonotebook import tqdm as notebook_tqdm\n"
     ]
    }
   ],
   "source": [
    "from torch.utils.data import Dataset,DataLoader\n",
    "import torch\n",
    "from torch import tensor\n",
    "import torch.nn as nn\n",
    "import torch.nn.functional as F\n",
    "import glob\n",
    "import os\n",
    "from functools import partial\n",
    "from PIL import Image\n",
    "import matplotlib.pyplot as plt\n",
    "from torchvision import transforms\n",
    "from torch import optim\n",
    "from tqdm import tqdm\n",
    "import numpy as np\n",
    "from refinement_module import UNet\n",
    "from torch.optim.lr_scheduler import OneCycleLR\n",
    "import random\n",
    "from Datasets import WeihToI3\n",
    "from model import UNet"
   ]
  },
  {
   "cell_type": "code",
   "execution_count": 2,
   "id": "be248554",
   "metadata": {},
   "outputs": [],
   "source": [
    "ds = WeihToI3(mode=\"val\")"
   ]
  },
  {
   "cell_type": "code",
   "execution_count": 3,
   "id": "688a80a4",
   "metadata": {},
   "outputs": [],
   "source": [
    "a = ds[1][0].float().unsqueeze(0)"
   ]
  },
  {
   "cell_type": "code",
   "execution_count": 4,
   "id": "73086dca",
   "metadata": {},
   "outputs": [
    {
     "data": {
      "text/plain": [
       "torch.Size([1, 1, 256, 256])"
      ]
     },
     "execution_count": 4,
     "metadata": {},
     "output_type": "execute_result"
    }
   ],
   "source": [
    "a.shape"
   ]
  },
  {
   "cell_type": "code",
   "execution_count": 5,
   "id": "7dc3515b",
   "metadata": {},
   "outputs": [
    {
     "data": {
      "text/plain": [
       "torch.Size([1, 256, 256])"
      ]
     },
     "execution_count": 5,
     "metadata": {},
     "output_type": "execute_result"
    }
   ],
   "source": [
    "ds[1][1].shape"
   ]
  },
  {
   "cell_type": "code",
   "execution_count": 6,
   "id": "b8a611e3",
   "metadata": {},
   "outputs": [],
   "source": [
    "model = UNet(2,2)"
   ]
  },
  {
   "cell_type": "code",
   "execution_count": 7,
   "id": "4878e7e3",
   "metadata": {},
   "outputs": [
    {
     "data": {
      "text/plain": [
       "torch.Size([1, 2, 256, 256])"
      ]
     },
     "execution_count": 7,
     "metadata": {},
     "output_type": "execute_result"
    }
   ],
   "source": [
    "model(a,a).shape"
   ]
  },
  {
   "cell_type": "code",
   "execution_count": 8,
   "id": "a461f5ce",
   "metadata": {},
   "outputs": [
    {
     "data": {
      "text/plain": [
       "<matplotlib.image.AxesImage at 0x7f4381338a90>"
      ]
     },
     "execution_count": 8,
     "metadata": {},
     "output_type": "execute_result"
    },
    {
     "data": {
      "image/png": "[encoded data removed]",
      "text/plain": [
       "<Figure size 640x480 with 1 Axes>"
      ]
     },
     "metadata": {},
     "output_type": "display_data"
    }
   ],
   "source": [
    "plt.imshow(a.squeeze())"
   ]
  },
  {
   "cell_type": "code",
   "execution_count": 8,
   "id": "db7166d8",
   "metadata": {
    "ExecuteTime": {
     "end_time": "2025-05-08T14:20:46.955637Z",
     "start_time": "2025-05-08T14:20:46.827477Z"
    }
   },
   "outputs": [],
   "source": [
    "def compute_iou(preds:torch.Tensor,gt:torch.Tensor,num_classes=2,ignore_index=255):\n",
    "    mask = gt != ignore_index\n",
    "    preds = preds[mask]\n",
    "    gt = gt[mask]\n",
    "\n",
    "    iou_list = []\n",
    "\n",
    "    for cls in range(num_classes):\n",
    "        cls_in_preds = preds == cls\n",
    "        cls_in_gt = gt == cls\n",
    "\n",
    "        intersection = (cls_in_preds & cls_in_gt).sum().item()\n",
    "        union = (cls_in_preds | cls_in_gt).sum().item()\n",
    "\n",
    "        if union == 0:\n",
    "            iou_list.append(0)\n",
    "            continue  # this class is not present in gt\n",
    "\n",
    "        iou = intersection / union\n",
    "        iou_list.append(iou)\n",
    "\n",
    "    if not iou_list:\n",
    "        raise ValueError(\"No class found in this predictions\")\n",
    "    return sum(iou_list) / len(iou_list)\n",
    "\n",
    "def plot(pl:torch.Tensor,\n",
    "         sam:torch.Tensor,\n",
    "         preds:torch.Tensor,\n",
    "         gt:torch.Tensor,\n",
    "         epoch,\n",
    "         batch_id,\n",
    "         model_name,\n",
    "         dataset_type,mask_type\n",
    "         ):\n",
    "    if batch_id % 200==0:\n",
    "        pl = pl.squeeze().detach().cpu().numpy()\n",
    "        sam = sam.squeeze().detach().cpu().numpy()\n",
    "        preds = preds.squeeze().detach().cpu().numpy()\n",
    "        gt = gt.squeeze().detach().cpu().numpy()\n",
    "\n",
    "        fig, axes = plt.subplots(nrows=1, ncols=4, figsize=(16, 4))\n",
    "\n",
    "        axes[0].imshow(pl)\n",
    "        axes[0].set_title(\"Pseudo label de l'EMA\")\n",
    "\n",
    "        axes[1].imshow(sam)\n",
    "        axes[1].set_title(\"SAM\")\n",
    "\n",
    "        axes[2].imshow(preds)\n",
    "        axes[2].set_title(\"Prédictions du raffineur\")\n",
    "\n",
    "        axes[3].imshow(gt)\n",
    "        axes[3].set_title(\"Ground truth\")\n",
    "\n",
    "        plt.tight_layout()\n",
    "\n",
    "        os.makedirs(f\"refinement_results/{model_name}_train_on_{dataset_type}_mask_type_{mask_type}/debug\", exist_ok=True)\n",
    "        plt.savefig(f\"refinement_results/{model_name}_train_on_{dataset_type}_mask_type_{mask_type}/debug/{epoch}_{batch_id}.png\")\n",
    "        plt.close(fig)\n",
    "\n",
    "def save_metrics(train_losses,val_losses,train_m_iou,val_m_iou,model_name,dataset_type,mask_type):\n",
    "    plt.figure(figsize=(12, 5))\n",
    "    plt.subplot(1, 2, 1)\n",
    "    plt.plot(train_losses, label=\"Train Loss\")\n",
    "    plt.plot(val_losses, label=\"Val Loss\")\n",
    "    plt.legend()\n",
    "    plt.title(\"Loss\")\n",
    "\n",
    "    plt.subplot(1, 2, 2)\n",
    "    plt.plot(train_m_iou, label=\"Train mIoU\")\n",
    "    plt.plot(val_m_iou, label=\"Val mIoU\")\n",
    "    plt.legend()\n",
    "    plt.title(\"Mean IoU\")\n",
    "    plt.savefig(f\"refinement_results/{model_name}_train_on_{dataset_type}_mask_type_{mask_type}/metrics.png\")\n",
    "    plt.close()\n",
    "\n",
    "\n",
    "def one_batch(model,model_name,epoch,device,\n",
    "              batch,batch_id,\n",
    "              optimizer:optim.Optimizer,\n",
    "              loss_function:nn.CrossEntropyLoss,\n",
    "              dataset_type:str,mask_type,\n",
    "              on_training=True):\n",
    "    model.train() if on_training else model.eval()\n",
    "    if dataset_type == \"i3\":\n",
    "        pl,sam,gt = batch\n",
    "        pl,sam,gt = pl.float(),sam.float(),gt.long()\n",
    "        pl,sam,gt = pl.to(device),sam.to(device),gt.to(device)\n",
    "        preds = model(pl,sam)\n",
    "    else :\n",
    "        sam,gt = batch\n",
    "        sam,gt = sam.float(),gt.long()\n",
    "        sam,gt = sam.to(device),gt.to(device)\n",
    "        preds = model(sam,sam) \n",
    "    loss = loss_function(preds,gt.squeeze(1))\n",
    "    if on_training:\n",
    "        optimizer.zero_grad()\n",
    "        loss.backward()\n",
    "        optimizer.step()\n",
    "\n",
    "    preds = preds.argmax(dim=1)\n",
    "\n",
    "    iou = compute_iou(preds,gt.squeeze(1))\n",
    "\n",
    "    if not on_training :\n",
    "        if dataset_type == \"i3\":\n",
    "            plot(pl,sam,preds,gt,epoch,batch_id,model_name,dataset_type,mask_type)\n",
    "        else :\n",
    "            plot(sam,sam,preds,gt,epoch,batch_id,model_name,dataset_type,mask_type)\n",
    "\n",
    "    return loss.item(), iou\n",
    "\n",
    "\n",
    "def one_epoch(model,model_name,epoch,device,\n",
    "              dataloader: DataLoader,\n",
    "              optimizer:optim.Optimizer,\n",
    "              loss_function:nn.CrossEntropyLoss,\n",
    "              dataset_type:str,mask_type,\n",
    "              on_training=True):\n",
    "    train_loss = 0\n",
    "    m_iou = 0\n",
    "    N = 0\n",
    "    for batch_id,batch in enumerate(dataloader):\n",
    "        loss,iou = one_batch(model=model,model_name=model_name,mask_type=mask_type,epoch=epoch,device=device,batch=batch,batch_id=batch_id,optimizer=optimizer,dataset_type=dataset_type, loss_function=loss_function,on_training=on_training)\n",
    "        if batch_id % 100 == 0: \n",
    "            print(\"train_loss = \",loss,\" epoch = \",epoch,\" batch_id = \",batch_id)\n",
    "        train_loss = train_loss + loss\n",
    "        m_iou = m_iou + iou\n",
    "        N += 1\n",
    "    return train_loss / N, m_iou / N\n",
    "\n",
    "def train(model,max_epochs,lr,train_dl,val_dl,model_name,dataset_type,mask_type):\n",
    "    train_losses = []\n",
    "    val_losses = []\n",
    "    train_m_iou = []\n",
    "    val_m_iou = []\n",
    "    device = \"cuda\" #if torch.cuda.is_available() else \"cpu\"\n",
    "    best_val_iou = 1000\n",
    "\n",
    "    model = model.to(device)\n",
    "    optimizer = optim.AdamW(model.parameters(),lr=lr)\n",
    "    weight = torch.tensor([1.,5.],device=device)  \n",
    "    loss_function = nn.CrossEntropyLoss(ignore_index=255)\n",
    "    progress_bar = tqdm(range(max_epochs))\n",
    "\n",
    "    if dataset_type == \"i3\":\n",
    "        train_dataset = \"i3\"\n",
    "        val_dataset = \"i3\"\n",
    "    else:\n",
    "        train_dataset = \"weih\"\n",
    "        val_dataset = \"weih\"\n",
    "    for epoch in progress_bar:\n",
    "        train_loss, train_iou = one_epoch(model=model,model_name=model_name,mask_type=mask_type,epoch=epoch,device=device,dataloader=train_dl,optimizer=optimizer,dataset_type=train_dataset,loss_function=loss_function,on_training=True)\n",
    "        train_losses.append(train_loss)\n",
    "        train_m_iou.append(train_iou)\n",
    "        with torch.no_grad():\n",
    "            val_loss, val_iou = one_epoch(model=model,model_name=model_name,mask_type=mask_type,epoch=epoch,device=device,dataloader=val_dl,optimizer=optimizer,dataset_type=val_dataset,loss_function=loss_function,on_training=False)\n",
    "            val_losses.append(val_loss)\n",
    "            val_m_iou.append(val_iou)\n",
    "        progress_bar.set_postfix(dict(train_loss=train_loss,train_iou=train_iou,val_loss=val_loss,val_iou=val_iou))\n",
    "        # save losses and IoU\n",
    "        save_metrics(train_losses,val_losses,train_m_iou,val_m_iou,model_name,dataset_type,mask_type=mask_type)\n",
    "        if val_iou < best_val_iou:\n",
    "            best_val_iou = val_iou\n",
    "            torch.save({\n",
    "                'epoch': epoch,\n",
    "                'model_state_dict': model.state_dict(),\n",
    "                'optimizer_state_dict': optimizer.state_dict(),\n",
    "                'val_iou': val_iou\n",
    "            }, f\"refinement_results/{model_name}_train_on_{dataset_type}_mask_type_{mask_type}/best_checkpoint.pth\")"
   ]
  },
  {
   "cell_type": "code",
   "execution_count": 9,
   "id": "e0bc46ea9a659314",
   "metadata": {
    "ExecuteTime": {
     "end_time": "2025-05-08T14:20:47.068240Z",
     "start_time": "2025-05-08T14:20:46.970106Z"
    }
   },
   "outputs": [],
   "source": [
    "train_ds = WeihToI3(mode=\"train\",)\n",
    "val_ds = WeihToI3(mode=\"val\",)\n",
    "train_dl = DataLoader(train_ds,2,True,num_workers=8)\n",
    "val_dl = DataLoader(val_ds,1,False,num_workers=8)"
   ]
  },
  {
   "cell_type": "code",
   "execution_count": 10,
   "id": "54f651a4",
   "metadata": {},
   "outputs": [
    {
     "data": {
      "text/plain": [
       "tensor([0, 1], dtype=torch.uint8)"
      ]
     },
     "execution_count": 10,
     "metadata": {},
     "output_type": "execute_result"
    }
   ],
   "source": [
    "train_ds[1][0].unique()"
   ]
  },
  {
   "cell_type": "code",
   "execution_count": 11,
   "id": "0dec965b",
   "metadata": {},
   "outputs": [
    {
     "data": {
      "text/plain": [
       "<matplotlib.image.AxesImage at 0x7f07bdd86280>"
      ]
     },
     "execution_count": 11,
     "metadata": {},
     "output_type": "execute_result"
    },
    {
     "data": {
      "image/png": "[encoded data removed]",
      "text/plain": [
       "<Figure size 640x480 with 1 Axes>"
      ]
     },
     "metadata": {},
     "output_type": "display_data"
    }
   ],
   "source": [
    "plt.imshow(train_ds[0][2].squeeze())"
   ]
  },
  {
   "cell_type": "code",
   "execution_count": 12,
   "id": "f4c1e52015d068c7",
   "metadata": {
    "ExecuteTime": {
     "end_time": "2025-05-08T14:20:47.089077Z",
     "start_time": "2025-05-08T14:20:47.081528Z"
    }
   },
   "outputs": [
    {
     "data": {
      "text/plain": [
       "(4182, 3585)"
      ]
     },
     "execution_count": 12,
     "metadata": {},
     "output_type": "execute_result"
    }
   ],
   "source": [
    "len(train_dl),len(val_dl)"
   ]
  },
  {
   "cell_type": "code",
   "execution_count": 13,
   "id": "f840c58d",
   "metadata": {
    "ExecuteTime": {
     "end_time": "2025-05-08T14:21:18.830924Z",
     "start_time": "2025-05-08T14:21:18.824453Z"
    }
   },
   "outputs": [],
   "source": [
    "torch.cuda.empty_cache()"
   ]
  },
  {
   "cell_type": "code",
   "execution_count": 14,
   "id": "8f0ec64c",
   "metadata": {},
   "outputs": [],
   "source": [
    "model = UNet(2,2)"
   ]
  },
  {
   "cell_type": "code",
   "execution_count": null,
   "id": "9aba76c8",
   "metadata": {
    "ExecuteTime": {
     "start_time": "2025-05-08T14:21:19.919403Z"
    },
    "jupyter": {
     "is_executing": true
    }
   },
   "outputs": [
    {
     "name": "stderr",
     "output_type": "stream",
     "text": [
      "  0%|          | 0/50 [00:00<?, ?it/s]"
     ]
    },
    {
     "name": "stdout",
     "output_type": "stream",
     "text": [
      "train_loss =  24.470443725585938  epoch =  0  batch_id =  0\n",
      "train_loss =  0.17944014072418213  epoch =  0  batch_id =  100\n",
      "train_loss =  0.5937877297401428  epoch =  0  batch_id =  200\n",
      "train_loss =  0.027424782514572144  epoch =  0  batch_id =  300\n",
      "train_loss =  0.12890732288360596  epoch =  0  batch_id =  400\n",
      "train_loss =  0.2820359170436859  epoch =  0  batch_id =  500\n",
      "train_loss =  0.17693790793418884  epoch =  0  batch_id =  600\n",
      "train_loss =  0.12732672691345215  epoch =  0  batch_id =  700\n",
      "train_loss =  0.17192935943603516  epoch =  0  batch_id =  800\n",
      "train_loss =  0.38250288367271423  epoch =  0  batch_id =  900\n",
      "train_loss =  0.6973953247070312  epoch =  0  batch_id =  1000\n",
      "train_loss =  0.1762378215789795  epoch =  0  batch_id =  1100\n",
      "train_loss =  0.0005974449450150132  epoch =  0  batch_id =  1200\n",
      "train_loss =  0.7872117757797241  epoch =  0  batch_id =  1300\n",
      "train_loss =  0.33298516273498535  epoch =  0  batch_id =  1400\n",
      "train_loss =  0.10853752493858337  epoch =  0  batch_id =  1500\n",
      "train_loss =  0.053993985056877136  epoch =  0  batch_id =  1600\n",
      "train_loss =  0.12390393018722534  epoch =  0  batch_id =  1700\n",
      "train_loss =  0.15789102017879486  epoch =  0  batch_id =  1800\n",
      "train_loss =  0.17885500192642212  epoch =  0  batch_id =  1900\n",
      "train_loss =  0.033460598438978195  epoch =  0  batch_id =  2000\n",
      "train_loss =  0.13192346692085266  epoch =  0  batch_id =  2100\n",
      "train_loss =  0.2586590051651001  epoch =  0  batch_id =  2200\n",
      "train_loss =  0.12101996690034866  epoch =  0  batch_id =  2300\n",
      "train_loss =  0.05221528932452202  epoch =  0  batch_id =  2400\n",
      "train_loss =  0.18575647473335266  epoch =  0  batch_id =  2500\n",
      "train_loss =  0.0068995594047009945  epoch =  0  batch_id =  2600\n",
      "train_loss =  0.3487136662006378  epoch =  0  batch_id =  2700\n",
      "train_loss =  0.3121758997440338  epoch =  0  batch_id =  2800\n",
      "train_loss =  0.2264736294746399  epoch =  0  batch_id =  2900\n",
      "train_loss =  0.045885730534791946  epoch =  0  batch_id =  3000\n",
      "train_loss =  0.09902243316173553  epoch =  0  batch_id =  3100\n",
      "train_loss =  0.4869834780693054  epoch =  0  batch_id =  3200\n",
      "train_loss =  0.10390744358301163  epoch =  0  batch_id =  3300\n",
      "train_loss =  0.11983159929513931  epoch =  0  batch_id =  3400\n",
      "train_loss =  0.27400943636894226  epoch =  0  batch_id =  3500\n",
      "train_loss =  0.08210757374763489  epoch =  0  batch_id =  3600\n",
      "train_loss =  0.29827895760536194  epoch =  0  batch_id =  3700\n",
      "train_loss =  0.1566922813653946  epoch =  0  batch_id =  3800\n",
      "train_loss =  0.2626792788505554  epoch =  0  batch_id =  3900\n",
      "train_loss =  0.20256027579307556  epoch =  0  batch_id =  4000\n",
      "train_loss =  0.0002903712447732687  epoch =  0  batch_id =  4100\n",
      "train_loss =  0.2758813202381134  epoch =  0  batch_id =  0\n",
      "train_loss =  0.03325460106134415  epoch =  0  batch_id =  100\n",
      "train_loss =  1.3470205068588257  epoch =  0  batch_id =  200\n",
      "train_loss =  0.003545403014868498  epoch =  0  batch_id =  300\n",
      "train_loss =  0.5642003417015076  epoch =  0  batch_id =  400\n",
      "train_loss =  0.19522009789943695  epoch =  0  batch_id =  500\n",
      "train_loss =  0.07562561333179474  epoch =  0  batch_id =  600\n",
      "train_loss =  0.00614236481487751  epoch =  0  batch_id =  700\n",
      "train_loss =  0.0005744374357163906  epoch =  0  batch_id =  800\n",
      "train_loss =  0.0005744374357163906  epoch =  0  batch_id =  900\n",
      "train_loss =  0.3217724561691284  epoch =  0  batch_id =  1000\n",
      "train_loss =  0.07273030281066895  epoch =  0  batch_id =  1100\n",
      "train_loss =  0.0005744374357163906  epoch =  0  batch_id =  1200\n",
      "train_loss =  0.0005744374357163906  epoch =  0  batch_id =  1300\n",
      "train_loss =  0.19063076376914978  epoch =  0  batch_id =  1400\n",
      "train_loss =  0.06678004562854767  epoch =  0  batch_id =  1500\n",
      "train_loss =  0.0005744374357163906  epoch =  0  batch_id =  1600\n",
      "train_loss =  0.01053247507661581  epoch =  0  batch_id =  1700\n",
      "train_loss =  0.0005744374357163906  epoch =  0  batch_id =  1800\n",
      "train_loss =  0.8217408657073975  epoch =  0  batch_id =  1900\n",
      "train_loss =  0.18667379021644592  epoch =  0  batch_id =  2000\n",
      "train_loss =  0.0428561270236969  epoch =  0  batch_id =  2100\n",
      "train_loss =  0.4308689534664154  epoch =  0  batch_id =  2200\n",
      "train_loss =  0.08387584984302521  epoch =  0  batch_id =  2300\n",
      "train_loss =  0.00710981385782361  epoch =  0  batch_id =  2400\n",
      "train_loss =  0.0005744374357163906  epoch =  0  batch_id =  2500\n",
      "train_loss =  0.0956103652715683  epoch =  0  batch_id =  2600\n",
      "train_loss =  0.0005744374357163906  epoch =  0  batch_id =  2700\n",
      "train_loss =  0.20200321078300476  epoch =  0  batch_id =  2800\n",
      "train_loss =  0.032389093190431595  epoch =  0  batch_id =  2900\n",
      "train_loss =  0.004953382536768913  epoch =  0  batch_id =  3000\n",
      "train_loss =  0.000593766279052943  epoch =  0  batch_id =  3100\n",
      "train_loss =  0.012500915676355362  epoch =  0  batch_id =  3200\n",
      "train_loss =  0.0005744374357163906  epoch =  0  batch_id =  3300\n",
      "train_loss =  0.0005744374357163906  epoch =  0  batch_id =  3400\n",
      "train_loss =  0.3695746660232544  epoch =  0  batch_id =  3500\n"
     ]
    },
    {
     "name": "stderr",
     "output_type": "stream",
     "text": [
      "  2%|▏         | 1/50 [06:56<5:40:08, 416.50s/it, train_loss=0.266, train_iou=0.669, val_loss=0.152, val_iou=0.642]"
     ]
    },
    {
     "name": "stdout",
     "output_type": "stream",
     "text": [
      "train_loss =  0.12584832310676575  epoch =  1  batch_id =  0\n",
      "train_loss =  0.17034924030303955  epoch =  1  batch_id =  100\n",
      "train_loss =  0.13262797892093658  epoch =  1  batch_id =  200\n",
      "train_loss =  0.26223671436309814  epoch =  1  batch_id =  300\n",
      "train_loss =  0.09348039329051971  epoch =  1  batch_id =  400\n",
      "train_loss =  0.12309715151786804  epoch =  1  batch_id =  500\n",
      "train_loss =  0.01696350984275341  epoch =  1  batch_id =  600\n",
      "train_loss =  0.043440841138362885  epoch =  1  batch_id =  700\n",
      "train_loss =  0.22031399607658386  epoch =  1  batch_id =  800\n",
      "train_loss =  0.17370346188545227  epoch =  1  batch_id =  900\n",
      "train_loss =  0.13070987164974213  epoch =  1  batch_id =  1000\n",
      "train_loss =  0.1860068291425705  epoch =  1  batch_id =  1100\n",
      "train_loss =  0.05887005105614662  epoch =  1  batch_id =  1200\n",
      "train_loss =  0.11644235253334045  epoch =  1  batch_id =  1300\n",
      "train_loss =  0.032629672437906265  epoch =  1  batch_id =  1400\n",
      "train_loss =  0.2240218073129654  epoch =  1  batch_id =  1500\n",
      "train_loss =  0.45257583260536194  epoch =  1  batch_id =  1600\n",
      "train_loss =  0.17744722962379456  epoch =  1  batch_id =  1700\n",
      "train_loss =  0.0049361977726221085  epoch =  1  batch_id =  1800\n",
      "train_loss =  0.02735440619289875  epoch =  1  batch_id =  1900\n",
      "train_loss =  0.09315419942140579  epoch =  1  batch_id =  2000\n",
      "train_loss =  0.6285958886146545  epoch =  1  batch_id =  2100\n",
      "train_loss =  0.1253403127193451  epoch =  1  batch_id =  2200\n",
      "train_loss =  0.13606701791286469  epoch =  1  batch_id =  2300\n",
      "train_loss =  0.18866585195064545  epoch =  1  batch_id =  2400\n",
      "train_loss =  0.07842575758695602  epoch =  1  batch_id =  2500\n",
      "train_loss =  0.3269117772579193  epoch =  1  batch_id =  2600\n",
      "train_loss =  0.01189002487808466  epoch =  1  batch_id =  2700\n",
      "train_loss =  0.041045062243938446  epoch =  1  batch_id =  2800\n",
      "train_loss =  0.054037757217884064  epoch =  1  batch_id =  2900\n",
      "train_loss =  0.08115941286087036  epoch =  1  batch_id =  3000\n",
      "train_loss =  0.07981324940919876  epoch =  1  batch_id =  3100\n",
      "train_loss =  0.022250518202781677  epoch =  1  batch_id =  3200\n",
      "train_loss =  0.0854615643620491  epoch =  1  batch_id =  3300\n",
      "train_loss =  0.018442805856466293  epoch =  1  batch_id =  3400\n",
      "train_loss =  0.17317716777324677  epoch =  1  batch_id =  3500\n",
      "train_loss =  0.19864389300346375  epoch =  1  batch_id =  3600\n",
      "train_loss =  0.14503194391727448  epoch =  1  batch_id =  3700\n",
      "train_loss =  0.25711119174957275  epoch =  1  batch_id =  3800\n",
      "train_loss =  0.22484605014324188  epoch =  1  batch_id =  3900\n",
      "train_loss =  0.05015649273991585  epoch =  1  batch_id =  4000\n",
      "train_loss =  0.00724802864715457  epoch =  1  batch_id =  4100\n",
      "train_loss =  0.23251193761825562  epoch =  1  batch_id =  0\n",
      "train_loss =  0.03785737603902817  epoch =  1  batch_id =  100\n",
      "train_loss =  1.0162957906723022  epoch =  1  batch_id =  200\n",
      "train_loss =  0.002659147372469306  epoch =  1  batch_id =  300\n",
      "train_loss =  0.48501983284950256  epoch =  1  batch_id =  400\n",
      "train_loss =  0.19833163917064667  epoch =  1  batch_id =  500\n",
      "train_loss =  0.1369253695011139  epoch =  1  batch_id =  600\n",
      "train_loss =  0.009069733321666718  epoch =  1  batch_id =  700\n",
      "train_loss =  0.0009663947275839746  epoch =  1  batch_id =  800\n",
      "train_loss =  0.0009663947275839746  epoch =  1  batch_id =  900\n",
      "train_loss =  0.3306550681591034  epoch =  1  batch_id =  1000\n",
      "train_loss =  0.06602007150650024  epoch =  1  batch_id =  1100\n",
      "train_loss =  0.0009663947275839746  epoch =  1  batch_id =  1200\n",
      "train_loss =  0.0009663947275839746  epoch =  1  batch_id =  1300\n",
      "train_loss =  0.11913792043924332  epoch =  1  batch_id =  1400\n",
      "train_loss =  0.025202276185154915  epoch =  1  batch_id =  1500\n",
      "train_loss =  0.0009663947275839746  epoch =  1  batch_id =  1600\n",
      "train_loss =  0.005808971356600523  epoch =  1  batch_id =  1700\n",
      "train_loss =  0.0009663947275839746  epoch =  1  batch_id =  1800\n",
      "train_loss =  0.7053431272506714  epoch =  1  batch_id =  1900\n",
      "train_loss =  0.13571040332317352  epoch =  1  batch_id =  2000\n",
      "train_loss =  0.051399968564510345  epoch =  1  batch_id =  2100\n",
      "train_loss =  0.4096699357032776  epoch =  1  batch_id =  2200\n",
      "train_loss =  0.07319822907447815  epoch =  1  batch_id =  2300\n",
      "train_loss =  0.004891087766736746  epoch =  1  batch_id =  2400\n",
      "train_loss =  0.0009663947275839746  epoch =  1  batch_id =  2500\n",
      "train_loss =  0.07058108597993851  epoch =  1  batch_id =  2600\n",
      "train_loss =  0.0009663947275839746  epoch =  1  batch_id =  2700\n",
      "train_loss =  0.18951480090618134  epoch =  1  batch_id =  2800\n",
      "train_loss =  0.029554756358265877  epoch =  1  batch_id =  2900\n",
      "train_loss =  0.002525026910007  epoch =  1  batch_id =  3000\n",
      "train_loss =  0.0010030000703409314  epoch =  1  batch_id =  3100\n",
      "train_loss =  0.016182683408260345  epoch =  1  batch_id =  3200\n",
      "train_loss =  0.0009663947275839746  epoch =  1  batch_id =  3300\n",
      "train_loss =  0.0009663947275839746  epoch =  1  batch_id =  3400\n",
      "train_loss =  0.2786310315132141  epoch =  1  batch_id =  3500\n"
     ]
    },
    {
     "name": "stderr",
     "output_type": "stream",
     "text": [
      "  4%|▍         | 2/50 [13:03<5:09:52, 387.34s/it, train_loss=0.145, train_iou=0.714, val_loss=0.14, val_iou=0.661] "
     ]
    },
    {
     "name": "stdout",
     "output_type": "stream",
     "text": [
      "train_loss =  0.3488041162490845  epoch =  2  batch_id =  0\n",
      "train_loss =  0.07070843875408173  epoch =  2  batch_id =  100\n",
      "train_loss =  0.09459947049617767  epoch =  2  batch_id =  200\n",
      "train_loss =  0.1336037516593933  epoch =  2  batch_id =  300\n",
      "train_loss =  0.309194415807724  epoch =  2  batch_id =  400\n",
      "train_loss =  0.023541167378425598  epoch =  2  batch_id =  500\n",
      "train_loss =  0.08993428200483322  epoch =  2  batch_id =  600\n",
      "train_loss =  0.09594294428825378  epoch =  2  batch_id =  700\n",
      "train_loss =  0.09874247014522552  epoch =  2  batch_id =  800\n",
      "train_loss =  0.1488821655511856  epoch =  2  batch_id =  900\n",
      "train_loss =  0.1401548832654953  epoch =  2  batch_id =  1000\n",
      "train_loss =  0.14562562108039856  epoch =  2  batch_id =  1100\n",
      "train_loss =  0.24172332882881165  epoch =  2  batch_id =  1200\n",
      "train_loss =  0.18693935871124268  epoch =  2  batch_id =  1300\n",
      "train_loss =  0.1442374885082245  epoch =  2  batch_id =  1400\n",
      "train_loss =  0.0721527561545372  epoch =  2  batch_id =  1500\n",
      "train_loss =  0.3559172749519348  epoch =  2  batch_id =  1600\n",
      "train_loss =  0.18129323422908783  epoch =  2  batch_id =  1700\n",
      "train_loss =  0.12419170141220093  epoch =  2  batch_id =  1800\n",
      "train_loss =  0.13995735347270966  epoch =  2  batch_id =  1900\n",
      "train_loss =  0.09448511153459549  epoch =  2  batch_id =  2000\n",
      "train_loss =  0.2545571029186249  epoch =  2  batch_id =  2100\n",
      "train_loss =  0.23116308450698853  epoch =  2  batch_id =  2200\n",
      "train_loss =  0.16263572871685028  epoch =  2  batch_id =  2300\n",
      "train_loss =  0.2020060122013092  epoch =  2  batch_id =  2400\n",
      "train_loss =  0.036694519221782684  epoch =  2  batch_id =  2500\n",
      "train_loss =  0.0584283247590065  epoch =  2  batch_id =  2600\n",
      "train_loss =  0.027516601607203484  epoch =  2  batch_id =  2700\n",
      "train_loss =  0.1342277079820633  epoch =  2  batch_id =  2800\n",
      "train_loss =  0.0003234107280150056  epoch =  2  batch_id =  2900\n",
      "train_loss =  0.0007646817248314619  epoch =  2  batch_id =  3000\n",
      "train_loss =  0.004788744263350964  epoch =  2  batch_id =  3100\n",
      "train_loss =  0.08434776961803436  epoch =  2  batch_id =  3200\n",
      "train_loss =  0.10386539250612259  epoch =  2  batch_id =  3300\n",
      "train_loss =  0.0922260731458664  epoch =  2  batch_id =  3400\n",
      "train_loss =  0.08816463500261307  epoch =  2  batch_id =  3500\n",
      "train_loss =  0.0422457717359066  epoch =  2  batch_id =  3600\n",
      "train_loss =  0.09248791635036469  epoch =  2  batch_id =  3700\n",
      "train_loss =  0.03992341086268425  epoch =  2  batch_id =  3800\n",
      "train_loss =  0.09919315576553345  epoch =  2  batch_id =  3900\n",
      "train_loss =  0.05611340329051018  epoch =  2  batch_id =  4000\n",
      "train_loss =  0.0018941322341561317  epoch =  2  batch_id =  4100\n",
      "train_loss =  0.2900007367134094  epoch =  2  batch_id =  0\n",
      "train_loss =  0.024350279942154884  epoch =  2  batch_id =  100\n",
      "train_loss =  0.9440172910690308  epoch =  2  batch_id =  200\n",
      "train_loss =  0.0035508356522768736  epoch =  2  batch_id =  300\n",
      "train_loss =  0.3694893419742584  epoch =  2  batch_id =  400\n",
      "train_loss =  0.17761339247226715  epoch =  2  batch_id =  500\n",
      "train_loss =  0.10967949032783508  epoch =  2  batch_id =  600\n",
      "train_loss =  0.017231574282050133  epoch =  2  batch_id =  700\n",
      "train_loss =  0.0011818811763077974  epoch =  2  batch_id =  800\n",
      "train_loss =  0.0011818811763077974  epoch =  2  batch_id =  900\n",
      "train_loss =  0.22412104904651642  epoch =  2  batch_id =  1000\n",
      "train_loss =  0.06705060601234436  epoch =  2  batch_id =  1100\n",
      "train_loss =  0.0011818811763077974  epoch =  2  batch_id =  1200\n",
      "train_loss =  0.0011818811763077974  epoch =  2  batch_id =  1300\n",
      "train_loss =  0.15873585641384125  epoch =  2  batch_id =  1400\n",
      "train_loss =  0.06031821295619011  epoch =  2  batch_id =  1500\n",
      "train_loss =  0.0011818811763077974  epoch =  2  batch_id =  1600\n",
      "train_loss =  0.007860077545046806  epoch =  2  batch_id =  1700\n",
      "train_loss =  0.0011818811763077974  epoch =  2  batch_id =  1800\n",
      "train_loss =  1.058456301689148  epoch =  2  batch_id =  1900\n",
      "train_loss =  0.10950101166963577  epoch =  2  batch_id =  2000\n",
      "train_loss =  0.06568951904773712  epoch =  2  batch_id =  2100\n",
      "train_loss =  0.19863274693489075  epoch =  2  batch_id =  2200\n",
      "train_loss =  0.12412270158529282  epoch =  2  batch_id =  2300\n",
      "train_loss =  0.007597519084811211  epoch =  2  batch_id =  2400\n",
      "train_loss =  0.0011818811763077974  epoch =  2  batch_id =  2500\n",
      "train_loss =  0.08305352926254272  epoch =  2  batch_id =  2600\n",
      "train_loss =  0.0011818811763077974  epoch =  2  batch_id =  2700\n",
      "train_loss =  0.38721948862075806  epoch =  2  batch_id =  2800\n",
      "train_loss =  0.032317597419023514  epoch =  2  batch_id =  2900\n",
      "train_loss =  0.004828008823096752  epoch =  2  batch_id =  3000\n",
      "train_loss =  0.0014918509405106306  epoch =  2  batch_id =  3100\n",
      "train_loss =  0.011850663460791111  epoch =  2  batch_id =  3200\n",
      "train_loss =  0.0011818811763077974  epoch =  2  batch_id =  3300\n",
      "train_loss =  0.0011818811763077974  epoch =  2  batch_id =  3400\n",
      "train_loss =  0.23724383115768433  epoch =  2  batch_id =  3500\n"
     ]
    },
    {
     "name": "stderr",
     "output_type": "stream",
     "text": [
      "  6%|▌         | 3/50 [19:42<5:07:34, 392.65s/it, train_loss=0.137, train_iou=0.728, val_loss=0.131, val_iou=0.649]"
     ]
    },
    {
     "name": "stdout",
     "output_type": "stream",
     "text": [
      "train_loss =  0.06819324940443039  epoch =  3  batch_id =  0\n",
      "train_loss =  0.005910626612603664  epoch =  3  batch_id =  100\n",
      "train_loss =  0.04596182703971863  epoch =  3  batch_id =  200\n",
      "train_loss =  0.08340185135602951  epoch =  3  batch_id =  300\n",
      "train_loss =  0.11384819447994232  epoch =  3  batch_id =  400\n",
      "train_loss =  0.07317471504211426  epoch =  3  batch_id =  500\n",
      "train_loss =  0.767841100692749  epoch =  3  batch_id =  600\n",
      "train_loss =  0.16077382862567902  epoch =  3  batch_id =  700\n",
      "train_loss =  0.15893372893333435  epoch =  3  batch_id =  800\n",
      "train_loss =  0.06921172887086868  epoch =  3  batch_id =  900\n",
      "train_loss =  0.147182434797287  epoch =  3  batch_id =  1000\n",
      "train_loss =  0.3395751416683197  epoch =  3  batch_id =  1100\n",
      "train_loss =  0.06804662942886353  epoch =  3  batch_id =  1200\n",
      "train_loss =  0.06168828159570694  epoch =  3  batch_id =  1300\n",
      "train_loss =  0.010182450525462627  epoch =  3  batch_id =  1400\n",
      "train_loss =  0.028106827288866043  epoch =  3  batch_id =  1500\n",
      "train_loss =  0.10843286663293839  epoch =  3  batch_id =  1600\n",
      "train_loss =  0.09188774973154068  epoch =  3  batch_id =  1700\n",
      "train_loss =  0.17258772253990173  epoch =  3  batch_id =  1800\n",
      "train_loss =  0.04525470733642578  epoch =  3  batch_id =  1900\n",
      "train_loss =  0.003987480886280537  epoch =  3  batch_id =  2000\n",
      "train_loss =  0.04980579763650894  epoch =  3  batch_id =  2100\n",
      "train_loss =  0.8437473177909851  epoch =  3  batch_id =  2200\n",
      "train_loss =  0.0007584621198475361  epoch =  3  batch_id =  2300\n",
      "train_loss =  0.06423036754131317  epoch =  3  batch_id =  2400\n",
      "train_loss =  0.07597942650318146  epoch =  3  batch_id =  2500\n",
      "train_loss =  0.12472423911094666  epoch =  3  batch_id =  2600\n",
      "train_loss =  0.10163086652755737  epoch =  3  batch_id =  2700\n",
      "train_loss =  0.20758609473705292  epoch =  3  batch_id =  2800\n",
      "train_loss =  0.1412772834300995  epoch =  3  batch_id =  2900\n",
      "train_loss =  0.0070080142468214035  epoch =  3  batch_id =  3000\n",
      "train_loss =  0.06590361893177032  epoch =  3  batch_id =  3100\n",
      "train_loss =  0.04644555598497391  epoch =  3  batch_id =  3200\n",
      "train_loss =  0.11693723499774933  epoch =  3  batch_id =  3300\n",
      "train_loss =  0.07976848632097244  epoch =  3  batch_id =  3400\n",
      "train_loss =  0.24219171702861786  epoch =  3  batch_id =  3500\n",
      "train_loss =  0.1405366063117981  epoch =  3  batch_id =  3600\n",
      "train_loss =  0.0064818160608410835  epoch =  3  batch_id =  3700\n",
      "train_loss =  0.059672124683856964  epoch =  3  batch_id =  3800\n",
      "train_loss =  0.0011036888463422656  epoch =  3  batch_id =  3900\n",
      "train_loss =  0.0594550296664238  epoch =  3  batch_id =  4000\n",
      "train_loss =  0.14764170348644257  epoch =  3  batch_id =  4100\n",
      "train_loss =  0.298350065946579  epoch =  3  batch_id =  0\n",
      "train_loss =  0.054063424468040466  epoch =  3  batch_id =  100\n",
      "train_loss =  0.8040532469749451  epoch =  3  batch_id =  200\n",
      "train_loss =  0.018487021327018738  epoch =  3  batch_id =  300\n",
      "train_loss =  0.2922312617301941  epoch =  3  batch_id =  400\n",
      "train_loss =  0.13312223553657532  epoch =  3  batch_id =  500\n",
      "train_loss =  0.09722040593624115  epoch =  3  batch_id =  600\n",
      "train_loss =  0.016435770317912102  epoch =  3  batch_id =  700\n",
      "train_loss =  0.011063547804951668  epoch =  3  batch_id =  800\n",
      "train_loss =  0.011063547804951668  epoch =  3  batch_id =  900\n",
      "train_loss =  0.2326296716928482  epoch =  3  batch_id =  1000\n",
      "train_loss =  0.07026210427284241  epoch =  3  batch_id =  1100\n",
      "train_loss =  0.011063547804951668  epoch =  3  batch_id =  1200\n",
      "train_loss =  0.011063547804951668  epoch =  3  batch_id =  1300\n",
      "train_loss =  0.14938504993915558  epoch =  3  batch_id =  1400\n",
      "train_loss =  0.14747002720832825  epoch =  3  batch_id =  1500\n",
      "train_loss =  0.011063547804951668  epoch =  3  batch_id =  1600\n",
      "train_loss =  0.021436912938952446  epoch =  3  batch_id =  1700\n",
      "train_loss =  0.011063547804951668  epoch =  3  batch_id =  1800\n",
      "train_loss =  0.7567312121391296  epoch =  3  batch_id =  1900\n",
      "train_loss =  0.12547585368156433  epoch =  3  batch_id =  2000\n",
      "train_loss =  0.059514369815588  epoch =  3  batch_id =  2100\n",
      "train_loss =  0.3045201003551483  epoch =  3  batch_id =  2200\n",
      "train_loss =  0.1281730979681015  epoch =  3  batch_id =  2300\n",
      "train_loss =  0.01900065504014492  epoch =  3  batch_id =  2400\n",
      "train_loss =  0.011063547804951668  epoch =  3  batch_id =  2500\n",
      "train_loss =  0.08948245644569397  epoch =  3  batch_id =  2600\n",
      "train_loss =  0.011063547804951668  epoch =  3  batch_id =  2700\n",
      "train_loss =  0.2765709459781647  epoch =  3  batch_id =  2800\n",
      "train_loss =  0.039033934473991394  epoch =  3  batch_id =  2900\n",
      "train_loss =  0.016502877697348595  epoch =  3  batch_id =  3000\n",
      "train_loss =  0.0112235639244318  epoch =  3  batch_id =  3100\n",
      "train_loss =  0.02866094559431076  epoch =  3  batch_id =  3200\n",
      "train_loss =  0.011063547804951668  epoch =  3  batch_id =  3300\n",
      "train_loss =  0.011063547804951668  epoch =  3  batch_id =  3400\n",
      "train_loss =  0.1657915562391281  epoch =  3  batch_id =  3500\n"
     ]
    },
    {
     "name": "stderr",
     "output_type": "stream",
     "text": [
      "  8%|▊         | 4/50 [26:08<4:59:04, 390.09s/it, train_loss=0.129, train_iou=0.736, val_loss=0.126, val_iou=0.664]"
     ]
    },
    {
     "name": "stdout",
     "output_type": "stream",
     "text": [
      "train_loss =  0.12484438717365265  epoch =  4  batch_id =  0\n",
      "train_loss =  0.39045530557632446  epoch =  4  batch_id =  100\n",
      "train_loss =  0.06468991190195084  epoch =  4  batch_id =  200\n",
      "train_loss =  0.02324780635535717  epoch =  4  batch_id =  300\n",
      "train_loss =  0.04022602364420891  epoch =  4  batch_id =  400\n",
      "train_loss =  0.11946172267198563  epoch =  4  batch_id =  500\n",
      "train_loss =  0.0038027330301702023  epoch =  4  batch_id =  600\n",
      "train_loss =  0.08225692808628082  epoch =  4  batch_id =  700\n",
      "train_loss =  0.09041421115398407  epoch =  4  batch_id =  800\n",
      "train_loss =  0.10972797870635986  epoch =  4  batch_id =  900\n",
      "train_loss =  0.039762891829013824  epoch =  4  batch_id =  1000\n",
      "train_loss =  0.016337687149643898  epoch =  4  batch_id =  1100\n",
      "train_loss =  0.21571491658687592  epoch =  4  batch_id =  1200\n",
      "train_loss =  0.282138854265213  epoch =  4  batch_id =  1300\n",
      "train_loss =  0.005633161403238773  epoch =  4  batch_id =  1400\n",
      "train_loss =  0.132225900888443  epoch =  4  batch_id =  1500\n",
      "train_loss =  0.02752058207988739  epoch =  4  batch_id =  1600\n",
      "train_loss =  0.09142404794692993  epoch =  4  batch_id =  1700\n",
      "train_loss =  0.04745257645845413  epoch =  4  batch_id =  1800\n",
      "train_loss =  0.14826694130897522  epoch =  4  batch_id =  1900\n",
      "train_loss =  0.002195382956415415  epoch =  4  batch_id =  2000\n",
      "train_loss =  0.17810121178627014  epoch =  4  batch_id =  2100\n",
      "train_loss =  0.21024923026561737  epoch =  4  batch_id =  2200\n",
      "train_loss =  0.08455183357000351  epoch =  4  batch_id =  2300\n",
      "train_loss =  0.23520539700984955  epoch =  4  batch_id =  2400\n",
      "train_loss =  0.1845093071460724  epoch =  4  batch_id =  2500\n",
      "train_loss =  0.004369317088276148  epoch =  4  batch_id =  2600\n",
      "train_loss =  0.11867440491914749  epoch =  4  batch_id =  2700\n",
      "train_loss =  2.778157067950815e-05  epoch =  4  batch_id =  2800\n",
      "train_loss =  0.13389115035533905  epoch =  4  batch_id =  2900\n",
      "train_loss =  0.08978593349456787  epoch =  4  batch_id =  3000\n",
      "train_loss =  0.1268397569656372  epoch =  4  batch_id =  3100\n",
      "train_loss =  0.09322763234376907  epoch =  4  batch_id =  3200\n",
      "train_loss =  0.25296318531036377  epoch =  4  batch_id =  3300\n",
      "train_loss =  0.14161494374275208  epoch =  4  batch_id =  3400\n",
      "train_loss =  0.07604771107435226  epoch =  4  batch_id =  3500\n",
      "train_loss =  0.0021895095705986023  epoch =  4  batch_id =  3600\n",
      "train_loss =  0.09591180086135864  epoch =  4  batch_id =  3700\n",
      "train_loss =  0.0014688672963529825  epoch =  4  batch_id =  3800\n",
      "train_loss =  0.5537030100822449  epoch =  4  batch_id =  3900\n",
      "train_loss =  0.06114090979099274  epoch =  4  batch_id =  4000\n",
      "train_loss =  0.03016998991370201  epoch =  4  batch_id =  4100\n",
      "train_loss =  0.34959185123443604  epoch =  4  batch_id =  0\n",
      "train_loss =  0.07938425242900848  epoch =  4  batch_id =  100\n",
      "train_loss =  0.7879111766815186  epoch =  4  batch_id =  200\n",
      "train_loss =  0.02554376795887947  epoch =  4  batch_id =  300\n",
      "train_loss =  0.3131447732448578  epoch =  4  batch_id =  400\n",
      "train_loss =  0.29290783405303955  epoch =  4  batch_id =  500\n",
      "train_loss =  0.14539644122123718  epoch =  4  batch_id =  600\n",
      "train_loss =  0.0217960923910141  epoch =  4  batch_id =  700\n",
      "train_loss =  0.006809335667639971  epoch =  4  batch_id =  800\n",
      "train_loss =  0.006809335667639971  epoch =  4  batch_id =  900\n",
      "train_loss =  0.31967470049858093  epoch =  4  batch_id =  1000\n",
      "train_loss =  0.11392514407634735  epoch =  4  batch_id =  1100\n",
      "train_loss =  0.006809335667639971  epoch =  4  batch_id =  1200\n",
      "train_loss =  0.006809335667639971  epoch =  4  batch_id =  1300\n",
      "train_loss =  0.11902325600385666  epoch =  4  batch_id =  1400\n",
      "train_loss =  0.08970803767442703  epoch =  4  batch_id =  1500\n",
      "train_loss =  0.006809335667639971  epoch =  4  batch_id =  1600\n",
      "train_loss =  0.027072710916399956  epoch =  4  batch_id =  1700\n",
      "train_loss =  0.006809335667639971  epoch =  4  batch_id =  1800\n",
      "train_loss =  0.600753664970398  epoch =  4  batch_id =  1900\n",
      "train_loss =  0.1554756462574005  epoch =  4  batch_id =  2000\n",
      "train_loss =  0.07096122950315475  epoch =  4  batch_id =  2100\n",
      "train_loss =  0.3307421803474426  epoch =  4  batch_id =  2200\n",
      "train_loss =  0.12330486625432968  epoch =  4  batch_id =  2300\n",
      "train_loss =  0.020640423521399498  epoch =  4  batch_id =  2400\n",
      "train_loss =  0.006809335667639971  epoch =  4  batch_id =  2500\n",
      "train_loss =  0.11588411778211594  epoch =  4  batch_id =  2600\n",
      "train_loss =  0.006809335667639971  epoch =  4  batch_id =  2700\n",
      "train_loss =  0.21931986510753632  epoch =  4  batch_id =  2800\n",
      "train_loss =  0.07591976225376129  epoch =  4  batch_id =  2900\n",
      "train_loss =  0.023913897573947906  epoch =  4  batch_id =  3000\n",
      "train_loss =  0.014848951250314713  epoch =  4  batch_id =  3100\n",
      "train_loss =  0.046869512647390366  epoch =  4  batch_id =  3200\n",
      "train_loss =  0.006809335667639971  epoch =  4  batch_id =  3300\n",
      "train_loss =  0.006809335667639971  epoch =  4  batch_id =  3400\n",
      "train_loss =  0.3088896870613098  epoch =  4  batch_id =  3500\n"
     ]
    },
    {
     "name": "stderr",
     "output_type": "stream",
     "text": [
      " 10%|█         | 5/50 [32:50<4:55:44, 394.32s/it, train_loss=0.164, train_iou=0.702, val_loss=0.142, val_iou=0.661]"
     ]
    },
    {
     "name": "stdout",
     "output_type": "stream",
     "text": [
      "train_loss =  0.01656506024301052  epoch =  5  batch_id =  0\n",
      "train_loss =  0.07257646322250366  epoch =  5  batch_id =  100\n",
      "train_loss =  0.006207382306456566  epoch =  5  batch_id =  200\n",
      "train_loss =  0.22155076265335083  epoch =  5  batch_id =  300\n",
      "train_loss =  0.09788917750120163  epoch =  5  batch_id =  400\n",
      "train_loss =  0.3085687756538391  epoch =  5  batch_id =  500\n",
      "train_loss =  0.0851423442363739  epoch =  5  batch_id =  600\n",
      "train_loss =  0.1630101501941681  epoch =  5  batch_id =  700\n",
      "train_loss =  0.3851888179779053  epoch =  5  batch_id =  800\n",
      "train_loss =  0.47444847226142883  epoch =  5  batch_id =  900\n",
      "train_loss =  0.08366916328668594  epoch =  5  batch_id =  1000\n",
      "train_loss =  0.015833662822842598  epoch =  5  batch_id =  1100\n",
      "train_loss =  0.1877758502960205  epoch =  5  batch_id =  1200\n",
      "train_loss =  0.00817926786839962  epoch =  5  batch_id =  1300\n",
      "train_loss =  0.6015812754631042  epoch =  5  batch_id =  1400\n",
      "train_loss =  0.2538363039493561  epoch =  5  batch_id =  1500\n",
      "train_loss =  0.5366581678390503  epoch =  5  batch_id =  1600\n",
      "train_loss =  0.038112834095954895  epoch =  5  batch_id =  1700\n",
      "train_loss =  0.13495486974716187  epoch =  5  batch_id =  1800\n",
      "train_loss =  0.016243526712059975  epoch =  5  batch_id =  1900\n",
      "train_loss =  0.040456127375364304  epoch =  5  batch_id =  2000\n",
      "train_loss =  0.10571542382240295  epoch =  5  batch_id =  2100\n",
      "train_loss =  0.12624065577983856  epoch =  5  batch_id =  2200\n",
      "train_loss =  0.03387090936303139  epoch =  5  batch_id =  2300\n",
      "train_loss =  0.07591049373149872  epoch =  5  batch_id =  2400\n",
      "train_loss =  0.03127142786979675  epoch =  5  batch_id =  2500\n",
      "train_loss =  0.0206841379404068  epoch =  5  batch_id =  2600\n",
      "train_loss =  0.008167893625795841  epoch =  5  batch_id =  2700\n",
      "train_loss =  0.046877454966306686  epoch =  5  batch_id =  2800\n",
      "train_loss =  0.05839835852384567  epoch =  5  batch_id =  2900\n",
      "train_loss =  0.4411219656467438  epoch =  5  batch_id =  3000\n",
      "train_loss =  0.04869138076901436  epoch =  5  batch_id =  3100\n",
      "train_loss =  0.008226531557738781  epoch =  5  batch_id =  3200\n",
      "train_loss =  0.03558631241321564  epoch =  5  batch_id =  3300\n",
      "train_loss =  0.057600513100624084  epoch =  5  batch_id =  3400\n",
      "train_loss =  0.22559702396392822  epoch =  5  batch_id =  3500\n",
      "train_loss =  0.09564131498336792  epoch =  5  batch_id =  3600\n",
      "train_loss =  0.09732149541378021  epoch =  5  batch_id =  3700\n",
      "train_loss =  0.008541653864085674  epoch =  5  batch_id =  3800\n",
      "train_loss =  0.2020304799079895  epoch =  5  batch_id =  3900\n",
      "train_loss =  0.07525207102298737  epoch =  5  batch_id =  4000\n",
      "train_loss =  0.05807085707783699  epoch =  5  batch_id =  4100\n",
      "train_loss =  0.2906671166419983  epoch =  5  batch_id =  0\n",
      "train_loss =  0.02518981136381626  epoch =  5  batch_id =  100\n",
      "train_loss =  1.251354694366455  epoch =  5  batch_id =  200\n",
      "train_loss =  0.004108522552996874  epoch =  5  batch_id =  300\n",
      "train_loss =  0.28090357780456543  epoch =  5  batch_id =  400\n",
      "train_loss =  0.11491125077009201  epoch =  5  batch_id =  500\n",
      "train_loss =  0.06200267747044563  epoch =  5  batch_id =  600\n",
      "train_loss =  0.004177931696176529  epoch =  5  batch_id =  700\n",
      "train_loss =  0.0003400832647457719  epoch =  5  batch_id =  800\n",
      "train_loss =  0.0003400832647457719  epoch =  5  batch_id =  900\n",
      "train_loss =  0.2584258019924164  epoch =  5  batch_id =  1000\n",
      "train_loss =  0.03817921131849289  epoch =  5  batch_id =  1100\n",
      "train_loss =  0.0003400832647457719  epoch =  5  batch_id =  1200\n",
      "train_loss =  0.0003400832647457719  epoch =  5  batch_id =  1300\n",
      "train_loss =  0.07272318005561829  epoch =  5  batch_id =  1400\n",
      "train_loss =  0.09896280616521835  epoch =  5  batch_id =  1500\n",
      "train_loss =  0.0003400832647457719  epoch =  5  batch_id =  1600\n",
      "train_loss =  0.00421169213950634  epoch =  5  batch_id =  1700\n",
      "train_loss =  0.0003400832647457719  epoch =  5  batch_id =  1800\n",
      "train_loss =  1.1131277084350586  epoch =  5  batch_id =  1900\n",
      "train_loss =  0.11666697263717651  epoch =  5  batch_id =  2000\n",
      "train_loss =  0.03780975192785263  epoch =  5  batch_id =  2100\n",
      "train_loss =  0.3354969620704651  epoch =  5  batch_id =  2200\n",
      "train_loss =  0.1092785969376564  epoch =  5  batch_id =  2300\n",
      "train_loss =  0.0021468214690685272  epoch =  5  batch_id =  2400\n",
      "train_loss =  0.0003400832647457719  epoch =  5  batch_id =  2500\n",
      "train_loss =  0.06953079998493195  epoch =  5  batch_id =  2600\n",
      "train_loss =  0.0003400832647457719  epoch =  5  batch_id =  2700\n",
      "train_loss =  0.22761237621307373  epoch =  5  batch_id =  2800\n",
      "train_loss =  0.016218427568674088  epoch =  5  batch_id =  2900\n",
      "train_loss =  0.0016431101830676198  epoch =  5  batch_id =  3000\n",
      "train_loss =  0.001194308395497501  epoch =  5  batch_id =  3100\n",
      "train_loss =  0.01079683005809784  epoch =  5  batch_id =  3200\n",
      "train_loss =  0.0003400832647457719  epoch =  5  batch_id =  3300\n",
      "train_loss =  0.0003400832647457719  epoch =  5  batch_id =  3400\n",
      "train_loss =  0.22734668850898743  epoch =  5  batch_id =  3500\n"
     ]
    },
    {
     "name": "stderr",
     "output_type": "stream",
     "text": [
      " 12%|█▏        | 6/50 [39:19<4:47:51, 392.54s/it, train_loss=0.128, train_iou=0.739, val_loss=0.135, val_iou=0.664]"
     ]
    },
    {
     "name": "stdout",
     "output_type": "stream",
     "text": [
      "train_loss =  0.0005116676911711693  epoch =  6  batch_id =  0\n",
      "train_loss =  0.062341876327991486  epoch =  6  batch_id =  100\n",
      "train_loss =  0.3855554461479187  epoch =  6  batch_id =  200\n",
      "train_loss =  0.04212779551744461  epoch =  6  batch_id =  300\n",
      "train_loss =  0.058580171316862106  epoch =  6  batch_id =  400\n",
      "train_loss =  0.18661314249038696  epoch =  6  batch_id =  500\n",
      "train_loss =  0.04184376448392868  epoch =  6  batch_id =  600\n",
      "train_loss =  0.2182963490486145  epoch =  6  batch_id =  700\n",
      "train_loss =  0.11848410964012146  epoch =  6  batch_id =  800\n",
      "train_loss =  0.1051667332649231  epoch =  6  batch_id =  900\n",
      "train_loss =  0.06226736307144165  epoch =  6  batch_id =  1000\n",
      "train_loss =  0.2809033989906311  epoch =  6  batch_id =  1100\n"
     ]
    },
    {
     "name": "stderr",
     "output_type": "stream",
     "text": [
      " 12%|█▏        | 6/50 [40:42<4:58:29, 407.04s/it, train_loss=0.128, train_iou=0.739, val_loss=0.135, val_iou=0.664]\n"
     ]
    },
    {
     "ename": "KeyboardInterrupt",
     "evalue": "",
     "output_type": "error",
     "traceback": [
      "\u001b[0;31m---------------------------------------------------------------------------\u001b[0m",
      "\u001b[0;31mKeyboardInterrupt\u001b[0m                         Traceback (most recent call last)",
      "Cell \u001b[0;32mIn[15], line 1\u001b[0m\n\u001b[0;32m----> 1\u001b[0m \u001b[43mtrain\u001b[49m\u001b[43m(\u001b[49m\u001b[43mmodel\u001b[49m\u001b[43m,\u001b[49m\u001b[38;5;241;43m50\u001b[39;49m\u001b[43m,\u001b[49m\u001b[38;5;241;43m1e-4\u001b[39;49m\u001b[43m,\u001b[49m\u001b[43mtrain_dl\u001b[49m\u001b[43m,\u001b[49m\u001b[43mval_dl\u001b[49m\u001b[43m,\u001b[49m\u001b[38;5;124;43m\"\u001b[39;49m\u001b[38;5;124;43mRefine\u001b[39;49m\u001b[38;5;124;43m\"\u001b[39;49m\u001b[43m,\u001b[49m\u001b[38;5;124;43m\"\u001b[39;49m\u001b[38;5;124;43mi3\u001b[39;49m\u001b[38;5;124;43m\"\u001b[39;49m\u001b[43m,\u001b[49m\u001b[38;5;124;43m\"\u001b[39;49m\u001b[38;5;124;43mbinary\u001b[39;49m\u001b[38;5;124;43m\"\u001b[39;49m\u001b[43m)\u001b[49m\n",
      "Cell \u001b[0;32mIn[8], line 153\u001b[0m, in \u001b[0;36mtrain\u001b[0;34m(model, max_epochs, lr, train_dl, val_dl, model_name, dataset_type, mask_type)\u001b[0m\n\u001b[1;32m    151\u001b[0m     val_dataset \u001b[38;5;241m=\u001b[39m \u001b[38;5;124m\"\u001b[39m\u001b[38;5;124mweih\u001b[39m\u001b[38;5;124m\"\u001b[39m\n\u001b[1;32m    152\u001b[0m \u001b[38;5;28;01mfor\u001b[39;00m epoch \u001b[38;5;129;01min\u001b[39;00m progress_bar:\n\u001b[0;32m--> 153\u001b[0m     train_loss, train_iou \u001b[38;5;241m=\u001b[39m \u001b[43mone_epoch\u001b[49m\u001b[43m(\u001b[49m\u001b[43mmodel\u001b[49m\u001b[38;5;241;43m=\u001b[39;49m\u001b[43mmodel\u001b[49m\u001b[43m,\u001b[49m\u001b[43mmodel_name\u001b[49m\u001b[38;5;241;43m=\u001b[39;49m\u001b[43mmodel_name\u001b[49m\u001b[43m,\u001b[49m\u001b[43mmask_type\u001b[49m\u001b[38;5;241;43m=\u001b[39;49m\u001b[43mmask_type\u001b[49m\u001b[43m,\u001b[49m\u001b[43mepoch\u001b[49m\u001b[38;5;241;43m=\u001b[39;49m\u001b[43mepoch\u001b[49m\u001b[43m,\u001b[49m\u001b[43mdevice\u001b[49m\u001b[38;5;241;43m=\u001b[39;49m\u001b[43mdevice\u001b[49m\u001b[43m,\u001b[49m\u001b[43mdataloader\u001b[49m\u001b[38;5;241;43m=\u001b[39;49m\u001b[43mtrain_dl\u001b[49m\u001b[43m,\u001b[49m\u001b[43moptimizer\u001b[49m\u001b[38;5;241;43m=\u001b[39;49m\u001b[43moptimizer\u001b[49m\u001b[43m,\u001b[49m\u001b[43mdataset_type\u001b[49m\u001b[38;5;241;43m=\u001b[39;49m\u001b[43mtrain_dataset\u001b[49m\u001b[43m,\u001b[49m\u001b[43mloss_function\u001b[49m\u001b[38;5;241;43m=\u001b[39;49m\u001b[43mloss_function\u001b[49m\u001b[43m,\u001b[49m\u001b[43mon_training\u001b[49m\u001b[38;5;241;43m=\u001b[39;49m\u001b[38;5;28;43;01mTrue\u001b[39;49;00m\u001b[43m)\u001b[49m\n\u001b[1;32m    154\u001b[0m     train_losses\u001b[38;5;241m.\u001b[39mappend(train_loss)\n\u001b[1;32m    155\u001b[0m     train_m_iou\u001b[38;5;241m.\u001b[39mappend(train_iou)\n",
      "Cell \u001b[0;32mIn[8], line 124\u001b[0m, in \u001b[0;36mone_epoch\u001b[0;34m(model, model_name, epoch, device, dataloader, optimizer, loss_function, dataset_type, mask_type, on_training)\u001b[0m\n\u001b[1;32m    122\u001b[0m N \u001b[38;5;241m=\u001b[39m \u001b[38;5;241m0\u001b[39m\n\u001b[1;32m    123\u001b[0m \u001b[38;5;28;01mfor\u001b[39;00m batch_id,batch \u001b[38;5;129;01min\u001b[39;00m \u001b[38;5;28menumerate\u001b[39m(dataloader):\n\u001b[0;32m--> 124\u001b[0m     loss,iou \u001b[38;5;241m=\u001b[39m \u001b[43mone_batch\u001b[49m\u001b[43m(\u001b[49m\u001b[43mmodel\u001b[49m\u001b[38;5;241;43m=\u001b[39;49m\u001b[43mmodel\u001b[49m\u001b[43m,\u001b[49m\u001b[43mmodel_name\u001b[49m\u001b[38;5;241;43m=\u001b[39;49m\u001b[43mmodel_name\u001b[49m\u001b[43m,\u001b[49m\u001b[43mmask_type\u001b[49m\u001b[38;5;241;43m=\u001b[39;49m\u001b[43mmask_type\u001b[49m\u001b[43m,\u001b[49m\u001b[43mepoch\u001b[49m\u001b[38;5;241;43m=\u001b[39;49m\u001b[43mepoch\u001b[49m\u001b[43m,\u001b[49m\u001b[43mdevice\u001b[49m\u001b[38;5;241;43m=\u001b[39;49m\u001b[43mdevice\u001b[49m\u001b[43m,\u001b[49m\u001b[43mbatch\u001b[49m\u001b[38;5;241;43m=\u001b[39;49m\u001b[43mbatch\u001b[49m\u001b[43m,\u001b[49m\u001b[43mbatch_id\u001b[49m\u001b[38;5;241;43m=\u001b[39;49m\u001b[43mbatch_id\u001b[49m\u001b[43m,\u001b[49m\u001b[43moptimizer\u001b[49m\u001b[38;5;241;43m=\u001b[39;49m\u001b[43moptimizer\u001b[49m\u001b[43m,\u001b[49m\u001b[43mdataset_type\u001b[49m\u001b[38;5;241;43m=\u001b[39;49m\u001b[43mdataset_type\u001b[49m\u001b[43m,\u001b[49m\u001b[43m \u001b[49m\u001b[43mloss_function\u001b[49m\u001b[38;5;241;43m=\u001b[39;49m\u001b[43mloss_function\u001b[49m\u001b[43m,\u001b[49m\u001b[43mon_training\u001b[49m\u001b[38;5;241;43m=\u001b[39;49m\u001b[43mon_training\u001b[49m\u001b[43m)\u001b[49m\n\u001b[1;32m    125\u001b[0m     \u001b[38;5;28;01mif\u001b[39;00m batch_id \u001b[38;5;241m%\u001b[39m \u001b[38;5;241m100\u001b[39m \u001b[38;5;241m==\u001b[39m \u001b[38;5;241m0\u001b[39m: \n\u001b[1;32m    126\u001b[0m         \u001b[38;5;28mprint\u001b[39m(\u001b[38;5;124m\"\u001b[39m\u001b[38;5;124mtrain_loss = \u001b[39m\u001b[38;5;124m\"\u001b[39m,loss,\u001b[38;5;124m\"\u001b[39m\u001b[38;5;124m epoch = \u001b[39m\u001b[38;5;124m\"\u001b[39m,epoch,\u001b[38;5;124m\"\u001b[39m\u001b[38;5;124m batch_id = \u001b[39m\u001b[38;5;124m\"\u001b[39m,batch_id)\n",
      "Cell \u001b[0;32mIn[8], line 99\u001b[0m, in \u001b[0;36mone_batch\u001b[0;34m(model, model_name, epoch, device, batch, batch_id, optimizer, loss_function, dataset_type, mask_type, on_training)\u001b[0m\n\u001b[1;32m     97\u001b[0m     optimizer\u001b[38;5;241m.\u001b[39mzero_grad()\n\u001b[1;32m     98\u001b[0m     loss\u001b[38;5;241m.\u001b[39mbackward()\n\u001b[0;32m---> 99\u001b[0m     \u001b[43moptimizer\u001b[49m\u001b[38;5;241;43m.\u001b[39;49m\u001b[43mstep\u001b[49m\u001b[43m(\u001b[49m\u001b[43m)\u001b[49m\n\u001b[1;32m    101\u001b[0m preds \u001b[38;5;241m=\u001b[39m preds\u001b[38;5;241m.\u001b[39margmax(dim\u001b[38;5;241m=\u001b[39m\u001b[38;5;241m1\u001b[39m)\n\u001b[1;32m    103\u001b[0m iou \u001b[38;5;241m=\u001b[39m compute_iou(preds,gt\u001b[38;5;241m.\u001b[39msqueeze(\u001b[38;5;241m1\u001b[39m))\n",
      "File \u001b[0;32m~/venv/prism-uda/lib/python3.8/site-packages/torch/autograd/grad_mode.py:26\u001b[0m, in \u001b[0;36m_DecoratorContextManager.__call__.<locals>.decorate_context\u001b[0;34m(*args, **kwargs)\u001b[0m\n\u001b[1;32m     23\u001b[0m \u001b[38;5;129m@functools\u001b[39m\u001b[38;5;241m.\u001b[39mwraps(func)\n\u001b[1;32m     24\u001b[0m \u001b[38;5;28;01mdef\u001b[39;00m\u001b[38;5;250m \u001b[39m\u001b[38;5;21mdecorate_context\u001b[39m(\u001b[38;5;241m*\u001b[39margs, \u001b[38;5;241m*\u001b[39m\u001b[38;5;241m*\u001b[39mkwargs):\n\u001b[1;32m     25\u001b[0m     \u001b[38;5;28;01mwith\u001b[39;00m \u001b[38;5;28mself\u001b[39m\u001b[38;5;241m.\u001b[39m\u001b[38;5;18m__class__\u001b[39m():\n\u001b[0;32m---> 26\u001b[0m         \u001b[38;5;28;01mreturn\u001b[39;00m \u001b[43mfunc\u001b[49m\u001b[43m(\u001b[49m\u001b[38;5;241;43m*\u001b[39;49m\u001b[43margs\u001b[49m\u001b[43m,\u001b[49m\u001b[43m \u001b[49m\u001b[38;5;241;43m*\u001b[39;49m\u001b[38;5;241;43m*\u001b[39;49m\u001b[43mkwargs\u001b[49m\u001b[43m)\u001b[49m\n",
      "File \u001b[0;32m~/venv/prism-uda/lib/python3.8/site-packages/torch/optim/adamw.py:114\u001b[0m, in \u001b[0;36mAdamW.step\u001b[0;34m(self, closure)\u001b[0m\n\u001b[1;32m    111\u001b[0m         \u001b[38;5;28;01melse\u001b[39;00m:\n\u001b[1;32m    112\u001b[0m             denom \u001b[38;5;241m=\u001b[39m (exp_avg_sq\u001b[38;5;241m.\u001b[39msqrt() \u001b[38;5;241m/\u001b[39m math\u001b[38;5;241m.\u001b[39msqrt(bias_correction2))\u001b[38;5;241m.\u001b[39madd_(group[\u001b[38;5;124m'\u001b[39m\u001b[38;5;124meps\u001b[39m\u001b[38;5;124m'\u001b[39m])\n\u001b[0;32m--> 114\u001b[0m         step_size \u001b[38;5;241m=\u001b[39m \u001b[43mgroup\u001b[49m\u001b[43m[\u001b[49m\u001b[38;5;124;43m'\u001b[39;49m\u001b[38;5;124;43mlr\u001b[39;49m\u001b[38;5;124;43m'\u001b[39;49m\u001b[43m]\u001b[49m \u001b[38;5;241m/\u001b[39m bias_correction1\n\u001b[1;32m    116\u001b[0m         p\u001b[38;5;241m.\u001b[39maddcdiv_(exp_avg, denom, value\u001b[38;5;241m=\u001b[39m\u001b[38;5;241m-\u001b[39mstep_size)\n\u001b[1;32m    118\u001b[0m \u001b[38;5;28;01mreturn\u001b[39;00m loss\n",
      "\u001b[0;31mKeyboardInterrupt\u001b[0m: "
     ]
    }
   ],
   "source": [
    "train(model,50,1e-4,train_dl,val_dl,\"Refine\",\"i3\",\"colour\")"
   ]
  },
  {
   "cell_type": "code",
   "execution_count": null,
   "id": "c08dda92",
   "metadata": {},
   "outputs": [],
   "source": []
  }
 ],
 "metadata": {
  "kernelspec": {
   "display_name": "prism-uda",
   "language": "python",
   "name": "python3"
  },
  "language_info": {
   "codemirror_mode": {
    "name": "ipython",
    "version": 3
   },
   "file_extension": ".py",
   "mimetype": "text/x-python",
   "name": "python",
   "nbconvert_exporter": "python",
   "pygments_lexer": "ipython3",
   "version": "3.8.20"
  }
 },
 "nbformat": 4,
 "nbformat_minor": 5
}
