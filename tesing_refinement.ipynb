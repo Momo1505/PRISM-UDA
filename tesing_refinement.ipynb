{
 "cells": [
  {
   "cell_type": "code",
   "execution_count": 1,
   "id": "248e2916",
   "metadata": {
    "ExecuteTime": {
     "end_time": "2025-05-08T14:20:46.577299Z",
     "start_time": "2025-05-08T14:20:41.757459Z"
    }
   },
   "outputs": [
    {
     "name": "stderr",
     "output_type": "stream",
     "text": [
      "/home/sow/venv/prism-uda/lib/python3.8/site-packages/tqdm/auto.py:21: TqdmWarning: IProgress not found. Please update jupyter and ipywidgets. See https://ipywidgets.readthedocs.io/en/stable/user_install.html\n",
      "  from .autonotebook import tqdm as notebook_tqdm\n"
     ]
    }
   ],
   "source": [
    "from torch.utils.data import Dataset,DataLoader\n",
    "import torch\n",
    "from torch import tensor\n",
    "import torch.nn as nn\n",
    "import torch.nn.functional as F\n",
    "import glob\n",
    "import os\n",
    "from functools import partial\n",
    "from PIL import Image\n",
    "import matplotlib.pyplot as plt\n",
    "from torchvision import transforms\n",
    "from torch import optim\n",
    "from mmseg.models.uda.swinir_backbone import MGDNRefinement\n",
    "from mmseg.models.uda.refinement import EncodeDecode\n",
    "from tqdm import tqdm\n",
    "import numpy as np\n",
    "from refinement_module import UNet\n",
    "from torch.optim.lr_scheduler import OneCycleLR\n",
    "import random\n",
    "from models import Refine\n",
    "from Datasets import WeihToI3"
   ]
  },
  {
   "cell_type": "code",
   "execution_count": 2,
   "id": "be248554",
   "metadata": {},
   "outputs": [],
   "source": [
    "ds = WeihToI3(mode=\"val\")"
   ]
  },
  {
   "cell_type": "code",
   "execution_count": 3,
   "id": "688a80a4",
   "metadata": {},
   "outputs": [],
   "source": [
    "a = ds[1][0].float().unsqueeze(0)"
   ]
  },
  {
   "cell_type": "code",
   "execution_count": 4,
   "id": "73086dca",
   "metadata": {},
   "outputs": [
    {
     "data": {
      "text/plain": [
       "torch.Size([1, 1, 256, 256])"
      ]
     },
     "execution_count": 4,
     "metadata": {},
     "output_type": "execute_result"
    }
   ],
   "source": [
    "a.shape"
   ]
  },
  {
   "cell_type": "code",
   "execution_count": 5,
   "id": "7dc3515b",
   "metadata": {},
   "outputs": [
    {
     "data": {
      "text/plain": [
       "torch.Size([1, 256, 256])"
      ]
     },
     "execution_count": 5,
     "metadata": {},
     "output_type": "execute_result"
    }
   ],
   "source": [
    "ds[1][1].shape"
   ]
  },
  {
   "cell_type": "code",
   "execution_count": 6,
   "id": "b8a611e3",
   "metadata": {},
   "outputs": [],
   "source": [
    "model = MGDNRefinement()"
   ]
  },
  {
   "cell_type": "code",
   "execution_count": 7,
   "id": "4878e7e3",
   "metadata": {},
   "outputs": [
    {
     "data": {
      "text/plain": [
       "torch.Size([1, 19, 256, 256])"
      ]
     },
     "execution_count": 7,
     "metadata": {},
     "output_type": "execute_result"
    }
   ],
   "source": [
    "model(a,a).shape"
   ]
  },
  {
   "cell_type": "code",
   "execution_count": 8,
   "id": "a461f5ce",
   "metadata": {},
   "outputs": [
    {
     "data": {
      "text/plain": [
       "<matplotlib.image.AxesImage at 0x7ff675b78fd0>"
      ]
     },
     "execution_count": 8,
     "metadata": {},
     "output_type": "execute_result"
    },
    {
     "data": {
      "image/png": "[encoded data removed]",
      "text/plain": [
       "<Figure size 640x480 with 1 Axes>"
      ]
     },
     "metadata": {},
     "output_type": "display_data"
    }
   ],
   "source": [
    "plt.imshow(a.squeeze())"
   ]
  },
  {
   "cell_type": "code",
   "execution_count": 9,
   "id": "db7166d8",
   "metadata": {
    "ExecuteTime": {
     "end_time": "2025-05-08T14:20:46.955637Z",
     "start_time": "2025-05-08T14:20:46.827477Z"
    }
   },
   "outputs": [],
   "source": [
    "def compute_iou(preds:torch.Tensor,gt:torch.Tensor,num_classes=2,ignore_index=255):\n",
    "    mask = gt != ignore_index\n",
    "    preds = preds[mask]\n",
    "    gt = gt[mask]\n",
    "\n",
    "    iou_list = []\n",
    "\n",
    "    for cls in range(num_classes):\n",
    "        cls_in_preds = preds == cls\n",
    "        cls_in_gt = gt == cls\n",
    "\n",
    "        intersection = (cls_in_preds & cls_in_gt).sum().item()\n",
    "        union = (cls_in_preds | cls_in_gt).sum().item()\n",
    "\n",
    "        if union == 0:\n",
    "            iou_list.append(0)\n",
    "            continue  # this class is not present in gt\n",
    "\n",
    "        iou = intersection / union\n",
    "        iou_list.append(iou)\n",
    "\n",
    "    if not iou_list:\n",
    "        raise ValueError(\"No class found in this predictions\")\n",
    "    return sum(iou_list) / len(iou_list)\n",
    "\n",
    "def plot(pl:torch.Tensor,\n",
    "         sam:torch.Tensor,\n",
    "         preds:torch.Tensor,\n",
    "         gt:torch.Tensor,\n",
    "         epoch,\n",
    "         batch_id,\n",
    "         model_name,\n",
    "         dataset_type,mask_type\n",
    "         ):\n",
    "    if batch_id % 200==0:\n",
    "        pl = pl.squeeze().detach().cpu().numpy()\n",
    "        sam = sam.squeeze().detach().cpu().numpy()\n",
    "        preds = preds.squeeze().detach().cpu().numpy()\n",
    "        gt = gt.squeeze().detach().cpu().numpy()\n",
    "\n",
    "        fig, axes = plt.subplots(nrows=1, ncols=4, figsize=(16, 4))\n",
    "\n",
    "        axes[0].imshow(pl)\n",
    "        axes[0].set_title(\"Pseudo label de l'EMA\")\n",
    "\n",
    "        axes[1].imshow(sam)\n",
    "        axes[1].set_title(\"SAM\")\n",
    "\n",
    "        axes[2].imshow(preds)\n",
    "        axes[2].set_title(\"Prédictions du raffineur\")\n",
    "\n",
    "        axes[3].imshow(gt)\n",
    "        axes[3].set_title(\"Ground truth\")\n",
    "\n",
    "        plt.tight_layout()\n",
    "\n",
    "        os.makedirs(f\"refinement_results/{model_name}_train_on_{dataset_type}_mask_type_{mask_type}/debug\", exist_ok=True)\n",
    "        plt.savefig(f\"refinement_results/{model_name}_train_on_{dataset_type}_mask_type_{mask_type}/debug/{epoch}_{batch_id}.png\")\n",
    "        plt.close(fig)\n",
    "\n",
    "def save_metrics(train_losses,val_losses,train_m_iou,val_m_iou,model_name,dataset_type,mask_type):\n",
    "    plt.figure(figsize=(12, 5))\n",
    "    plt.subplot(1, 2, 1)\n",
    "    plt.plot(train_losses, label=\"Train Loss\")\n",
    "    plt.plot(val_losses, label=\"Val Loss\")\n",
    "    plt.legend()\n",
    "    plt.title(\"Loss\")\n",
    "\n",
    "    plt.subplot(1, 2, 2)\n",
    "    plt.plot(train_m_iou, label=\"Train mIoU\")\n",
    "    plt.plot(val_m_iou, label=\"Val mIoU\")\n",
    "    plt.legend()\n",
    "    plt.title(\"Mean IoU\")\n",
    "    plt.savefig(f\"refinement_results/{model_name}_train_on_{dataset_type}_mask_type_{mask_type}/metrics.png\")\n",
    "    plt.close()\n",
    "\n",
    "\n",
    "def one_batch(model,model_name,epoch,device,\n",
    "              batch,batch_id,\n",
    "              optimizer:optim.Optimizer,\n",
    "              loss_function:nn.CrossEntropyLoss,\n",
    "              dataset_type:str,mask_type,\n",
    "              on_training=True):\n",
    "    model.train() if on_training else model.eval()\n",
    "    if dataset_type == \"i3\":\n",
    "        pl,sam,gt = batch\n",
    "        pl,sam,gt = pl.float(),sam.float(),gt.long()\n",
    "        pl,sam,gt = pl.to(device),sam.to(device),gt.to(device)\n",
    "        preds = model(pl,sam)\n",
    "    else :\n",
    "        sam,gt = batch\n",
    "        sam,gt = sam.float(),gt.long()\n",
    "        sam,gt = sam.to(device),gt.to(device)\n",
    "        preds = model(sam,sam) \n",
    "    loss = loss_function(preds,gt.squeeze(1))\n",
    "    if on_training:\n",
    "        optimizer.zero_grad()\n",
    "        loss.backward()\n",
    "        optimizer.step()\n",
    "\n",
    "    preds = preds.argmax(dim=1)\n",
    "\n",
    "    iou = compute_iou(preds,gt.squeeze(1))\n",
    "\n",
    "    if not on_training :\n",
    "        if dataset_type == \"i3\":\n",
    "            plot(pl,sam,preds,gt,epoch,batch_id,model_name,dataset_type,mask_type)\n",
    "        else :\n",
    "            plot(sam,sam,preds,gt,epoch,batch_id,model_name,dataset_type,mask_type)\n",
    "\n",
    "    return loss.item(), iou\n",
    "\n",
    "\n",
    "def one_epoch(model,model_name,epoch,device,\n",
    "              dataloader: DataLoader,\n",
    "              optimizer:optim.Optimizer,\n",
    "              loss_function:nn.CrossEntropyLoss,\n",
    "              dataset_type:str,mask_type,\n",
    "              on_training=True):\n",
    "    train_loss = 0\n",
    "    m_iou = 0\n",
    "    N = 0\n",
    "    for batch_id,batch in enumerate(dataloader):\n",
    "        loss,iou = one_batch(model=model,model_name=model_name,mask_type=mask_type,epoch=epoch,device=device,batch=batch,batch_id=batch_id,optimizer=optimizer,dataset_type=dataset_type, loss_function=loss_function,on_training=on_training)\n",
    "        if batch_id % 100 == 0: \n",
    "            print(\"train_loss = \",loss,\" epoch = \",epoch,\" batch_id = \",batch_id)\n",
    "        train_loss = train_loss + loss\n",
    "        m_iou = m_iou + iou\n",
    "        N += 1\n",
    "    return train_loss / N, m_iou / N\n",
    "\n",
    "def train(model,max_epochs,lr,train_dl,val_dl,model_name,dataset_type,mask_type):\n",
    "    train_losses = []\n",
    "    val_losses = []\n",
    "    train_m_iou = []\n",
    "    val_m_iou = []\n",
    "    device = \"cuda\" #if torch.cuda.is_available() else \"cpu\"\n",
    "    best_val_iou = 1000\n",
    "\n",
    "    model = model.to(device)\n",
    "    optimizer = optim.AdamW(model.parameters(),lr=lr)\n",
    "    weight = torch.tensor([1.,5.],device=device)  \n",
    "    loss_function = nn.CrossEntropyLoss(ignore_index=255)\n",
    "    progress_bar = tqdm(range(max_epochs))\n",
    "\n",
    "    if dataset_type == \"i3\":\n",
    "        train_dataset = \"i3\"\n",
    "        val_dataset = \"i3\"\n",
    "    else:\n",
    "        train_dataset = \"weih\"\n",
    "        val_dataset = \"weih\"\n",
    "    for epoch in progress_bar:\n",
    "        train_loss, train_iou = one_epoch(model=model,model_name=model_name,mask_type=mask_type,epoch=epoch,device=device,dataloader=train_dl,optimizer=optimizer,dataset_type=train_dataset,loss_function=loss_function,on_training=True)\n",
    "        train_losses.append(train_loss)\n",
    "        train_m_iou.append(train_iou)\n",
    "        with torch.no_grad():\n",
    "            val_loss, val_iou = one_epoch(model=model,model_name=model_name,mask_type=mask_type,epoch=epoch,device=device,dataloader=val_dl,optimizer=optimizer,dataset_type=val_dataset,loss_function=loss_function,on_training=False)\n",
    "            val_losses.append(val_loss)\n",
    "            val_m_iou.append(val_iou)\n",
    "        progress_bar.set_postfix(dict(train_loss=train_loss,train_iou=train_iou,val_loss=val_loss,val_iou=val_iou))\n",
    "        # save losses and IoU\n",
    "        save_metrics(train_losses,val_losses,train_m_iou,val_m_iou,model_name,dataset_type,mask_type=mask_type)\n",
    "        if val_iou < best_val_iou:\n",
    "            best_val_iou = val_iou\n",
    "            torch.save({\n",
    "                'epoch': epoch,\n",
    "                'model_state_dict': model.state_dict(),\n",
    "                'optimizer_state_dict': optimizer.state_dict(),\n",
    "                'val_iou': val_iou\n",
    "            }, f\"refinement_results/{model_name}_train_on_{dataset_type}_mask_type_{mask_type}/best_checkpoint.pth\")"
   ]
  },
  {
   "cell_type": "code",
   "execution_count": 2,
   "id": "e0bc46ea9a659314",
   "metadata": {
    "ExecuteTime": {
     "end_time": "2025-05-08T14:20:47.068240Z",
     "start_time": "2025-05-08T14:20:46.970106Z"
    }
   },
   "outputs": [],
   "source": [
    "train_ds = WeihToI3(mode=\"train\",)\n",
    "val_ds = WeihToI3(mode=\"val\",)\n",
    "train_dl = DataLoader(train_ds,2,True,num_workers=8)\n",
    "val_dl = DataLoader(val_ds,1,False,num_workers=8)"
   ]
  },
  {
   "cell_type": "code",
   "execution_count": 10,
   "id": "54f651a4",
   "metadata": {},
   "outputs": [
    {
     "data": {
      "text/plain": [
       "tensor([0, 1], dtype=torch.uint8)"
      ]
     },
     "execution_count": 10,
     "metadata": {},
     "output_type": "execute_result"
    }
   ],
   "source": [
    "train_ds[1][0].unique()"
   ]
  },
  {
   "cell_type": "code",
   "execution_count": 11,
   "id": "0dec965b",
   "metadata": {},
   "outputs": [
    {
     "data": {
      "text/plain": [
       "<matplotlib.image.AxesImage at 0x7ff6748201c0>"
      ]
     },
     "execution_count": 11,
     "metadata": {},
     "output_type": "execute_result"
    },
    {
     "data": {
      "image/png": "[encoded data removed]",
      "text/plain": [
       "<Figure size 640x480 with 1 Axes>"
      ]
     },
     "metadata": {},
     "output_type": "display_data"
    }
   ],
   "source": [
    "plt.imshow(train_ds[0][0].squeeze())"
   ]
  },
  {
   "cell_type": "code",
   "execution_count": 12,
   "id": "f4c1e52015d068c7",
   "metadata": {
    "ExecuteTime": {
     "end_time": "2025-05-08T14:20:47.089077Z",
     "start_time": "2025-05-08T14:20:47.081528Z"
    }
   },
   "outputs": [
    {
     "data": {
      "text/plain": [
       "(4182, 3585)"
      ]
     },
     "execution_count": 12,
     "metadata": {},
     "output_type": "execute_result"
    }
   ],
   "source": [
    "len(train_dl),len(val_dl)"
   ]
  },
  {
   "cell_type": "code",
   "execution_count": 13,
   "id": "f840c58d",
   "metadata": {
    "ExecuteTime": {
     "end_time": "2025-05-08T14:21:18.830924Z",
     "start_time": "2025-05-08T14:21:18.824453Z"
    }
   },
   "outputs": [],
   "source": [
    "torch.cuda.empty_cache()"
   ]
  },
  {
   "cell_type": "code",
   "execution_count": 14,
   "id": "8f0ec64c",
   "metadata": {},
   "outputs": [],
   "source": [
    "model = EncodeDecode(\"cpu\")"
   ]
  },
  {
   "cell_type": "code",
   "execution_count": 15,
   "id": "9aba76c8",
   "metadata": {
    "ExecuteTime": {
     "start_time": "2025-05-08T14:21:19.919403Z"
    },
    "jupyter": {
     "is_executing": true
    }
   },
   "outputs": [
    {
     "name": "stderr",
     "output_type": "stream",
     "text": [
      "  0%|          | 0/50 [00:00<?, ?it/s]"
     ]
    },
    {
     "name": "stdout",
     "output_type": "stream",
     "text": [
      "train_loss =  0.6945216059684753  epoch =  0  batch_id =  0\n",
      "train_loss =  0.06476244330406189  epoch =  0  batch_id =  100\n",
      "train_loss =  0.11600480228662491  epoch =  0  batch_id =  200\n",
      "train_loss =  0.11343853175640106  epoch =  0  batch_id =  300\n",
      "train_loss =  0.10284766554832458  epoch =  0  batch_id =  400\n",
      "train_loss =  0.08840977400541306  epoch =  0  batch_id =  500\n",
      "train_loss =  0.11501836776733398  epoch =  0  batch_id =  600\n",
      "train_loss =  0.2542673349380493  epoch =  0  batch_id =  700\n",
      "train_loss =  0.023665552958846092  epoch =  0  batch_id =  800\n",
      "train_loss =  0.034662265330553055  epoch =  0  batch_id =  900\n",
      "train_loss =  0.015140673145651817  epoch =  0  batch_id =  1000\n",
      "train_loss =  0.07298003882169724  epoch =  0  batch_id =  1100\n",
      "train_loss =  0.031191840767860413  epoch =  0  batch_id =  1200\n",
      "train_loss =  0.017476603388786316  epoch =  0  batch_id =  1300\n",
      "train_loss =  0.09785325080156326  epoch =  0  batch_id =  1400\n",
      "train_loss =  0.027158332988619804  epoch =  0  batch_id =  1500\n",
      "train_loss =  0.05427441745996475  epoch =  0  batch_id =  1600\n",
      "train_loss =  0.006614362820982933  epoch =  0  batch_id =  1700\n",
      "train_loss =  0.01449356134980917  epoch =  0  batch_id =  1800\n",
      "train_loss =  0.041096389293670654  epoch =  0  batch_id =  1900\n",
      "train_loss =  0.03259715437889099  epoch =  0  batch_id =  2000\n",
      "train_loss =  0.010122285224497318  epoch =  0  batch_id =  2100\n",
      "train_loss =  0.024013947695493698  epoch =  0  batch_id =  2200\n",
      "train_loss =  0.0631784126162529  epoch =  0  batch_id =  2300\n",
      "train_loss =  0.02546078711748123  epoch =  0  batch_id =  2400\n",
      "train_loss =  0.06046842783689499  epoch =  0  batch_id =  2500\n",
      "train_loss =  0.11692166328430176  epoch =  0  batch_id =  2600\n",
      "train_loss =  0.02517908439040184  epoch =  0  batch_id =  2700\n",
      "train_loss =  0.03209253400564194  epoch =  0  batch_id =  2800\n",
      "train_loss =  0.0027734548784792423  epoch =  0  batch_id =  2900\n",
      "train_loss =  0.0007755816914141178  epoch =  0  batch_id =  3000\n",
      "train_loss =  0.0025489800609648228  epoch =  0  batch_id =  3100\n",
      "train_loss =  0.016998881474137306  epoch =  0  batch_id =  3200\n",
      "train_loss =  0.016168463975191116  epoch =  0  batch_id =  3300\n",
      "train_loss =  0.01352670881897211  epoch =  0  batch_id =  3400\n",
      "train_loss =  0.21448270976543427  epoch =  0  batch_id =  3500\n",
      "train_loss =  0.025439951568841934  epoch =  0  batch_id =  3600\n",
      "train_loss =  0.19472062587738037  epoch =  0  batch_id =  3700\n",
      "train_loss =  0.0007004382787272334  epoch =  0  batch_id =  3800\n",
      "train_loss =  0.03390394523739815  epoch =  0  batch_id =  3900\n",
      "train_loss =  0.03076503984630108  epoch =  0  batch_id =  4000\n",
      "train_loss =  0.010120203718543053  epoch =  0  batch_id =  4100\n",
      "train_loss =  0.05678405985236168  epoch =  0  batch_id =  0\n",
      "train_loss =  0.032182708382606506  epoch =  0  batch_id =  100\n",
      "train_loss =  0.08896034955978394  epoch =  0  batch_id =  200\n",
      "train_loss =  0.0016670605400577188  epoch =  0  batch_id =  300\n",
      "train_loss =  0.07563553750514984  epoch =  0  batch_id =  400\n",
      "train_loss =  0.08724913746118546  epoch =  0  batch_id =  500\n",
      "train_loss =  0.13225425779819489  epoch =  0  batch_id =  600\n",
      "train_loss =  0.00294174044393003  epoch =  0  batch_id =  700\n",
      "train_loss =  0.00018904732132796198  epoch =  0  batch_id =  800\n",
      "train_loss =  0.00018904732132796198  epoch =  0  batch_id =  900\n",
      "train_loss =  0.09935968369245529  epoch =  0  batch_id =  1000\n",
      "train_loss =  0.03767140954732895  epoch =  0  batch_id =  1100\n",
      "train_loss =  0.00018904732132796198  epoch =  0  batch_id =  1200\n",
      "train_loss =  0.00018904732132796198  epoch =  0  batch_id =  1300\n",
      "train_loss =  0.03282932937145233  epoch =  0  batch_id =  1400\n",
      "train_loss =  0.006716219708323479  epoch =  0  batch_id =  1500\n",
      "train_loss =  0.00018904732132796198  epoch =  0  batch_id =  1600\n",
      "train_loss =  0.0010417395969852805  epoch =  0  batch_id =  1700\n",
      "train_loss =  0.00018904732132796198  epoch =  0  batch_id =  1800\n",
      "train_loss =  0.5284925699234009  epoch =  0  batch_id =  1900\n",
      "train_loss =  0.07916080951690674  epoch =  0  batch_id =  2000\n",
      "train_loss =  0.031493835151195526  epoch =  0  batch_id =  2100\n",
      "train_loss =  0.05100124329328537  epoch =  0  batch_id =  2200\n",
      "train_loss =  0.055574990808963776  epoch =  0  batch_id =  2300\n",
      "train_loss =  0.0015766436699777842  epoch =  0  batch_id =  2400\n",
      "train_loss =  0.00018904732132796198  epoch =  0  batch_id =  2500\n",
      "train_loss =  0.10232021659612656  epoch =  0  batch_id =  2600\n",
      "train_loss =  0.00018904732132796198  epoch =  0  batch_id =  2700\n",
      "train_loss =  0.05903942510485649  epoch =  0  batch_id =  2800\n",
      "train_loss =  0.012078163214027882  epoch =  0  batch_id =  2900\n",
      "train_loss =  0.002612198004499078  epoch =  0  batch_id =  3000\n",
      "train_loss =  0.00032104182173497975  epoch =  0  batch_id =  3100\n",
      "train_loss =  0.013390258885920048  epoch =  0  batch_id =  3200\n",
      "train_loss =  0.00018904732132796198  epoch =  0  batch_id =  3300\n",
      "train_loss =  0.00018904732132796198  epoch =  0  batch_id =  3400\n",
      "train_loss =  0.12089099735021591  epoch =  0  batch_id =  3500\n"
     ]
    },
    {
     "name": "stderr",
     "output_type": "stream",
     "text": [
      "  2%|▏         | 1/50 [25:11<20:34:45, 1511.95s/it, train_loss=0.0612, train_iou=0.847, val_loss=0.0457, val_iou=0.741]"
     ]
    },
    {
     "name": "stdout",
     "output_type": "stream",
     "text": [
      "train_loss =  0.004128612577915192  epoch =  1  batch_id =  0\n",
      "train_loss =  0.01526473369449377  epoch =  1  batch_id =  100\n"
     ]
    },
    {
     "name": "stderr",
     "output_type": "stream",
     "text": [
      "  2%|▏         | 1/50 [26:01<21:15:03, 1561.30s/it, train_loss=0.0612, train_iou=0.847, val_loss=0.0457, val_iou=0.741]\n"
     ]
    },
    {
     "ename": "KeyboardInterrupt",
     "evalue": "",
     "output_type": "error",
     "traceback": [
      "\u001b[0;31m---------------------------------------------------------------------------\u001b[0m",
      "\u001b[0;31mKeyboardInterrupt\u001b[0m                         Traceback (most recent call last)",
      "Cell \u001b[0;32mIn[15], line 1\u001b[0m\n\u001b[0;32m----> 1\u001b[0m \u001b[43mtrain\u001b[49m\u001b[43m(\u001b[49m\u001b[43mmodel\u001b[49m\u001b[43m,\u001b[49m\u001b[38;5;241;43m50\u001b[39;49m\u001b[43m,\u001b[49m\u001b[38;5;241;43m1e-4\u001b[39;49m\u001b[43m,\u001b[49m\u001b[43mtrain_dl\u001b[49m\u001b[43m,\u001b[49m\u001b[43mval_dl\u001b[49m\u001b[43m,\u001b[49m\u001b[38;5;124;43m\"\u001b[39;49m\u001b[38;5;124;43mRefine\u001b[39;49m\u001b[38;5;124;43m\"\u001b[39;49m\u001b[43m,\u001b[49m\u001b[38;5;124;43m\"\u001b[39;49m\u001b[38;5;124;43mi3\u001b[39;49m\u001b[38;5;124;43m\"\u001b[39;49m\u001b[43m,\u001b[49m\u001b[38;5;124;43m\"\u001b[39;49m\u001b[38;5;124;43mcolour\u001b[39;49m\u001b[38;5;124;43m\"\u001b[39;49m\u001b[43m)\u001b[49m\n",
      "Cell \u001b[0;32mIn[9], line 153\u001b[0m, in \u001b[0;36mtrain\u001b[0;34m(model, max_epochs, lr, train_dl, val_dl, model_name, dataset_type, mask_type)\u001b[0m\n\u001b[1;32m    151\u001b[0m     val_dataset \u001b[38;5;241m=\u001b[39m \u001b[38;5;124m\"\u001b[39m\u001b[38;5;124mweih\u001b[39m\u001b[38;5;124m\"\u001b[39m\n\u001b[1;32m    152\u001b[0m \u001b[38;5;28;01mfor\u001b[39;00m epoch \u001b[38;5;129;01min\u001b[39;00m progress_bar:\n\u001b[0;32m--> 153\u001b[0m     train_loss, train_iou \u001b[38;5;241m=\u001b[39m \u001b[43mone_epoch\u001b[49m\u001b[43m(\u001b[49m\u001b[43mmodel\u001b[49m\u001b[38;5;241;43m=\u001b[39;49m\u001b[43mmodel\u001b[49m\u001b[43m,\u001b[49m\u001b[43mmodel_name\u001b[49m\u001b[38;5;241;43m=\u001b[39;49m\u001b[43mmodel_name\u001b[49m\u001b[43m,\u001b[49m\u001b[43mmask_type\u001b[49m\u001b[38;5;241;43m=\u001b[39;49m\u001b[43mmask_type\u001b[49m\u001b[43m,\u001b[49m\u001b[43mepoch\u001b[49m\u001b[38;5;241;43m=\u001b[39;49m\u001b[43mepoch\u001b[49m\u001b[43m,\u001b[49m\u001b[43mdevice\u001b[49m\u001b[38;5;241;43m=\u001b[39;49m\u001b[43mdevice\u001b[49m\u001b[43m,\u001b[49m\u001b[43mdataloader\u001b[49m\u001b[38;5;241;43m=\u001b[39;49m\u001b[43mtrain_dl\u001b[49m\u001b[43m,\u001b[49m\u001b[43moptimizer\u001b[49m\u001b[38;5;241;43m=\u001b[39;49m\u001b[43moptimizer\u001b[49m\u001b[43m,\u001b[49m\u001b[43mdataset_type\u001b[49m\u001b[38;5;241;43m=\u001b[39;49m\u001b[43mtrain_dataset\u001b[49m\u001b[43m,\u001b[49m\u001b[43mloss_function\u001b[49m\u001b[38;5;241;43m=\u001b[39;49m\u001b[43mloss_function\u001b[49m\u001b[43m,\u001b[49m\u001b[43mon_training\u001b[49m\u001b[38;5;241;43m=\u001b[39;49m\u001b[38;5;28;43;01mTrue\u001b[39;49;00m\u001b[43m)\u001b[49m\n\u001b[1;32m    154\u001b[0m     train_losses\u001b[38;5;241m.\u001b[39mappend(train_loss)\n\u001b[1;32m    155\u001b[0m     train_m_iou\u001b[38;5;241m.\u001b[39mappend(train_iou)\n",
      "Cell \u001b[0;32mIn[9], line 124\u001b[0m, in \u001b[0;36mone_epoch\u001b[0;34m(model, model_name, epoch, device, dataloader, optimizer, loss_function, dataset_type, mask_type, on_training)\u001b[0m\n\u001b[1;32m    122\u001b[0m N \u001b[38;5;241m=\u001b[39m \u001b[38;5;241m0\u001b[39m\n\u001b[1;32m    123\u001b[0m \u001b[38;5;28;01mfor\u001b[39;00m batch_id,batch \u001b[38;5;129;01min\u001b[39;00m \u001b[38;5;28menumerate\u001b[39m(dataloader):\n\u001b[0;32m--> 124\u001b[0m     loss,iou \u001b[38;5;241m=\u001b[39m \u001b[43mone_batch\u001b[49m\u001b[43m(\u001b[49m\u001b[43mmodel\u001b[49m\u001b[38;5;241;43m=\u001b[39;49m\u001b[43mmodel\u001b[49m\u001b[43m,\u001b[49m\u001b[43mmodel_name\u001b[49m\u001b[38;5;241;43m=\u001b[39;49m\u001b[43mmodel_name\u001b[49m\u001b[43m,\u001b[49m\u001b[43mmask_type\u001b[49m\u001b[38;5;241;43m=\u001b[39;49m\u001b[43mmask_type\u001b[49m\u001b[43m,\u001b[49m\u001b[43mepoch\u001b[49m\u001b[38;5;241;43m=\u001b[39;49m\u001b[43mepoch\u001b[49m\u001b[43m,\u001b[49m\u001b[43mdevice\u001b[49m\u001b[38;5;241;43m=\u001b[39;49m\u001b[43mdevice\u001b[49m\u001b[43m,\u001b[49m\u001b[43mbatch\u001b[49m\u001b[38;5;241;43m=\u001b[39;49m\u001b[43mbatch\u001b[49m\u001b[43m,\u001b[49m\u001b[43mbatch_id\u001b[49m\u001b[38;5;241;43m=\u001b[39;49m\u001b[43mbatch_id\u001b[49m\u001b[43m,\u001b[49m\u001b[43moptimizer\u001b[49m\u001b[38;5;241;43m=\u001b[39;49m\u001b[43moptimizer\u001b[49m\u001b[43m,\u001b[49m\u001b[43mdataset_type\u001b[49m\u001b[38;5;241;43m=\u001b[39;49m\u001b[43mdataset_type\u001b[49m\u001b[43m,\u001b[49m\u001b[43m \u001b[49m\u001b[43mloss_function\u001b[49m\u001b[38;5;241;43m=\u001b[39;49m\u001b[43mloss_function\u001b[49m\u001b[43m,\u001b[49m\u001b[43mon_training\u001b[49m\u001b[38;5;241;43m=\u001b[39;49m\u001b[43mon_training\u001b[49m\u001b[43m)\u001b[49m\n\u001b[1;32m    125\u001b[0m     \u001b[38;5;28;01mif\u001b[39;00m batch_id \u001b[38;5;241m%\u001b[39m \u001b[38;5;241m100\u001b[39m \u001b[38;5;241m==\u001b[39m \u001b[38;5;241m0\u001b[39m: \n\u001b[1;32m    126\u001b[0m         \u001b[38;5;28mprint\u001b[39m(\u001b[38;5;124m\"\u001b[39m\u001b[38;5;124mtrain_loss = \u001b[39m\u001b[38;5;124m\"\u001b[39m,loss,\u001b[38;5;124m\"\u001b[39m\u001b[38;5;124m epoch = \u001b[39m\u001b[38;5;124m\"\u001b[39m,epoch,\u001b[38;5;124m\"\u001b[39m\u001b[38;5;124m batch_id = \u001b[39m\u001b[38;5;124m\"\u001b[39m,batch_id)\n",
      "Cell \u001b[0;32mIn[9], line 98\u001b[0m, in \u001b[0;36mone_batch\u001b[0;34m(model, model_name, epoch, device, batch, batch_id, optimizer, loss_function, dataset_type, mask_type, on_training)\u001b[0m\n\u001b[1;32m     96\u001b[0m \u001b[38;5;28;01mif\u001b[39;00m on_training:\n\u001b[1;32m     97\u001b[0m     optimizer\u001b[38;5;241m.\u001b[39mzero_grad()\n\u001b[0;32m---> 98\u001b[0m     \u001b[43mloss\u001b[49m\u001b[38;5;241;43m.\u001b[39;49m\u001b[43mbackward\u001b[49m\u001b[43m(\u001b[49m\u001b[43m)\u001b[49m\n\u001b[1;32m     99\u001b[0m     optimizer\u001b[38;5;241m.\u001b[39mstep()\n\u001b[1;32m    101\u001b[0m preds \u001b[38;5;241m=\u001b[39m preds\u001b[38;5;241m.\u001b[39margmax(dim\u001b[38;5;241m=\u001b[39m\u001b[38;5;241m1\u001b[39m)\n",
      "File \u001b[0;32m~/venv/prism-uda/lib/python3.8/site-packages/torch/tensor.py:221\u001b[0m, in \u001b[0;36mTensor.backward\u001b[0;34m(self, gradient, retain_graph, create_graph)\u001b[0m\n\u001b[1;32m    213\u001b[0m \u001b[38;5;28;01mif\u001b[39;00m \u001b[38;5;28mtype\u001b[39m(\u001b[38;5;28mself\u001b[39m) \u001b[38;5;129;01mis\u001b[39;00m \u001b[38;5;129;01mnot\u001b[39;00m Tensor \u001b[38;5;129;01mand\u001b[39;00m has_torch_function(relevant_args):\n\u001b[1;32m    214\u001b[0m     \u001b[38;5;28;01mreturn\u001b[39;00m handle_torch_function(\n\u001b[1;32m    215\u001b[0m         Tensor\u001b[38;5;241m.\u001b[39mbackward,\n\u001b[1;32m    216\u001b[0m         relevant_args,\n\u001b[0;32m   (...)\u001b[0m\n\u001b[1;32m    219\u001b[0m         retain_graph\u001b[38;5;241m=\u001b[39mretain_graph,\n\u001b[1;32m    220\u001b[0m         create_graph\u001b[38;5;241m=\u001b[39mcreate_graph)\n\u001b[0;32m--> 221\u001b[0m \u001b[43mtorch\u001b[49m\u001b[38;5;241;43m.\u001b[39;49m\u001b[43mautograd\u001b[49m\u001b[38;5;241;43m.\u001b[39;49m\u001b[43mbackward\u001b[49m\u001b[43m(\u001b[49m\u001b[38;5;28;43mself\u001b[39;49m\u001b[43m,\u001b[49m\u001b[43m \u001b[49m\u001b[43mgradient\u001b[49m\u001b[43m,\u001b[49m\u001b[43m \u001b[49m\u001b[43mretain_graph\u001b[49m\u001b[43m,\u001b[49m\u001b[43m \u001b[49m\u001b[43mcreate_graph\u001b[49m\u001b[43m)\u001b[49m\n",
      "File \u001b[0;32m~/venv/prism-uda/lib/python3.8/site-packages/torch/autograd/__init__.py:130\u001b[0m, in \u001b[0;36mbackward\u001b[0;34m(tensors, grad_tensors, retain_graph, create_graph, grad_variables)\u001b[0m\n\u001b[1;32m    127\u001b[0m \u001b[38;5;28;01mif\u001b[39;00m retain_graph \u001b[38;5;129;01mis\u001b[39;00m \u001b[38;5;28;01mNone\u001b[39;00m:\n\u001b[1;32m    128\u001b[0m     retain_graph \u001b[38;5;241m=\u001b[39m create_graph\n\u001b[0;32m--> 130\u001b[0m \u001b[43mVariable\u001b[49m\u001b[38;5;241;43m.\u001b[39;49m\u001b[43m_execution_engine\u001b[49m\u001b[38;5;241;43m.\u001b[39;49m\u001b[43mrun_backward\u001b[49m\u001b[43m(\u001b[49m\n\u001b[1;32m    131\u001b[0m \u001b[43m    \u001b[49m\u001b[43mtensors\u001b[49m\u001b[43m,\u001b[49m\u001b[43m \u001b[49m\u001b[43mgrad_tensors_\u001b[49m\u001b[43m,\u001b[49m\u001b[43m \u001b[49m\u001b[43mretain_graph\u001b[49m\u001b[43m,\u001b[49m\u001b[43m \u001b[49m\u001b[43mcreate_graph\u001b[49m\u001b[43m,\u001b[49m\n\u001b[1;32m    132\u001b[0m \u001b[43m    \u001b[49m\u001b[43mallow_unreachable\u001b[49m\u001b[38;5;241;43m=\u001b[39;49m\u001b[38;5;28;43;01mTrue\u001b[39;49;00m\u001b[43m)\u001b[49m\n",
      "\u001b[0;31mKeyboardInterrupt\u001b[0m: "
     ]
    }
   ],
   "source": [
    "train(model,50,1e-4,train_dl,val_dl,\"Refine\",\"i3\",\"colour\")"
   ]
  },
  {
   "cell_type": "code",
   "execution_count": null,
   "id": "c08dda92",
   "metadata": {},
   "outputs": [],
   "source": []
  }
 ],
 "metadata": {
  "kernelspec": {
   "display_name": "prism-uda",
   "language": "python",
   "name": "python3"
  },
  "language_info": {
   "codemirror_mode": {
    "name": "ipython",
    "version": 3
   },
   "file_extension": ".py",
   "mimetype": "text/x-python",
   "name": "python",
   "nbconvert_exporter": "python",
   "pygments_lexer": "ipython3",
   "version": "3.8.20"
  }
 },
 "nbformat": 4,
 "nbformat_minor": 5
}
