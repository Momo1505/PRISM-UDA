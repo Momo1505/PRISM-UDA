{
 "cells": [
  {
   "cell_type": "code",
   "execution_count": 7,
   "metadata": {},
   "outputs": [],
   "source": [
    "from mmcv import Config\n",
    "from mmseg.apis.inference import init_segmentor\n",
    "import torch\n",
    "import cv2\n",
    "import matplotlib.pyplot as plt\n",
    "import numpy as np"
   ]
  },
  {
   "cell_type": "code",
   "execution_count": 15,
   "metadata": {},
   "outputs": [
    {
     "name": "stderr",
     "output_type": "stream",
     "text": [
      "[ WARN:0@1723.686] global loadsave.cpp:268 findDecoder imread_('data/debug/pl_raffiné_0.png'): can't open/read file: check file path/integrity\n"
     ]
    }
   ],
   "source": [
    "path_raffiné = \"data/debug/pl_raffiné_0.png\"\n",
    "path_ema = \"data/debug/ema_iter_0.png\"\n",
    "path_gt_fine = \"data/cityscapes/gtFine/train/aachen/aachen_000000_000019_gtFine_color.png\"\n",
    "img_raffiné = cv2.imread(path_raffiné)\n",
    "img_ema = cv2.imread(path_ema)\n",
    "gt_fine = cv2.imread(path_gt_fine)"
   ]
  },
  {
   "cell_type": "code",
   "execution_count": null,
   "metadata": {},
   "outputs": [
    {
     "data": {
      "text/plain": [
       "array([  0,  11,  32,  35,  60,  64,  70,  80, 100, 102, 107, 119, 128,\n",
       "       130, 142, 153, 156, 180, 220, 230, 232, 244], dtype=uint8)"
      ]
     },
     "execution_count": 8,
     "metadata": {},
     "output_type": "execute_result"
    }
   ],
   "source": [
    "np.unique(img_raffiné)"
   ]
  },
  {
   "cell_type": "code",
   "execution_count": 16,
   "metadata": {},
   "outputs": [
    {
     "data": {
      "text/plain": [
       "array([  0,  11,  20,  32,  35,  60,  64,  70, 107, 119, 128, 130, 142,\n",
       "       152, 153, 180, 220, 232, 244, 251, 255], dtype=uint8)"
      ]
     },
     "execution_count": 16,
     "metadata": {},
     "output_type": "execute_result"
    }
   ],
   "source": [
    "np.unique(gt_fine)"
   ]
  }
 ],
 "metadata": {
  "kernelspec": {
   "display_name": "prism-uda",
   "language": "python",
   "name": "python3"
  },
  "language_info": {
   "codemirror_mode": {
    "name": "ipython",
    "version": 3
   },
   "file_extension": ".py",
   "mimetype": "text/x-python",
   "name": "python",
   "nbconvert_exporter": "python",
   "pygments_lexer": "ipython3",
   "version": "3.8.20"
  }
 },
 "nbformat": 4,
 "nbformat_minor": 2
}
