{
 "cells": [
  {
   "cell_type": "code",
   "execution_count": 1,
   "id": "e2dbec35ed8b9fe0",
   "metadata": {
    "ExecuteTime": {
     "end_time": "2025-05-08T14:18:48.486896Z",
     "start_time": "2025-05-08T14:18:47.289407Z"
    }
   },
   "outputs": [
    {
     "name": "stderr",
     "output_type": "stream",
     "text": [
      "/home/sow/venv/prism-uda/lib/python3.8/site-packages/tqdm/auto.py:21: TqdmWarning: IProgress not found. Please update jupyter and ipywidgets. See https://ipywidgets.readthedocs.io/en/stable/user_install.html\n",
      "  from .autonotebook import tqdm as notebook_tqdm\n"
     ]
    }
   ],
   "source": [
    "from torchvision import transforms\n",
    "from PIL import Image\n",
    "import numpy as np\n",
    "import matplotlib.pylab as plt\n",
    "from Datasets import RefinementDataset, GTADataset\n",
    "from mmseg.models.backbones.mix_transformer import MixVisionTransformer\n",
    "import torch\n",
    "import torch.nn as nn\n",
    "from torch.utils.data import Dataset,DataLoader\n",
    "import glob,os\n",
    "from mmcv import Config\n",
    "import cv2\n",
    "import random\n",
    "from Datasets import WeihToI3\n",
    "from models import TransUNetLike"
   ]
  },
  {
   "cell_type": "code",
   "execution_count": 2,
   "id": "cfd23594",
   "metadata": {},
   "outputs": [],
   "source": [
    "def extract_mix_redistribute_components(mask1: torch.Tensor, mask2: torch.Tensor, \n",
    "                                      shuffle: bool = True, \n",
    "                                      min_component_size: int = 10):\n",
    "    \"\"\"\n",
    "    Extract connected components from two masks, mix them, and redistribute into two new masks.\n",
    "    Optimized version using OpenCV for maximum performance.\n",
    "    \n",
    "    Args:\n",
    "        mask1 (torch.Tensor): First binary mask (any shape, will be squeezed to 2D)\n",
    "        mask2 (torch.Tensor): Second binary mask (any shape, will be squeezed to 2D)\n",
    "        shuffle (bool): Whether to randomly shuffle components before redistribution\n",
    "        min_component_size (int): Minimum size for a component to be kept\n",
    "    \n",
    "    Returns:\n",
    "        Tuple[torch.Tensor, torch.Tensor, Dict]: Two redistributed masks (same shape as input) and metadata\n",
    "    \"\"\"\n",
    "    # Handle tensor shapes - convert to numpy for processing\n",
    "    original_device = mask1.device\n",
    "    original_dtype = mask1.dtype\n",
    "    original_shape1 = mask1.shape\n",
    "    original_shape2 = mask2.shape\n",
    "    \n",
    "    if len(mask1.shape) > 2:\n",
    "        mask1 = mask1.squeeze()\n",
    "        mask2 = mask2.squeeze()\n",
    "    \n",
    "    # Convert to numpy for OpenCV processing\n",
    "    mask1_np = mask1.cpu().numpy().astype(np.uint8)\n",
    "    mask2_np = mask2.cpu().numpy().astype(np.uint8)\n",
    "    H, W = mask1_np.shape\n",
    "    \n",
    "    # Calculate different regions for efficient component extraction\n",
    "    mask1_only = mask1_np & (~mask2_np)\n",
    "    mask2_only = mask2_np & (~mask1_np)\n",
    "    intersection = mask1_np & mask2_np\n",
    "    \n",
    "    # Extract all components efficiently\n",
    "    all_components = []\n",
    "    component_metadata = []\n",
    "    \n",
    "    # Process each region separately for better performance\n",
    "    regions = [\n",
    "        (mask1_only, 'mask1_only'),\n",
    "        (mask2_only, 'mask2_only'), \n",
    "        (intersection, 'intersection')\n",
    "    ]\n",
    "    \n",
    "    for region_mask, source_name in regions:\n",
    "        if region_mask.sum() > 0:  # Only process if region has pixels\n",
    "            # OpenCV connected components - fastest method\n",
    "            num_labels, labels = cv2.connectedComponents(region_mask, connectivity=4)\n",
    "            \n",
    "            # Extract each component (skip label 0 which is background)\n",
    "            for label_id in range(1, num_labels):\n",
    "                component_mask = (labels == label_id).astype(np.uint8)\n",
    "                component_size = np.sum(component_mask)\n",
    "                \n",
    "                # Filter out small components\n",
    "                if component_size >= min_component_size:\n",
    "                    all_components.append(component_mask)\n",
    "                    component_metadata.append({\n",
    "                        'source': source_name,\n",
    "                        'size': component_size,\n",
    "                        'original_label': label_id\n",
    "                    })\n",
    "    \n",
    "    # Handle edge case: no components found\n",
    "    if len(all_components) == 0:\n",
    "        empty_mask = torch.zeros_like(mask1)\n",
    "        return empty_mask, empty_mask, {'total_components': 0, 'redistribution': []}\n",
    "    \n",
    "    # Shuffle components if requested\n",
    "    if shuffle:\n",
    "        combined_data = list(zip(all_components, component_metadata))\n",
    "        random.shuffle(combined_data)\n",
    "        all_components, component_metadata = zip(*combined_data)\n",
    "        all_components = list(all_components)\n",
    "        component_metadata = list(component_metadata)\n",
    "    \n",
    "    # Redistribute components into two masks\n",
    "    # Strategy: alternate assignment or use more sophisticated distribution\n",
    "    new_mask1 = np.zeros((H, W), dtype=np.uint8)\n",
    "    new_mask2 = np.zeros((H, W), dtype=np.uint8)\n",
    "    \n",
    "    redistribution_info = []\n",
    "    \n",
    "    # Alternate assignment for balanced distribution\n",
    "    for i, (component, metadata) in enumerate(zip(all_components, component_metadata)):\n",
    "        if i % 2 == 0:\n",
    "            new_mask1 |= component\n",
    "            assigned_to = 'mask1'\n",
    "        else:\n",
    "            new_mask2 |= component\n",
    "            assigned_to = 'mask2'\n",
    "        \n",
    "        redistribution_info.append({\n",
    "            'component_id': i,\n",
    "            'assigned_to': assigned_to,\n",
    "            'original_source': metadata['source'],\n",
    "            'size': metadata['size']\n",
    "        })\n",
    "    \n",
    "    # Convert back to torch tensors with original shape\n",
    "    result_mask1 = torch.from_numpy(new_mask1).to(original_device).to(original_dtype)\n",
    "    result_mask2 = torch.from_numpy(new_mask2).to(original_device).to(original_dtype)\n",
    "    \n",
    "    # Restore original shape if it was different (e.g., (1, H, W) -> (H, W) -> (1, H, W))\n",
    "    if len(original_shape1) != len(result_mask1.shape):\n",
    "        result_mask1 = result_mask1.view(original_shape1)\n",
    "        result_mask2 = result_mask2.view(original_shape2)\n",
    "    \n",
    "    # Prepare metadata\n",
    "    final_metadata = {\n",
    "        'total_components': len(all_components),\n",
    "        'redistribution': redistribution_info,\n",
    "        'mask1_components': sum(1 for info in redistribution_info if info['assigned_to'] == 'mask1'),\n",
    "        'mask2_components': sum(1 for info in redistribution_info if info['assigned_to'] == 'mask2'),\n",
    "        'total_pixels_mask1': int(result_mask1.sum()),\n",
    "        'total_pixels_mask2': int(result_mask2.sum())\n",
    "    }\n",
    "    \n",
    "    return result_mask1, result_mask2, final_metadata\n",
    "\n",
    "def batch_extract_mix_redistribute(batch_mask1: torch.Tensor, batch_mask2: torch.Tensor,\n",
    "                                 shuffle: bool = True, \n",
    "                                 min_component_size: int = 10) :\n",
    "    \"\"\"\n",
    "    Process a batch of mask pairs efficiently.\n",
    "    \n",
    "    Args:\n",
    "        batch_mask1 (torch.Tensor): Batch of first masks, shape (B, H, W) or (B, 1, H, W)\n",
    "        batch_mask2 (torch.Tensor): Batch of second masks, shape (B, H, W) or (B, 1, H, W)\n",
    "        shuffle (bool): Whether to randomly shuffle components before redistribution\n",
    "        min_component_size (int): Minimum size for a component to be kept\n",
    "    \n",
    "    Returns:\n",
    "        Tuple[torch.Tensor, torch.Tensor, List[Dict]]: Two batches of redistributed masks and metadata list\n",
    "    \"\"\"\n",
    "    batch_size = batch_mask1.shape[0]\n",
    "    \n",
    "    # Get the spatial dimensions\n",
    "    if len(batch_mask1.shape) == 4:  # (B, C, H, W)\n",
    "        _, _, H, W = batch_mask1.shape\n",
    "    else:  # (B, H, W)\n",
    "        _, H, W = batch_mask1.shape\n",
    "    \n",
    "    # Initialize output tensors\n",
    "    batch_result1 = torch.zeros((batch_size, H, W), \n",
    "                               dtype=batch_mask1.dtype, device=batch_mask1.device)\n",
    "    batch_result2 = torch.zeros((batch_size, H, W), \n",
    "                               dtype=batch_mask2.dtype, device=batch_mask2.device)\n",
    "    batch_metadata = []\n",
    "    \n",
    "    # Process each item in the batch\n",
    "    for i in range(batch_size):\n",
    "        mask1 = batch_mask1[i]\n",
    "        mask2 = batch_mask2[i]\n",
    "        \n",
    "        result1, result2, metadata = extract_mix_redistribute_components(\n",
    "            mask1, mask2, shuffle, min_component_size\n",
    "        )\n",
    "        \n",
    "        batch_result1[i] = result1\n",
    "        batch_result2[i] = result2\n",
    "        batch_metadata.append(metadata)\n",
    "    \n",
    "    return batch_result1, batch_result2\n"
   ]
  },
  {
   "cell_type": "code",
   "execution_count": 3,
   "id": "61e448af",
   "metadata": {},
   "outputs": [],
   "source": [
    "train_ds = WeihToI3(mode=\"train\")\n",
    "val_ds = WeihToI3(mode=\"val\")"
   ]
  },
  {
   "cell_type": "code",
   "execution_count": 4,
   "id": "c92911c8",
   "metadata": {},
   "outputs": [],
   "source": [
    "pl_image, sam_image, gt_image = train_ds[600]"
   ]
  },
  {
   "cell_type": "code",
   "execution_count": 5,
   "id": "33892f96",
   "metadata": {},
   "outputs": [],
   "source": [
    "model = TransUNetLike()"
   ]
  },
  {
   "cell_type": "code",
   "execution_count": 6,
   "id": "0ba24e8e",
   "metadata": {},
   "outputs": [
    {
     "data": {
      "text/plain": [
       "tensor([[[[ 0.2429,  0.0239,  0.2494,  ...,  0.1903,  0.2480,  0.3348],\n",
       "          [ 0.1346,  0.2812,  0.0965,  ...,  0.4050,  0.1434,  0.2686],\n",
       "          [ 0.2271,  0.1496,  0.1533,  ..., -0.0166, -0.0037,  0.3309],\n",
       "          ...,\n",
       "          [ 0.9724, -0.6865, -0.5408,  ..., -0.7651, -0.9192, -0.1383],\n",
       "          [ 0.8781, -0.9092, -0.9991,  ..., -0.7508, -0.0972, -0.2507],\n",
       "          [-0.2868, -1.4041, -1.0889,  ..., -1.3395, -0.2484,  0.1314]],\n",
       "\n",
       "         [[ 0.0744, -0.2873, -0.1618,  ..., -0.0826, -0.0359, -0.0271],\n",
       "          [-0.1673, -0.1545, -0.0998,  ...,  0.0629, -0.0659, -0.3080],\n",
       "          [-0.0557, -0.2075, -0.0802,  ..., -0.0685, -0.2020,  0.0294],\n",
       "          ...,\n",
       "          [ 0.3601,  0.6890,  0.7070,  ...,  0.7219,  0.6415, -0.7283],\n",
       "          [ 0.0695,  0.5571,  0.4870,  ...,  0.8708,  0.2947, -0.3493],\n",
       "          [ 0.3049,  0.6406,  0.6050,  ...,  0.3919,  0.1298, -0.0788]]]],\n",
       "       grad_fn=<MkldnnConvolutionBackward>)"
      ]
     },
     "execution_count": 6,
     "metadata": {},
     "output_type": "execute_result"
    }
   ],
   "source": [
    "model(pl_image.unsqueeze(1).float(),sam_image.unsqueeze(1).float())"
   ]
  },
  {
   "cell_type": "code",
   "execution_count": 66,
   "id": "cf144cc8",
   "metadata": {},
   "outputs": [],
   "source": [
    "result_mask1, result_mask2 = batch_extract_mix_redistribute(pl_image, sam_image)"
   ]
  },
  {
   "cell_type": "code",
   "execution_count": 67,
   "id": "2fe97e1e",
   "metadata": {},
   "outputs": [
    {
     "data": {
      "text/plain": [
       "(-0.5, 255.5, 255.5, -0.5)"
      ]
     },
     "execution_count": 67,
     "metadata": {},
     "output_type": "execute_result"
    },
    {
     "data": {
      "image/png": "[encoded data removed]",
      "text/plain": [
       "<Figure size 1600x800 with 6 Axes>"
      ]
     },
     "metadata": {},
     "output_type": "display_data"
    }
   ],
   "source": [
    "fig,axes = plt.subplots(2,3,figsize=(16,8))\n",
    "axes = axes.flatten()\n",
    "axes[0].imshow(pl_image.squeeze())\n",
    "axes[0].set_title(\"ema\")\n",
    "axes[0].axis(\"off\")\n",
    "axes[1].imshow(sam_image.squeeze())\n",
    "axes[1].set_title(\"sam\")\n",
    "axes[1].axis(\"off\")\n",
    "axes[2].imshow(gt_image.squeeze())\n",
    "axes[2].set_title(\"gt\")\n",
    "axes[2].axis(\"off\")\n",
    "axes[3].imshow(result_mask1.squeeze())\n",
    "axes[3].set_title(\"result_mask_1\")\n",
    "axes[3].axis(\"off\")\n",
    "axes[4].imshow(result_mask2.squeeze())\n",
    "axes[4].set_title(\"result_mask_2\")\n",
    "axes[4].axis(\"off\")\n",
    "axes[5].imshow(gt_image.squeeze())\n",
    "axes[5].set_title(\"gt\")\n",
    "axes[5].axis(\"off\")\n"
   ]
  },
  {
   "cell_type": "code",
   "execution_count": null,
   "id": "53256ad5",
   "metadata": {},
   "outputs": [],
   "source": []
  }
 ],
 "metadata": {
  "kernelspec": {
   "display_name": "prism-uda",
   "language": "python",
   "name": "python3"
  },
  "language_info": {
   "codemirror_mode": {
    "name": "ipython",
    "version": 3
   },
   "file_extension": ".py",
   "mimetype": "text/x-python",
   "name": "python",
   "nbconvert_exporter": "python",
   "pygments_lexer": "ipython3",
   "version": "3.8.20"
  }
 },
 "nbformat": 4,
 "nbformat_minor": 5
}
